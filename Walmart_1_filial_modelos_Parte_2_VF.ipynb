{
  "nbformat": 4,
  "nbformat_minor": 0,
  "metadata": {
    "colab": {
      "name": "Walmart_1_filial_modelos_Parte_2_3.ipynb",
      "provenance": [],
      "collapsed_sections": []
    },
    "kernelspec": {
      "name": "python3",
      "display_name": "Python 3"
    },
    "language_info": {
      "name": "python"
    }
  },
  "cells": [
    {
      "cell_type": "markdown",
      "source": [
        "### Função para reproducibilidade dos modelos"
      ],
      "metadata": {
        "id": "Aed6irbg_mEz"
      }
    },
    {
      "cell_type": "code",
      "source": [
        "def set_all_seeds():  \n",
        "  # Para reproducibilidade\n",
        "  # Seed value\n",
        "  # Apparently you may use different seed values at each stage\n",
        "  seed_value= 0\n",
        "\n",
        "  # 1. Set `PYTHONHASHSEED` environment variable at a fixed value\n",
        "  import os\n",
        "  os.environ['PYTHONHASHSEED']=str(seed_value)\n",
        "\n",
        "  # 2. Set `python` built-in pseudo-random generator at a fixed value\n",
        "  import random\n",
        "  random.seed(seed_value)\n",
        "\n",
        "  # 3. Set `numpy` pseudo-random generator at a fixed value\n",
        "  import numpy as np\n",
        "  np.random.seed(seed_value)\n",
        "\n",
        "  # 4. Set the `tensorflow` pseudo-random generator at a fixed value\n",
        "  import tensorflow as tf\n",
        "  tf.random.set_seed(seed_value)\n",
        "  # for later versions: \n",
        "  # tf.compat.v1.set_random_seed(seed_value)\n",
        "\n",
        "  # 5. Configure a new global `tensorflow` session\n",
        "  from keras import backend as K\n",
        "  # session_conf = tf.ConfigProto(intra_op_parallelism_threads=1, inter_op_parallelism_threads=1)\n",
        "  # sess = tf.Session(graph=tf.get_default_graph(), config=session_conf)\n",
        "  # K.set_session(sess)\n",
        "  # for later versions:\n",
        "  session_conf = tf.compat.v1.ConfigProto(intra_op_parallelism_threads=1, inter_op_parallelism_threads=1)\n",
        "  sess = tf.compat.v1.Session(graph=tf.compat.v1.get_default_graph(), config=session_conf)\n",
        "  tf.compat.v1.keras.backend.set_session(sess)"
      ],
      "metadata": {
        "id": "oOVOyGhb_lIC"
      },
      "execution_count": 135,
      "outputs": []
    },
    {
      "cell_type": "markdown",
      "source": [
        "#Importar base"
      ],
      "metadata": {
        "id": "72jPx3TBs__5"
      }
    },
    {
      "cell_type": "code",
      "execution_count": 6,
      "metadata": {
        "id": "IDxkefGJ2YfS"
      },
      "outputs": [],
      "source": [
        "# Importação dos pacotes\n",
        "\n",
        "import pandas as pd\n",
        "import numpy as np\n",
        "import calendar\n",
        "import seaborn as sns\n",
        "import matplotlib.pyplot as plt\n",
        "import datetime as dt\n",
        "from datetime import datetime\n",
        "\n",
        "import plotly.express as px\n",
        "from plotly.subplots import make_subplots\n",
        "import plotly.figure_factory as ff\n",
        "import plotly.offline as offline\n",
        "import plotly.graph_objs as go"
      ]
    },
    {
      "cell_type": "code",
      "source": [
        "df = pd.read_csv('Walmart.csv', header=0, parse_dates=True,squeeze=True) \n",
        "df.head()\n"
      ],
      "metadata": {
        "colab": {
          "base_uri": "https://localhost:8080/",
          "height": 206
        },
        "id": "siVQlOAa21Lr",
        "outputId": "e830fe92-9479-452a-f906-60cd5db1098c"
      },
      "execution_count": 7,
      "outputs": [
        {
          "output_type": "execute_result",
          "data": {
            "text/plain": [
              "   Store        Date  Weekly_Sales  Holiday_Flag  Temperature  Fuel_Price  \\\n",
              "0      1  05-02-2010    1643690.90             0        42.31       2.572   \n",
              "1      1  12-02-2010    1641957.44             1        38.51       2.548   \n",
              "2      1  19-02-2010    1611968.17             0        39.93       2.514   \n",
              "3      1  26-02-2010    1409727.59             0        46.63       2.561   \n",
              "4      1  05-03-2010    1554806.68             0        46.50       2.625   \n",
              "\n",
              "          CPI  Unemployment  \n",
              "0  211.096358         8.106  \n",
              "1  211.242170         8.106  \n",
              "2  211.289143         8.106  \n",
              "3  211.319643         8.106  \n",
              "4  211.350143         8.106  "
            ],
            "text/html": [
              "\n",
              "  <div id=\"df-1d6601ea-4e37-4bab-8361-0f114abf7d42\">\n",
              "    <div class=\"colab-df-container\">\n",
              "      <div>\n",
              "<style scoped>\n",
              "    .dataframe tbody tr th:only-of-type {\n",
              "        vertical-align: middle;\n",
              "    }\n",
              "\n",
              "    .dataframe tbody tr th {\n",
              "        vertical-align: top;\n",
              "    }\n",
              "\n",
              "    .dataframe thead th {\n",
              "        text-align: right;\n",
              "    }\n",
              "</style>\n",
              "<table border=\"1\" class=\"dataframe\">\n",
              "  <thead>\n",
              "    <tr style=\"text-align: right;\">\n",
              "      <th></th>\n",
              "      <th>Store</th>\n",
              "      <th>Date</th>\n",
              "      <th>Weekly_Sales</th>\n",
              "      <th>Holiday_Flag</th>\n",
              "      <th>Temperature</th>\n",
              "      <th>Fuel_Price</th>\n",
              "      <th>CPI</th>\n",
              "      <th>Unemployment</th>\n",
              "    </tr>\n",
              "  </thead>\n",
              "  <tbody>\n",
              "    <tr>\n",
              "      <th>0</th>\n",
              "      <td>1</td>\n",
              "      <td>05-02-2010</td>\n",
              "      <td>1643690.90</td>\n",
              "      <td>0</td>\n",
              "      <td>42.31</td>\n",
              "      <td>2.572</td>\n",
              "      <td>211.096358</td>\n",
              "      <td>8.106</td>\n",
              "    </tr>\n",
              "    <tr>\n",
              "      <th>1</th>\n",
              "      <td>1</td>\n",
              "      <td>12-02-2010</td>\n",
              "      <td>1641957.44</td>\n",
              "      <td>1</td>\n",
              "      <td>38.51</td>\n",
              "      <td>2.548</td>\n",
              "      <td>211.242170</td>\n",
              "      <td>8.106</td>\n",
              "    </tr>\n",
              "    <tr>\n",
              "      <th>2</th>\n",
              "      <td>1</td>\n",
              "      <td>19-02-2010</td>\n",
              "      <td>1611968.17</td>\n",
              "      <td>0</td>\n",
              "      <td>39.93</td>\n",
              "      <td>2.514</td>\n",
              "      <td>211.289143</td>\n",
              "      <td>8.106</td>\n",
              "    </tr>\n",
              "    <tr>\n",
              "      <th>3</th>\n",
              "      <td>1</td>\n",
              "      <td>26-02-2010</td>\n",
              "      <td>1409727.59</td>\n",
              "      <td>0</td>\n",
              "      <td>46.63</td>\n",
              "      <td>2.561</td>\n",
              "      <td>211.319643</td>\n",
              "      <td>8.106</td>\n",
              "    </tr>\n",
              "    <tr>\n",
              "      <th>4</th>\n",
              "      <td>1</td>\n",
              "      <td>05-03-2010</td>\n",
              "      <td>1554806.68</td>\n",
              "      <td>0</td>\n",
              "      <td>46.50</td>\n",
              "      <td>2.625</td>\n",
              "      <td>211.350143</td>\n",
              "      <td>8.106</td>\n",
              "    </tr>\n",
              "  </tbody>\n",
              "</table>\n",
              "</div>\n",
              "      <button class=\"colab-df-convert\" onclick=\"convertToInteractive('df-1d6601ea-4e37-4bab-8361-0f114abf7d42')\"\n",
              "              title=\"Convert this dataframe to an interactive table.\"\n",
              "              style=\"display:none;\">\n",
              "        \n",
              "  <svg xmlns=\"http://www.w3.org/2000/svg\" height=\"24px\"viewBox=\"0 0 24 24\"\n",
              "       width=\"24px\">\n",
              "    <path d=\"M0 0h24v24H0V0z\" fill=\"none\"/>\n",
              "    <path d=\"M18.56 5.44l.94 2.06.94-2.06 2.06-.94-2.06-.94-.94-2.06-.94 2.06-2.06.94zm-11 1L8.5 8.5l.94-2.06 2.06-.94-2.06-.94L8.5 2.5l-.94 2.06-2.06.94zm10 10l.94 2.06.94-2.06 2.06-.94-2.06-.94-.94-2.06-.94 2.06-2.06.94z\"/><path d=\"M17.41 7.96l-1.37-1.37c-.4-.4-.92-.59-1.43-.59-.52 0-1.04.2-1.43.59L10.3 9.45l-7.72 7.72c-.78.78-.78 2.05 0 2.83L4 21.41c.39.39.9.59 1.41.59.51 0 1.02-.2 1.41-.59l7.78-7.78 2.81-2.81c.8-.78.8-2.07 0-2.86zM5.41 20L4 18.59l7.72-7.72 1.47 1.35L5.41 20z\"/>\n",
              "  </svg>\n",
              "      </button>\n",
              "      \n",
              "  <style>\n",
              "    .colab-df-container {\n",
              "      display:flex;\n",
              "      flex-wrap:wrap;\n",
              "      gap: 12px;\n",
              "    }\n",
              "\n",
              "    .colab-df-convert {\n",
              "      background-color: #E8F0FE;\n",
              "      border: none;\n",
              "      border-radius: 50%;\n",
              "      cursor: pointer;\n",
              "      display: none;\n",
              "      fill: #1967D2;\n",
              "      height: 32px;\n",
              "      padding: 0 0 0 0;\n",
              "      width: 32px;\n",
              "    }\n",
              "\n",
              "    .colab-df-convert:hover {\n",
              "      background-color: #E2EBFA;\n",
              "      box-shadow: 0px 1px 2px rgba(60, 64, 67, 0.3), 0px 1px 3px 1px rgba(60, 64, 67, 0.15);\n",
              "      fill: #174EA6;\n",
              "    }\n",
              "\n",
              "    [theme=dark] .colab-df-convert {\n",
              "      background-color: #3B4455;\n",
              "      fill: #D2E3FC;\n",
              "    }\n",
              "\n",
              "    [theme=dark] .colab-df-convert:hover {\n",
              "      background-color: #434B5C;\n",
              "      box-shadow: 0px 1px 3px 1px rgba(0, 0, 0, 0.15);\n",
              "      filter: drop-shadow(0px 1px 2px rgba(0, 0, 0, 0.3));\n",
              "      fill: #FFFFFF;\n",
              "    }\n",
              "  </style>\n",
              "\n",
              "      <script>\n",
              "        const buttonEl =\n",
              "          document.querySelector('#df-1d6601ea-4e37-4bab-8361-0f114abf7d42 button.colab-df-convert');\n",
              "        buttonEl.style.display =\n",
              "          google.colab.kernel.accessAllowed ? 'block' : 'none';\n",
              "\n",
              "        async function convertToInteractive(key) {\n",
              "          const element = document.querySelector('#df-1d6601ea-4e37-4bab-8361-0f114abf7d42');\n",
              "          const dataTable =\n",
              "            await google.colab.kernel.invokeFunction('convertToInteractive',\n",
              "                                                     [key], {});\n",
              "          if (!dataTable) return;\n",
              "\n",
              "          const docLinkHtml = 'Like what you see? Visit the ' +\n",
              "            '<a target=\"_blank\" href=https://colab.research.google.com/notebooks/data_table.ipynb>data table notebook</a>'\n",
              "            + ' to learn more about interactive tables.';\n",
              "          element.innerHTML = '';\n",
              "          dataTable['output_type'] = 'display_data';\n",
              "          await google.colab.output.renderOutput(dataTable, element);\n",
              "          const docLink = document.createElement('div');\n",
              "          docLink.innerHTML = docLinkHtml;\n",
              "          element.appendChild(docLink);\n",
              "        }\n",
              "      </script>\n",
              "    </div>\n",
              "  </div>\n",
              "  "
            ]
          },
          "metadata": {},
          "execution_count": 7
        }
      ]
    },
    {
      "cell_type": "markdown",
      "source": [
        "#Modelagem da base - Separação da store 1 e vendas semanais"
      ],
      "metadata": {
        "id": "YFnZL7jT8qVs"
      }
    },
    {
      "cell_type": "code",
      "source": [
        "df = df[(df['Store'] == 1)]\n",
        "df"
      ],
      "metadata": {
        "id": "pxunDUGu3sp5",
        "colab": {
          "base_uri": "https://localhost:8080/",
          "height": 424
        },
        "outputId": "605c5e92-fa80-4cb0-9ab8-0da80ef02c3c"
      },
      "execution_count": 8,
      "outputs": [
        {
          "output_type": "execute_result",
          "data": {
            "text/plain": [
              "     Store        Date  Weekly_Sales  Holiday_Flag  Temperature  Fuel_Price  \\\n",
              "0        1  05-02-2010    1643690.90             0        42.31       2.572   \n",
              "1        1  12-02-2010    1641957.44             1        38.51       2.548   \n",
              "2        1  19-02-2010    1611968.17             0        39.93       2.514   \n",
              "3        1  26-02-2010    1409727.59             0        46.63       2.561   \n",
              "4        1  05-03-2010    1554806.68             0        46.50       2.625   \n",
              "..     ...         ...           ...           ...          ...         ...   \n",
              "138      1  28-09-2012    1437059.26             0        76.08       3.666   \n",
              "139      1  05-10-2012    1670785.97             0        68.55       3.617   \n",
              "140      1  12-10-2012    1573072.81             0        62.99       3.601   \n",
              "141      1  19-10-2012    1508068.77             0        67.97       3.594   \n",
              "142      1  26-10-2012    1493659.74             0        69.16       3.506   \n",
              "\n",
              "            CPI  Unemployment  \n",
              "0    211.096358         8.106  \n",
              "1    211.242170         8.106  \n",
              "2    211.289143         8.106  \n",
              "3    211.319643         8.106  \n",
              "4    211.350143         8.106  \n",
              "..          ...           ...  \n",
              "138  222.981658         6.908  \n",
              "139  223.181477         6.573  \n",
              "140  223.381296         6.573  \n",
              "141  223.425723         6.573  \n",
              "142  223.444251         6.573  \n",
              "\n",
              "[143 rows x 8 columns]"
            ],
            "text/html": [
              "\n",
              "  <div id=\"df-c2603b5d-1743-402a-9e5f-af8a4bf3184e\">\n",
              "    <div class=\"colab-df-container\">\n",
              "      <div>\n",
              "<style scoped>\n",
              "    .dataframe tbody tr th:only-of-type {\n",
              "        vertical-align: middle;\n",
              "    }\n",
              "\n",
              "    .dataframe tbody tr th {\n",
              "        vertical-align: top;\n",
              "    }\n",
              "\n",
              "    .dataframe thead th {\n",
              "        text-align: right;\n",
              "    }\n",
              "</style>\n",
              "<table border=\"1\" class=\"dataframe\">\n",
              "  <thead>\n",
              "    <tr style=\"text-align: right;\">\n",
              "      <th></th>\n",
              "      <th>Store</th>\n",
              "      <th>Date</th>\n",
              "      <th>Weekly_Sales</th>\n",
              "      <th>Holiday_Flag</th>\n",
              "      <th>Temperature</th>\n",
              "      <th>Fuel_Price</th>\n",
              "      <th>CPI</th>\n",
              "      <th>Unemployment</th>\n",
              "    </tr>\n",
              "  </thead>\n",
              "  <tbody>\n",
              "    <tr>\n",
              "      <th>0</th>\n",
              "      <td>1</td>\n",
              "      <td>05-02-2010</td>\n",
              "      <td>1643690.90</td>\n",
              "      <td>0</td>\n",
              "      <td>42.31</td>\n",
              "      <td>2.572</td>\n",
              "      <td>211.096358</td>\n",
              "      <td>8.106</td>\n",
              "    </tr>\n",
              "    <tr>\n",
              "      <th>1</th>\n",
              "      <td>1</td>\n",
              "      <td>12-02-2010</td>\n",
              "      <td>1641957.44</td>\n",
              "      <td>1</td>\n",
              "      <td>38.51</td>\n",
              "      <td>2.548</td>\n",
              "      <td>211.242170</td>\n",
              "      <td>8.106</td>\n",
              "    </tr>\n",
              "    <tr>\n",
              "      <th>2</th>\n",
              "      <td>1</td>\n",
              "      <td>19-02-2010</td>\n",
              "      <td>1611968.17</td>\n",
              "      <td>0</td>\n",
              "      <td>39.93</td>\n",
              "      <td>2.514</td>\n",
              "      <td>211.289143</td>\n",
              "      <td>8.106</td>\n",
              "    </tr>\n",
              "    <tr>\n",
              "      <th>3</th>\n",
              "      <td>1</td>\n",
              "      <td>26-02-2010</td>\n",
              "      <td>1409727.59</td>\n",
              "      <td>0</td>\n",
              "      <td>46.63</td>\n",
              "      <td>2.561</td>\n",
              "      <td>211.319643</td>\n",
              "      <td>8.106</td>\n",
              "    </tr>\n",
              "    <tr>\n",
              "      <th>4</th>\n",
              "      <td>1</td>\n",
              "      <td>05-03-2010</td>\n",
              "      <td>1554806.68</td>\n",
              "      <td>0</td>\n",
              "      <td>46.50</td>\n",
              "      <td>2.625</td>\n",
              "      <td>211.350143</td>\n",
              "      <td>8.106</td>\n",
              "    </tr>\n",
              "    <tr>\n",
              "      <th>...</th>\n",
              "      <td>...</td>\n",
              "      <td>...</td>\n",
              "      <td>...</td>\n",
              "      <td>...</td>\n",
              "      <td>...</td>\n",
              "      <td>...</td>\n",
              "      <td>...</td>\n",
              "      <td>...</td>\n",
              "    </tr>\n",
              "    <tr>\n",
              "      <th>138</th>\n",
              "      <td>1</td>\n",
              "      <td>28-09-2012</td>\n",
              "      <td>1437059.26</td>\n",
              "      <td>0</td>\n",
              "      <td>76.08</td>\n",
              "      <td>3.666</td>\n",
              "      <td>222.981658</td>\n",
              "      <td>6.908</td>\n",
              "    </tr>\n",
              "    <tr>\n",
              "      <th>139</th>\n",
              "      <td>1</td>\n",
              "      <td>05-10-2012</td>\n",
              "      <td>1670785.97</td>\n",
              "      <td>0</td>\n",
              "      <td>68.55</td>\n",
              "      <td>3.617</td>\n",
              "      <td>223.181477</td>\n",
              "      <td>6.573</td>\n",
              "    </tr>\n",
              "    <tr>\n",
              "      <th>140</th>\n",
              "      <td>1</td>\n",
              "      <td>12-10-2012</td>\n",
              "      <td>1573072.81</td>\n",
              "      <td>0</td>\n",
              "      <td>62.99</td>\n",
              "      <td>3.601</td>\n",
              "      <td>223.381296</td>\n",
              "      <td>6.573</td>\n",
              "    </tr>\n",
              "    <tr>\n",
              "      <th>141</th>\n",
              "      <td>1</td>\n",
              "      <td>19-10-2012</td>\n",
              "      <td>1508068.77</td>\n",
              "      <td>0</td>\n",
              "      <td>67.97</td>\n",
              "      <td>3.594</td>\n",
              "      <td>223.425723</td>\n",
              "      <td>6.573</td>\n",
              "    </tr>\n",
              "    <tr>\n",
              "      <th>142</th>\n",
              "      <td>1</td>\n",
              "      <td>26-10-2012</td>\n",
              "      <td>1493659.74</td>\n",
              "      <td>0</td>\n",
              "      <td>69.16</td>\n",
              "      <td>3.506</td>\n",
              "      <td>223.444251</td>\n",
              "      <td>6.573</td>\n",
              "    </tr>\n",
              "  </tbody>\n",
              "</table>\n",
              "<p>143 rows × 8 columns</p>\n",
              "</div>\n",
              "      <button class=\"colab-df-convert\" onclick=\"convertToInteractive('df-c2603b5d-1743-402a-9e5f-af8a4bf3184e')\"\n",
              "              title=\"Convert this dataframe to an interactive table.\"\n",
              "              style=\"display:none;\">\n",
              "        \n",
              "  <svg xmlns=\"http://www.w3.org/2000/svg\" height=\"24px\"viewBox=\"0 0 24 24\"\n",
              "       width=\"24px\">\n",
              "    <path d=\"M0 0h24v24H0V0z\" fill=\"none\"/>\n",
              "    <path d=\"M18.56 5.44l.94 2.06.94-2.06 2.06-.94-2.06-.94-.94-2.06-.94 2.06-2.06.94zm-11 1L8.5 8.5l.94-2.06 2.06-.94-2.06-.94L8.5 2.5l-.94 2.06-2.06.94zm10 10l.94 2.06.94-2.06 2.06-.94-2.06-.94-.94-2.06-.94 2.06-2.06.94z\"/><path d=\"M17.41 7.96l-1.37-1.37c-.4-.4-.92-.59-1.43-.59-.52 0-1.04.2-1.43.59L10.3 9.45l-7.72 7.72c-.78.78-.78 2.05 0 2.83L4 21.41c.39.39.9.59 1.41.59.51 0 1.02-.2 1.41-.59l7.78-7.78 2.81-2.81c.8-.78.8-2.07 0-2.86zM5.41 20L4 18.59l7.72-7.72 1.47 1.35L5.41 20z\"/>\n",
              "  </svg>\n",
              "      </button>\n",
              "      \n",
              "  <style>\n",
              "    .colab-df-container {\n",
              "      display:flex;\n",
              "      flex-wrap:wrap;\n",
              "      gap: 12px;\n",
              "    }\n",
              "\n",
              "    .colab-df-convert {\n",
              "      background-color: #E8F0FE;\n",
              "      border: none;\n",
              "      border-radius: 50%;\n",
              "      cursor: pointer;\n",
              "      display: none;\n",
              "      fill: #1967D2;\n",
              "      height: 32px;\n",
              "      padding: 0 0 0 0;\n",
              "      width: 32px;\n",
              "    }\n",
              "\n",
              "    .colab-df-convert:hover {\n",
              "      background-color: #E2EBFA;\n",
              "      box-shadow: 0px 1px 2px rgba(60, 64, 67, 0.3), 0px 1px 3px 1px rgba(60, 64, 67, 0.15);\n",
              "      fill: #174EA6;\n",
              "    }\n",
              "\n",
              "    [theme=dark] .colab-df-convert {\n",
              "      background-color: #3B4455;\n",
              "      fill: #D2E3FC;\n",
              "    }\n",
              "\n",
              "    [theme=dark] .colab-df-convert:hover {\n",
              "      background-color: #434B5C;\n",
              "      box-shadow: 0px 1px 3px 1px rgba(0, 0, 0, 0.15);\n",
              "      filter: drop-shadow(0px 1px 2px rgba(0, 0, 0, 0.3));\n",
              "      fill: #FFFFFF;\n",
              "    }\n",
              "  </style>\n",
              "\n",
              "      <script>\n",
              "        const buttonEl =\n",
              "          document.querySelector('#df-c2603b5d-1743-402a-9e5f-af8a4bf3184e button.colab-df-convert');\n",
              "        buttonEl.style.display =\n",
              "          google.colab.kernel.accessAllowed ? 'block' : 'none';\n",
              "\n",
              "        async function convertToInteractive(key) {\n",
              "          const element = document.querySelector('#df-c2603b5d-1743-402a-9e5f-af8a4bf3184e');\n",
              "          const dataTable =\n",
              "            await google.colab.kernel.invokeFunction('convertToInteractive',\n",
              "                                                     [key], {});\n",
              "          if (!dataTable) return;\n",
              "\n",
              "          const docLinkHtml = 'Like what you see? Visit the ' +\n",
              "            '<a target=\"_blank\" href=https://colab.research.google.com/notebooks/data_table.ipynb>data table notebook</a>'\n",
              "            + ' to learn more about interactive tables.';\n",
              "          element.innerHTML = '';\n",
              "          dataTable['output_type'] = 'display_data';\n",
              "          await google.colab.output.renderOutput(dataTable, element);\n",
              "          const docLink = document.createElement('div');\n",
              "          docLink.innerHTML = docLinkHtml;\n",
              "          element.appendChild(docLink);\n",
              "        }\n",
              "      </script>\n",
              "    </div>\n",
              "  </div>\n",
              "  "
            ]
          },
          "metadata": {},
          "execution_count": 8
        }
      ]
    },
    {
      "cell_type": "code",
      "source": [
        "df=df[df['Store']==1][['Date','Weekly_Sales','Holiday_Flag','Temperature','Fuel_Price','CPI','Unemployment']]\n",
        "\n",
        "df=df.set_index('Date')"
      ],
      "metadata": {
        "id": "Gaz40jDhegQR"
      },
      "execution_count": 9,
      "outputs": []
    },
    {
      "cell_type": "code",
      "source": [
        "# elimina os warnings das bibliotecas\n",
        "\n",
        "import warnings\n",
        "warnings.filterwarnings(\"ignore\")\n",
        "from pandas.plotting import autocorrelation_plot\n",
        "from matplotlib import pyplot\n",
        "autocorrelation_plot(df)\n",
        "pyplot.show()"
      ],
      "metadata": {
        "id": "Srflbdu3guqI",
        "colab": {
          "base_uri": "https://localhost:8080/",
          "height": 283
        },
        "outputId": "f18dc343-9e46-4b31-c996-200043ae87f1"
      },
      "execution_count": 10,
      "outputs": [
        {
          "output_type": "display_data",
          "data": {
            "text/plain": [
              "<Figure size 432x288 with 1 Axes>"
            ],
            "image/png": "[encoded data removed]"
          },
          "metadata": {
            "needs_background": "light"
          }
        }
      ]
    },
    {
      "cell_type": "code",
      "source": [
        "import pandas.util.testing as tm\n",
        "from statsmodels.graphics.tsaplots import plot_acf\n",
        "from statsmodels.graphics.tsaplots import plot_pacf\n",
        "from matplotlib import pyplot"
      ],
      "metadata": {
        "id": "KR0MAcNtuKNL"
      },
      "execution_count": 11,
      "outputs": []
    },
    {
      "cell_type": "code",
      "source": [
        "window = 20\n",
        "dataSize = len(df)\n",
        "x = []\n",
        "y = []\n",
        "\n",
        "for i in range(window, dataSize):\n",
        "    x.append(list(df.iloc[i-window:i,0]) + \n",
        "             list(df.iloc[i-window:i,1]) +\n",
        "             list(df.iloc[i-window:i,2]) +\n",
        "             list(df.iloc[i-window:i,3]) +\n",
        "             list(df.iloc[i-window:i,4]) +\n",
        "             list(df.iloc[i-window:i,5])\n",
        "            )\n",
        "    y.append(df.iloc[i,0])  \n",
        "\n",
        "x, y = np.array(x), np.array(y)"
      ],
      "metadata": {
        "id": "a9YdT-3sm3hc"
      },
      "execution_count": 12,
      "outputs": []
    },
    {
      "cell_type": "code",
      "source": [
        "print(x.shape)\n",
        "print(y.shape)"
      ],
      "metadata": {
        "id": "YT11Pq_am6UE",
        "colab": {
          "base_uri": "https://localhost:8080/"
        },
        "outputId": "cedb0052-3500-401f-f69e-288e9f2ed7f1"
      },
      "execution_count": 13,
      "outputs": [
        {
          "output_type": "stream",
          "name": "stdout",
          "text": [
            "(123, 120)\n",
            "(123,)\n"
          ]
        }
      ]
    },
    {
      "cell_type": "code",
      "source": [
        "import random\n",
        "np.random.seed(0) #semente inicial (reprodução de resultados)"
      ],
      "metadata": {
        "id": "kJqnFi4XnJFk"
      },
      "execution_count": 14,
      "outputs": []
    },
    {
      "cell_type": "markdown",
      "source": [
        "#Separação entre Treino e Teste   \n",
        "#Normalização\n",
        "\n"
      ],
      "metadata": {
        "id": "FSrBod6dMUm0"
      }
    },
    {
      "cell_type": "code",
      "source": [
        "from sklearn.model_selection import train_test_split\n",
        "from sklearn.preprocessing import StandardScaler\n",
        "x_train, x_test, y_train, y_test = train_test_split(x, y, test_size=0.2)"
      ],
      "metadata": {
        "id": "q1z4C-r6nLyj"
      },
      "execution_count": 15,
      "outputs": []
    },
    {
      "cell_type": "code",
      "source": [
        "n_exogens = 6       # quantidade de séries exógenas\n",
        "x_train_4norm = x_train.reshape(-1,n_exogens,window)\n",
        "\n",
        "scalers = {}\n",
        "for i in range(n_exogens):\n",
        "    scalers[i] = StandardScaler()\n",
        "    x_train_4norm[:, i, :] = scalers[i].fit_transform(x_train_4norm[:, i, :])\n",
        "x_train = x_train_4norm.reshape(-1,(n_exogens*window))"
      ],
      "metadata": {
        "id": "J-x_BgisjftE"
      },
      "execution_count": 16,
      "outputs": []
    },
    {
      "cell_type": "code",
      "source": [
        "x_test_4norm = x_test.reshape(-1,n_exogens,window)\n",
        "\n",
        "for i in range(n_exogens):\n",
        "    x_test_4norm[:, i, :] = scalers[i].transform(x_test_4norm[:, i, :])\n",
        "x_test = x_test_4norm.reshape(-1,(n_exogens*window))"
      ],
      "metadata": {
        "id": "IGKVi8henA0w"
      },
      "execution_count": 17,
      "outputs": []
    },
    {
      "cell_type": "code",
      "source": [
        "#normalizar\n",
        "# from sklearn.preprocessing import StandardScaler\n",
        "\n",
        "# scaler_x = StandardScaler().fit(x_train)\n",
        "# x_train = scaler_x.transform(x_train)\n",
        "# x_test = scaler_x.transform(x_test)\n",
        "scaler_y = StandardScaler().fit(y_train.reshape(-1,1))\n",
        "y_train = scaler_y.transform(y_train.reshape(-1,1))\n",
        "y_test = scaler_y.transform(y_test.reshape(-1,1))"
      ],
      "metadata": {
        "id": "QwBi9ReOge6F"
      },
      "execution_count": 18,
      "outputs": []
    },
    {
      "cell_type": "markdown",
      "source": [
        "#Modelo Random Forest"
      ],
      "metadata": {
        "id": "KGrlO6CmMeYu"
      }
    },
    {
      "cell_type": "code",
      "source": [
        "from sklearn.ensemble import RandomForestRegressor\n",
        "regressor = RandomForestRegressor(n_estimators = 10, random_state=0)\n",
        "regressor.fit(x_train, y_train);"
      ],
      "metadata": {
        "id": "6JzGJ6a-nNRC"
      },
      "execution_count": 19,
      "outputs": []
    },
    {
      "cell_type": "code",
      "source": [
        "y_pred = regressor.predict(x_test)\n",
        "y_pred[0:5]"
      ],
      "metadata": {
        "id": "VwKYHOFPnPkb",
        "colab": {
          "base_uri": "https://localhost:8080/"
        },
        "outputId": "86602881-df6f-40f3-c398-06399df743a1"
      },
      "execution_count": 20,
      "outputs": [
        {
          "output_type": "execute_result",
          "data": {
            "text/plain": [
              "array([ 0.0282225 ,  0.30597327, -0.23152058,  0.17311729, -0.79945575])"
            ]
          },
          "metadata": {},
          "execution_count": 20
        }
      ]
    },
    {
      "cell_type": "code",
      "source": [
        "y_prev = scaler_y.inverse_transform(y_pred.reshape(-1,1))\n",
        "y_real = scaler_y.inverse_transform(y_test.reshape(-1,1))"
      ],
      "metadata": {
        "id": "QCq-d-dExgUf"
      },
      "execution_count": 21,
      "outputs": []
    },
    {
      "cell_type": "code",
      "source": [
        "plt.plot(y_prev, label='previsto', marker='o')\n",
        "plt.plot(y_real, label='real', marker='+')\n",
        "plt.ylabel(\"vendas\")\n",
        "plt.title(\"Walmart vendas - Real x Previsto\")\n",
        "plt.legend()\n",
        "plt.show()"
      ],
      "metadata": {
        "id": "UghVKwbnnRSD",
        "colab": {
          "base_uri": "https://localhost:8080/",
          "height": 281
        },
        "outputId": "8a33a90a-00ec-4a4a-e47f-469b96e0c4b9"
      },
      "execution_count": 22,
      "outputs": [
        {
          "output_type": "display_data",
          "data": {
            "text/plain": [
              "<Figure size 432x288 with 1 Axes>"
            ],
            "image/png": "[encoded data removed]"
          },
          "metadata": {
            "needs_background": "light"
          }
        }
      ]
    },
    {
      "cell_type": "code",
      "source": [
        "import math\n",
        "from sklearn.metrics import mean_squared_error\n",
        "rmse = math.sqrt(mean_squared_error(y_prev,y_real))\n",
        "print('RMSE: ', rmse)"
      ],
      "metadata": {
        "id": "Z-kpWU3onZ6L",
        "colab": {
          "base_uri": "https://localhost:8080/"
        },
        "outputId": "99f808ca-0b7e-4957-d9af-27c0e0846349"
      },
      "execution_count": 23,
      "outputs": [
        {
          "output_type": "stream",
          "name": "stdout",
          "text": [
            "RMSE:  163645.05497855233\n"
          ]
        }
      ]
    },
    {
      "cell_type": "code",
      "source": [
        "# 26779704018.933414\n",
        "# 13907932487.546913\n",
        "mse = mean_squared_error(y_prev,y_real)\n",
        "print('MSE: ',mse)"
      ],
      "metadata": {
        "id": "R-EZIWquncyK",
        "colab": {
          "base_uri": "https://localhost:8080/"
        },
        "outputId": "7a6f893b-7830-4f37-90a9-fb3eb129ddb3"
      },
      "execution_count": 24,
      "outputs": [
        {
          "output_type": "stream",
          "name": "stdout",
          "text": [
            "MSE:  26779704018.933414\n"
          ]
        }
      ]
    },
    {
      "cell_type": "code",
      "source": [
        "mape = np.mean(np.abs((y_real - y_prev) / y_real)) * 100\n",
        "print('MAPE: ',mape, '%')"
      ],
      "metadata": {
        "id": "j2NlZsFVnfeu",
        "colab": {
          "base_uri": "https://localhost:8080/"
        },
        "outputId": "1d6f2ee8-52dc-4ac3-bb9d-aaef3bd47880"
      },
      "execution_count": 25,
      "outputs": [
        {
          "output_type": "stream",
          "name": "stdout",
          "text": [
            "MAPE:  5.764193008350617 %\n"
          ]
        }
      ]
    },
    {
      "cell_type": "code",
      "source": [
        "from sklearn.metrics import r2_score\n",
        "r2_score(y_prev,y_real)"
      ],
      "metadata": {
        "id": "dxFvx1O0nhoC",
        "colab": {
          "base_uri": "https://localhost:8080/"
        },
        "outputId": "6f65a59d-c2ee-4449-e3de-b236e689da92"
      },
      "execution_count": 26,
      "outputs": [
        {
          "output_type": "execute_result",
          "data": {
            "text/plain": [
              "-2.051266650416047"
            ]
          },
          "metadata": {},
          "execution_count": 26
        }
      ]
    },
    {
      "cell_type": "code",
      "source": [
        "rmspe = np.sqrt(np.mean(np.square(((y_real - y_prev) / y_real)), axis=0)) * 100\n",
        "print('rmspe: ',rmspe, '%')"
      ],
      "metadata": {
        "id": "TFzOew6tLi_D",
        "colab": {
          "base_uri": "https://localhost:8080/"
        },
        "outputId": "8a8d9091-5d88-42c0-aa58-def5c911f2fe"
      },
      "execution_count": 27,
      "outputs": [
        {
          "output_type": "stream",
          "name": "stdout",
          "text": [
            "rmspe:  [8.51515159] %\n"
          ]
        }
      ]
    },
    {
      "cell_type": "code",
      "source": [
        "#prevendo 12 passos a frente\n",
        "timesteps_to_predict = 12\n",
        "df_lag = df.iloc[-window:,:]\n",
        "lag = []\n",
        "for i in range(window, len(df_lag)+1):\n",
        "    lag.append(list(df_lag.iloc[i-window:i,0]) + \n",
        "              list(df_lag.iloc[i-window:i,1]) +\n",
        "              list(df_lag.iloc[i-window:i,2]) +\n",
        "              list(df_lag.iloc[i-window:i,3]) +\n",
        "              list(df_lag.iloc[i-window:i,4]) +\n",
        "              list(df_lag.iloc[i-window:i,5])\n",
        "              )\n",
        "lag = np.array(lag)\n",
        "\n",
        "predictions=[]\n",
        "for i in range(timesteps_to_predict):\n",
        "  lag_4norm = lag.reshape(-1,n_exogens,window)\n",
        "  for i in range(n_exogens):\n",
        "      lag_4norm[:, i, :] = scalers[i].transform(lag_4norm[:, i, :])\n",
        "  lag = lag_4norm.reshape(-1,(n_exogens*window))\n",
        "  \n",
        "  prediction = regressor.predict(lag)\n",
        "  prediction_to_add = scaler_y.inverse_transform(prediction.reshape(-1,1)) #scaler_y\n",
        "  predictions.append(prediction_to_add)\n",
        "\n",
        "  lag_4norm = lag_4norm.reshape(-1,n_exogens,window)\n",
        "  for i in range(n_exogens):\n",
        "      lag_4norm[:, i, :] = scalers[i].inverse_transform(lag_4norm[:, i, :])\n",
        "  lag = lag_4norm.reshape(-1,(n_exogens*window))\n",
        "\n",
        "  # break\n",
        "\n",
        "  lag = lag[0, 1:]\n",
        "  lag = np.insert(lag, window-1, prediction_to_add)   \n",
        "#   lag = np.append(lag, prediction_to_add)\n",
        "\n",
        "predictions = np.array(predictions).reshape(-1)"
      ],
      "metadata": {
        "id": "AzAWehG8sp7k"
      },
      "execution_count": 28,
      "outputs": []
    },
    {
      "cell_type": "code",
      "source": [
        "all_data = np.vstack((df.iloc[:,0].values.tolist() + predictions.tolist()))\n",
        "plt.figure(figsize=(10,5))\n",
        "plt.plot(all_data)\n",
        "plt.title('Previsão de série temporal')\n",
        "plt.xlabel('Tempo')\n",
        "plt.ylabel('vendas')\n",
        "\n",
        "# marca o início das previsões\n",
        "x = [len(df)-1, len(df)-1]\n",
        "y = [df['Weekly_Sales'].min(), df['Weekly_Sales'].max()]\n",
        "plt.plot(x, y, color='red')\n",
        "\n",
        "#salva o gráfico\n",
        "plt.show()"
      ],
      "metadata": {
        "id": "d4oUtL28oIcL",
        "colab": {
          "base_uri": "https://localhost:8080/",
          "height": 350
        },
        "outputId": "f1b931ed-0784-41bd-8778-6e2896841c02"
      },
      "execution_count": 29,
      "outputs": [
        {
          "output_type": "display_data",
          "data": {
            "text/plain": [
              "<Figure size 720x360 with 1 Axes>"
            ],
            "image/png": "[encoded data removed]"
          },
          "metadata": {
            "needs_background": "light"
          }
        }
      ]
    },
    {
      "cell_type": "markdown",
      "source": [
        "#Modelo Decision Tree"
      ],
      "metadata": {
        "id": "abfgSDIDMtEa"
      }
    },
    {
      "cell_type": "code",
      "source": [
        "from sklearn.tree import DecisionTreeRegressor\n",
        "regressor1 = DecisionTreeRegressor()\n",
        "regressor1.fit(x_train, y_train);"
      ],
      "metadata": {
        "id": "_VHqAwchoSWz"
      },
      "execution_count": 30,
      "outputs": []
    },
    {
      "cell_type": "code",
      "source": [
        "y_pred1 = regressor1.predict(x_test)\n",
        "y_pred1[0:5]"
      ],
      "metadata": {
        "id": "taorW2fQoVAr",
        "colab": {
          "base_uri": "https://localhost:8080/"
        },
        "outputId": "de4397db-1747-4cda-df3b-bc24e84b3e5f"
      },
      "execution_count": 31,
      "outputs": [
        {
          "output_type": "execute_result",
          "data": {
            "text/plain": [
              "array([ 1.76016115,  0.31675821, -0.27104856,  0.22713733, -0.33605295])"
            ]
          },
          "metadata": {},
          "execution_count": 31
        }
      ]
    },
    {
      "cell_type": "code",
      "source": [
        "y_prev1 = scaler_y.inverse_transform(y_pred1.reshape(-1,1))\n",
        "y_real1 = scaler_y.inverse_transform(y_test.reshape(-1,1))"
      ],
      "metadata": {
        "id": "PHeU9agfSCON"
      },
      "execution_count": 32,
      "outputs": []
    },
    {
      "cell_type": "code",
      "source": [
        "plt.plot(y_prev1, label='previsto', marker='o')\n",
        "plt.plot(y_real1, label='real', marker='+')\n",
        "plt.ylabel(\"vendas\")\n",
        "plt.title(\"Walmart vendas - Real x Previsto\")\n",
        "plt.legend()\n",
        "plt.show()"
      ],
      "metadata": {
        "id": "8-OvMovRpygj",
        "colab": {
          "base_uri": "https://localhost:8080/",
          "height": 281
        },
        "outputId": "251fad31-989b-4ccb-f45e-9682bd0ab5db"
      },
      "execution_count": 33,
      "outputs": [
        {
          "output_type": "display_data",
          "data": {
            "text/plain": [
              "<Figure size 432x288 with 1 Axes>"
            ],
            "image/png": "[encoded data removed]"
          },
          "metadata": {
            "needs_background": "light"
          }
        }
      ]
    },
    {
      "cell_type": "code",
      "source": [
        "import math\n",
        "from sklearn.metrics import mean_squared_error\n",
        "rmse = math.sqrt(mean_squared_error(y_prev1,y_real1))\n",
        "print('RMSE: ', rmse)"
      ],
      "metadata": {
        "id": "Y-jPEQuMp7ZL",
        "colab": {
          "base_uri": "https://localhost:8080/"
        },
        "outputId": "0b127430-07cf-4fb1-9b83-7bded853ef7f"
      },
      "execution_count": 34,
      "outputs": [
        {
          "output_type": "stream",
          "name": "stdout",
          "text": [
            "RMSE:  203595.01682796996\n"
          ]
        }
      ]
    },
    {
      "cell_type": "code",
      "source": [
        "mse = mean_squared_error(y_prev1,y_real1)\n",
        "print('MSE: ',mse)"
      ],
      "metadata": {
        "id": "U8pFY2HEp-KL",
        "colab": {
          "base_uri": "https://localhost:8080/"
        },
        "outputId": "3356ee85-6c42-4307-9523-ff62518d3893"
      },
      "execution_count": 35,
      "outputs": [
        {
          "output_type": "stream",
          "name": "stdout",
          "text": [
            "MSE:  41450930877.18137\n"
          ]
        }
      ]
    },
    {
      "cell_type": "code",
      "source": [
        "mape = np.mean(np.abs((y_real1 - y_prev1) / y_real1)) * 100\n",
        "print('MAPE: ',mape, '%')"
      ],
      "metadata": {
        "id": "dtNj3hGZp_6T",
        "colab": {
          "base_uri": "https://localhost:8080/"
        },
        "outputId": "7267b7bb-1354-4f33-be4c-a64c1eb27994"
      },
      "execution_count": 36,
      "outputs": [
        {
          "output_type": "stream",
          "name": "stdout",
          "text": [
            "MAPE:  6.863090146584494 %\n"
          ]
        }
      ]
    },
    {
      "cell_type": "code",
      "source": [
        "from sklearn.metrics import r2_score\n",
        "r2_score(y_pred1,y_test)"
      ],
      "metadata": {
        "id": "mAYvMLyXqBY7",
        "colab": {
          "base_uri": "https://localhost:8080/"
        },
        "outputId": "38f681f4-becb-42e5-a80c-952339bd36bc"
      },
      "execution_count": 37,
      "outputs": [
        {
          "output_type": "execute_result",
          "data": {
            "text/plain": [
              "0.07579983938537205"
            ]
          },
          "metadata": {},
          "execution_count": 37
        }
      ]
    },
    {
      "cell_type": "code",
      "source": [
        "rmspe = np.sqrt(np.mean(np.square(((y_real1 - y_prev1) / y_real1)), axis=0)) * 100\n",
        "print('rmspe: ',rmspe, '%')"
      ],
      "metadata": {
        "id": "1R7CEsEFqEZ7",
        "colab": {
          "base_uri": "https://localhost:8080/"
        },
        "outputId": "f0cb6394-309b-4e6b-88cd-cdd308be32f9"
      },
      "execution_count": 38,
      "outputs": [
        {
          "output_type": "stream",
          "name": "stdout",
          "text": [
            "rmspe:  [11.68523346] %\n"
          ]
        }
      ]
    },
    {
      "cell_type": "code",
      "source": [
        "#prevendo 12 passos a frente\n",
        "timesteps_to_predict = 12\n",
        "df_lag = df.iloc[-window:,:]\n",
        "lag = []\n",
        "for i in range(window, len(df_lag)+1):\n",
        "    lag.append(list(df_lag.iloc[i-window:i,0]) + \n",
        "              list(df_lag.iloc[i-window:i,1]) +\n",
        "              list(df_lag.iloc[i-window:i,2]) +\n",
        "              list(df_lag.iloc[i-window:i,3]) +\n",
        "              list(df_lag.iloc[i-window:i,4]) +\n",
        "              list(df_lag.iloc[i-window:i,5])\n",
        "              )\n",
        "lag = np.array(lag)\n",
        "\n",
        "predictions=[]\n",
        "for i in range(timesteps_to_predict):\n",
        "  lag_4norm = lag.reshape(-1,n_exogens,window)\n",
        "  for i in range(n_exogens):\n",
        "      lag_4norm[:, i, :] = scalers[i].transform(lag_4norm[:, i, :])\n",
        "  lag = lag_4norm.reshape(-1,(n_exogens*window))\n",
        "  \n",
        "  prediction = regressor.predict(lag)\n",
        "  prediction_to_add = scaler_y.inverse_transform(prediction.reshape(-1,1)) #scaler_y\n",
        "  predictions.append(prediction_to_add)\n",
        "\n",
        "  lag_4norm = lag_4norm.reshape(-1,n_exogens,window)\n",
        "  for i in range(n_exogens):\n",
        "      lag_4norm[:, i, :] = scalers[i].inverse_transform(lag_4norm[:, i, :])\n",
        "  lag = lag_4norm.reshape(-1,(n_exogens*window))\n",
        "\n",
        "  # break\n",
        "\n",
        "  lag = lag[0, 1:]\n",
        "  lag = np.insert(lag, window-1, prediction_to_add)   \n",
        "#   lag = np.append(lag, prediction_to_add)\n",
        "\n",
        "predictions = np.array(predictions).reshape(-1)"
      ],
      "metadata": {
        "id": "0FcWPOU9XPOg"
      },
      "execution_count": 39,
      "outputs": []
    },
    {
      "cell_type": "code",
      "source": [
        "all_data = np.vstack((df.iloc[:,0].values.tolist() + predictions.tolist()))\n",
        "plt.figure(figsize=(10,5))\n",
        "plt.plot(all_data)\n",
        "plt.title('Previsão de série temporal')\n",
        "plt.xlabel('Tempo')\n",
        "plt.ylabel('vendas')\n",
        "\n",
        "# marca o início das previsões\n",
        "x = [len(df)-1, len(df)-1]\n",
        "y = [df['Weekly_Sales'].min(), df['Weekly_Sales'].max()]\n",
        "plt.plot(x, y, color='red')\n",
        "\n",
        "#salva o gráfico\n",
        "plt.show()\n"
      ],
      "metadata": {
        "id": "0FNXRbJulBV9",
        "colab": {
          "base_uri": "https://localhost:8080/",
          "height": 350
        },
        "outputId": "585847bf-7e87-4e05-db6d-d86e2d82a51c"
      },
      "execution_count": 40,
      "outputs": [
        {
          "output_type": "display_data",
          "data": {
            "text/plain": [
              "<Figure size 720x360 with 1 Axes>"
            ],
            "image/png": "[encoded data removed]"
          },
          "metadata": {
            "needs_background": "light"
          }
        }
      ]
    },
    {
      "cell_type": "code",
      "source": [
        ""
      ],
      "metadata": {
        "id": "1Subs9xr7IF_"
      },
      "execution_count": 40,
      "outputs": []
    },
    {
      "cell_type": "markdown",
      "source": [
        "#RNN"
      ],
      "metadata": {
        "id": "oncH4AnTy1QB"
      }
    },
    {
      "cell_type": "code",
      "source": [
        "# Rede Neural\"\"\"\n",
        "from keras import Sequential\n",
        "from keras.layers import Dense\n",
        "from tensorflow.keras.optimizers import SGD\n",
        "from tensorflow.keras.utils import to_categorical\n",
        "\n",
        "RN = Sequential()\n",
        "RN.add(Dense(32,input_shape = x_train.shape[1:], activation = 'tanh'))\n",
        "RN.add(Dense(16))\n",
        "RN.add(Dense(1))\n",
        "RN.summary()"
      ],
      "metadata": {
        "id": "d3u8ctrsiSDO",
        "colab": {
          "base_uri": "https://localhost:8080/"
        },
        "outputId": "d1953e0b-7470-4d48-9c36-3af6f0dbaa9a"
      },
      "execution_count": 41,
      "outputs": [
        {
          "output_type": "stream",
          "name": "stdout",
          "text": [
            "Model: \"sequential\"\n",
            "_________________________________________________________________\n",
            " Layer (type)                Output Shape              Param #   \n",
            "=================================================================\n",
            " dense (Dense)               (None, 32)                3872      \n",
            "                                                                 \n",
            " dense_1 (Dense)             (None, 16)                528       \n",
            "                                                                 \n",
            " dense_2 (Dense)             (None, 1)                 17        \n",
            "                                                                 \n",
            "=================================================================\n",
            "Total params: 4,417\n",
            "Trainable params: 4,417\n",
            "Non-trainable params: 0\n",
            "_________________________________________________________________\n"
          ]
        }
      ]
    },
    {
      "cell_type": "code",
      "source": [
        "x_train[:2]"
      ],
      "metadata": {
        "id": "B4CVBoEUdErr",
        "colab": {
          "base_uri": "https://localhost:8080/"
        },
        "outputId": "3408bf66-80b7-4cb9-8101-819ebafe7e82"
      },
      "execution_count": 42,
      "outputs": [
        {
          "output_type": "execute_result",
          "data": {
            "text/plain": [
              "array([[ 2.29674052e+00,  5.13696323e-01, -2.27382072e-01,\n",
              "        -5.37539603e-01,  7.25610306e-01,  2.94724607e-01,\n",
              "         2.19385293e-01,  4.17451905e-02,  4.83499572e-01,\n",
              "         1.04743589e+00,  3.59763128e-01, -2.03879829e-01,\n",
              "        -9.10199872e-02,  1.64762866e+00, -2.63244060e-01,\n",
              "        -3.92809454e-01, -8.19535408e-01,  3.37448197e-01,\n",
              "         1.45822102e-01,  1.79809896e-01, -3.17999364e-01,\n",
              "        -2.77350098e-01, -2.55376959e-01, -2.77350098e-01,\n",
              "        -2.77350098e-01, -2.31869448e-01, -2.98142397e-01,\n",
              "        -2.55376959e-01, -2.31869448e-01, -2.06284249e-01,\n",
              "        -2.77350098e-01, -2.98142397e-01, -2.55376959e-01,\n",
              "        -2.98142397e-01, -2.55376959e-01, -2.77350098e-01,\n",
              "        -2.77350098e-01, -2.77350098e-01, -2.98142397e-01,\n",
              "        -3.17999364e-01,  2.53124826e-01,  1.37129901e-01,\n",
              "        -3.85198757e-02, -3.89613699e-04,  5.40209597e-01,\n",
              "         3.66972838e-01,  1.09493641e-01,  6.12582933e-01,\n",
              "         6.67814119e-01,  6.66690331e-01,  7.33136522e-01,\n",
              "         6.46350043e-01,  1.08584788e+00,  8.40559111e-01,\n",
              "         5.21382751e-01,  7.54861590e-01,  9.34046133e-01,\n",
              "         1.17093256e+00,  1.11301846e+00,  1.10948191e+00,\n",
              "         1.64594122e+00,  1.64458546e+00,  1.59521106e+00,\n",
              "         1.43603849e+00,  1.29184496e+00,  1.14902503e+00,\n",
              "         1.00074528e+00,  8.12639868e-01,  6.42551678e-01,\n",
              "         5.03045896e-01,  3.46737710e-01,  2.30965231e-01,\n",
              "         7.21599022e-02, -9.50036483e-02, -3.92915946e-02,\n",
              "         8.53041984e-02,  3.09771449e-01,  3.26734773e-01,\n",
              "         5.06554594e-01,  6.81843988e-01,  1.74816784e+00,\n",
              "         1.73079867e+00,  1.70849928e+00,  1.68792840e+00,\n",
              "         1.66805305e+00,  1.64750403e+00,  1.61863575e+00,\n",
              "         1.58632727e+00,  1.55568098e+00,  1.52806121e+00,\n",
              "         1.50558962e+00,  1.49050201e+00,  1.47557661e+00,\n",
              "         1.45868038e+00,  1.44166019e+00,  1.41699214e+00,\n",
              "         1.39121869e+00,  1.36429107e+00,  1.33723091e+00,\n",
              "         1.32728001e+00, -2.30673963e+00, -2.22189981e+00,\n",
              "        -2.19021724e+00, -2.20403752e+00, -2.14003674e+00,\n",
              "        -2.02598360e+00, -1.91443388e+00, -1.82409292e+00,\n",
              "        -1.74232216e+00, -1.67977439e+00, -1.62353405e+00,\n",
              "        -1.57166834e+00, -1.53249652e+00, -2.21493316e+00,\n",
              "        -2.13785378e+00, -2.10308932e+00, -2.08366454e+00,\n",
              "        -2.01645064e+00, -1.89948593e+00, -1.79634890e+00],\n",
              "       [ 3.82999764e-01, -4.00009278e-01, -9.11547397e-01,\n",
              "        -7.59679519e-01,  3.18855984e-01, -1.19488675e-01,\n",
              "        -3.25740095e-01, -8.10662118e-01, -3.71696656e-01,\n",
              "         2.36000566e-02, -6.55546096e-01, -1.01624903e+00,\n",
              "        -1.11898696e+00,  3.96829090e-01, -3.71983350e-01,\n",
              "        -3.01639540e-01, -7.45891476e-01, -1.97938849e-01,\n",
              "        -3.59105104e-01, -7.87811826e-01, -3.17999364e-01,\n",
              "        -2.77350098e-01, -2.55376959e-01, -2.77350098e-01,\n",
              "        -2.77350098e-01, -2.31869448e-01, -2.98142397e-01,\n",
              "        -2.55376959e-01, -2.31869448e-01, -2.06284249e-01,\n",
              "        -2.77350098e-01, -2.98142397e-01, -2.55376959e-01,\n",
              "        -2.98142397e-01, -2.55376959e-01, -2.77350098e-01,\n",
              "        -2.77350098e-01, -2.77350098e-01,  3.35410197e+00,\n",
              "        -3.17999364e-01,  3.97169345e-01,  5.23218708e-01,\n",
              "         6.29759110e-01,  9.16676026e-01,  9.06456842e-01,\n",
              "         8.42740735e-01,  1.10380870e+00,  1.12807519e+00,\n",
              "         8.89423133e-01,  8.23924034e-01,  1.00583206e+00,\n",
              "         1.00498261e+00,  8.73246886e-01,  1.23090471e+00,\n",
              "         1.21444101e+00,  1.19554277e+00,  1.11853600e+00,\n",
              "         8.20743031e-01,  6.60138095e-01,  9.10608671e-01,\n",
              "        -7.78206517e-01, -7.60754504e-01, -8.47346938e-01,\n",
              "        -1.01626099e+00, -1.17008630e+00, -1.28118405e+00,\n",
              "        -1.38308275e+00, -1.36944004e+00, -1.35680314e+00,\n",
              "        -1.45843280e+00, -1.53521781e+00, -1.56269195e+00,\n",
              "        -1.50692723e+00, -1.57010651e+00, -1.42255594e+00,\n",
              "        -1.51587934e+00, -1.65360596e+00, -1.77408585e+00,\n",
              "        -1.83527973e+00, -1.82111715e+00, -1.21827663e+00,\n",
              "        -1.23331155e+00, -1.17258655e+00, -1.11406147e+00,\n",
              "        -1.05868953e+00, -1.00087246e+00, -1.01771694e+00,\n",
              "        -1.06310764e+00, -1.10773678e+00, -1.15552742e+00,\n",
              "        -1.17843080e+00, -1.16847715e+00, -1.16181632e+00,\n",
              "        -1.15376942e+00, -1.14560586e+00, -1.18020631e+00,\n",
              "        -1.21078516e+00, -1.23950964e+00, -1.26892705e+00,\n",
              "        -1.28137311e+00,  3.23020218e-01,  3.43268938e-01,\n",
              "         3.66867273e-01,  3.75837564e-01,  4.11391936e-01,\n",
              "         4.42621638e-01,  4.58175343e-01,  5.01931610e-01,\n",
              "         4.60916457e-01,  4.56612393e-01,  4.59500732e-01,\n",
              "         4.59729647e-01,  4.89515907e-01,  5.14311605e-01,\n",
              "         5.29957321e-01,  5.22138118e-01,  5.31107560e-01,\n",
              "         5.47592331e-01,  5.59014813e-01,  5.71859224e-01]])"
            ]
          },
          "metadata": {},
          "execution_count": 42
        }
      ]
    },
    {
      "cell_type": "code",
      "source": [
        "y_train[:2]"
      ],
      "metadata": {
        "id": "B0DNUt9jdHM3",
        "colab": {
          "base_uri": "https://localhost:8080/"
        },
        "outputId": "00ea8d39-acfd-48fe-a178-b2b764768a13"
      },
      "execution_count": 43,
      "outputs": [
        {
          "output_type": "execute_result",
          "data": {
            "text/plain": [
              "array([[-0.35777103],\n",
              "       [-1.28317501]])"
            ]
          },
          "metadata": {},
          "execution_count": 43
        }
      ]
    },
    {
      "cell_type": "code",
      "source": [
        "RN.compile(optimizer = 'sgd', loss = 'mean_squared_error', metrics = ['accuracy']) \n",
        "history = RN.fit(x_train ,y_train, epochs = 100, validation_split=0.2)# Gráfico do treinamento: custo do treino e validação\n"
      ],
      "metadata": {
        "id": "KXw4FaffiSnH",
        "colab": {
          "base_uri": "https://localhost:8080/"
        },
        "outputId": "c2b61352-2b6f-44d9-9e12-a7cef3c1df62"
      },
      "execution_count": 44,
      "outputs": [
        {
          "output_type": "stream",
          "name": "stdout",
          "text": [
            "Epoch 1/100\n",
            "3/3 [==============================] - 1s 87ms/step - loss: 1.2480 - accuracy: 0.0000e+00 - val_loss: 0.6042 - val_accuracy: 0.0000e+00\n",
            "Epoch 2/100\n",
            "3/3 [==============================] - 0s 13ms/step - loss: 0.9972 - accuracy: 0.0000e+00 - val_loss: 0.5911 - val_accuracy: 0.0000e+00\n",
            "Epoch 3/100\n",
            "3/3 [==============================] - 0s 12ms/step - loss: 0.8883 - accuracy: 0.0000e+00 - val_loss: 0.6459 - val_accuracy: 0.0000e+00\n",
            "Epoch 4/100\n",
            "3/3 [==============================] - 0s 13ms/step - loss: 0.8085 - accuracy: 0.0000e+00 - val_loss: 0.6344 - val_accuracy: 0.0000e+00\n",
            "Epoch 5/100\n",
            "3/3 [==============================] - 0s 13ms/step - loss: 0.7283 - accuracy: 0.0000e+00 - val_loss: 0.6067 - val_accuracy: 0.0000e+00\n",
            "Epoch 6/100\n",
            "3/3 [==============================] - 0s 12ms/step - loss: 0.6754 - accuracy: 0.0000e+00 - val_loss: 0.6101 - val_accuracy: 0.0000e+00\n",
            "Epoch 7/100\n",
            "3/3 [==============================] - 0s 13ms/step - loss: 0.6510 - accuracy: 0.0000e+00 - val_loss: 0.6248 - val_accuracy: 0.0000e+00\n",
            "Epoch 8/100\n",
            "3/3 [==============================] - 0s 15ms/step - loss: 0.5994 - accuracy: 0.0000e+00 - val_loss: 0.6503 - val_accuracy: 0.0000e+00\n",
            "Epoch 9/100\n",
            "3/3 [==============================] - 0s 15ms/step - loss: 0.5776 - accuracy: 0.0000e+00 - val_loss: 0.7298 - val_accuracy: 0.0000e+00\n",
            "Epoch 10/100\n",
            "3/3 [==============================] - 0s 11ms/step - loss: 0.5713 - accuracy: 0.0000e+00 - val_loss: 0.7051 - val_accuracy: 0.0000e+00\n",
            "Epoch 11/100\n",
            "3/3 [==============================] - 0s 12ms/step - loss: 0.5283 - accuracy: 0.0000e+00 - val_loss: 0.6735 - val_accuracy: 0.0000e+00\n",
            "Epoch 12/100\n",
            "3/3 [==============================] - 0s 12ms/step - loss: 0.4778 - accuracy: 0.0000e+00 - val_loss: 0.6555 - val_accuracy: 0.0000e+00\n",
            "Epoch 13/100\n",
            "3/3 [==============================] - 0s 13ms/step - loss: 0.4659 - accuracy: 0.0000e+00 - val_loss: 0.6803 - val_accuracy: 0.0000e+00\n",
            "Epoch 14/100\n",
            "3/3 [==============================] - 0s 13ms/step - loss: 0.4503 - accuracy: 0.0000e+00 - val_loss: 0.6481 - val_accuracy: 0.0000e+00\n",
            "Epoch 15/100\n",
            "3/3 [==============================] - 0s 16ms/step - loss: 0.4115 - accuracy: 0.0000e+00 - val_loss: 0.6583 - val_accuracy: 0.0000e+00\n",
            "Epoch 16/100\n",
            "3/3 [==============================] - 0s 12ms/step - loss: 0.3969 - accuracy: 0.0000e+00 - val_loss: 0.7031 - val_accuracy: 0.0000e+00\n",
            "Epoch 17/100\n",
            "3/3 [==============================] - 0s 13ms/step - loss: 0.3898 - accuracy: 0.0000e+00 - val_loss: 0.6545 - val_accuracy: 0.0000e+00\n",
            "Epoch 18/100\n",
            "3/3 [==============================] - 0s 12ms/step - loss: 0.3647 - accuracy: 0.0000e+00 - val_loss: 0.6491 - val_accuracy: 0.0000e+00\n",
            "Epoch 19/100\n",
            "3/3 [==============================] - 0s 12ms/step - loss: 0.3227 - accuracy: 0.0000e+00 - val_loss: 0.6406 - val_accuracy: 0.0000e+00\n",
            "Epoch 20/100\n",
            "3/3 [==============================] - 0s 12ms/step - loss: 0.3110 - accuracy: 0.0000e+00 - val_loss: 0.7261 - val_accuracy: 0.0000e+00\n",
            "Epoch 21/100\n",
            "3/3 [==============================] - 0s 13ms/step - loss: 0.3042 - accuracy: 0.0000e+00 - val_loss: 0.6767 - val_accuracy: 0.0000e+00\n",
            "Epoch 22/100\n",
            "3/3 [==============================] - 0s 13ms/step - loss: 0.2824 - accuracy: 0.0000e+00 - val_loss: 0.6432 - val_accuracy: 0.0000e+00\n",
            "Epoch 23/100\n",
            "3/3 [==============================] - 0s 14ms/step - loss: 0.2732 - accuracy: 0.0000e+00 - val_loss: 0.6591 - val_accuracy: 0.0000e+00\n",
            "Epoch 24/100\n",
            "3/3 [==============================] - 0s 13ms/step - loss: 0.2498 - accuracy: 0.0000e+00 - val_loss: 0.7361 - val_accuracy: 0.0000e+00\n",
            "Epoch 25/100\n",
            "3/3 [==============================] - 0s 13ms/step - loss: 0.2407 - accuracy: 0.0000e+00 - val_loss: 0.6427 - val_accuracy: 0.0000e+00\n",
            "Epoch 26/100\n",
            "3/3 [==============================] - 0s 15ms/step - loss: 0.2384 - accuracy: 0.0000e+00 - val_loss: 0.6491 - val_accuracy: 0.0000e+00\n",
            "Epoch 27/100\n",
            "3/3 [==============================] - 0s 19ms/step - loss: 0.2195 - accuracy: 0.0000e+00 - val_loss: 0.6491 - val_accuracy: 0.0000e+00\n",
            "Epoch 28/100\n",
            "3/3 [==============================] - 0s 12ms/step - loss: 0.2051 - accuracy: 0.0000e+00 - val_loss: 0.6401 - val_accuracy: 0.0000e+00\n",
            "Epoch 29/100\n",
            "3/3 [==============================] - 0s 14ms/step - loss: 0.1920 - accuracy: 0.0000e+00 - val_loss: 0.6564 - val_accuracy: 0.0000e+00\n",
            "Epoch 30/100\n",
            "3/3 [==============================] - 0s 13ms/step - loss: 0.1733 - accuracy: 0.0000e+00 - val_loss: 0.6994 - val_accuracy: 0.0000e+00\n",
            "Epoch 31/100\n",
            "3/3 [==============================] - 0s 13ms/step - loss: 0.1632 - accuracy: 0.0000e+00 - val_loss: 0.6384 - val_accuracy: 0.0000e+00\n",
            "Epoch 32/100\n",
            "3/3 [==============================] - 0s 12ms/step - loss: 0.1612 - accuracy: 0.0000e+00 - val_loss: 0.6306 - val_accuracy: 0.0000e+00\n",
            "Epoch 33/100\n",
            "3/3 [==============================] - 0s 13ms/step - loss: 0.1431 - accuracy: 0.0000e+00 - val_loss: 0.6863 - val_accuracy: 0.0000e+00\n",
            "Epoch 34/100\n",
            "3/3 [==============================] - 0s 12ms/step - loss: 0.1473 - accuracy: 0.0000e+00 - val_loss: 0.6435 - val_accuracy: 0.0000e+00\n",
            "Epoch 35/100\n",
            "3/3 [==============================] - 0s 14ms/step - loss: 0.1339 - accuracy: 0.0000e+00 - val_loss: 0.6249 - val_accuracy: 0.0000e+00\n",
            "Epoch 36/100\n",
            "3/3 [==============================] - 0s 13ms/step - loss: 0.1231 - accuracy: 0.0000e+00 - val_loss: 0.6153 - val_accuracy: 0.0000e+00\n",
            "Epoch 37/100\n",
            "3/3 [==============================] - 0s 13ms/step - loss: 0.1300 - accuracy: 0.0000e+00 - val_loss: 0.6313 - val_accuracy: 0.0000e+00\n",
            "Epoch 38/100\n",
            "3/3 [==============================] - 0s 13ms/step - loss: 0.1739 - accuracy: 0.0000e+00 - val_loss: 0.6194 - val_accuracy: 0.0000e+00\n",
            "Epoch 39/100\n",
            "3/3 [==============================] - 0s 13ms/step - loss: 0.1038 - accuracy: 0.0000e+00 - val_loss: 0.6338 - val_accuracy: 0.0000e+00\n",
            "Epoch 40/100\n",
            "3/3 [==============================] - 0s 12ms/step - loss: 0.1059 - accuracy: 0.0000e+00 - val_loss: 0.5994 - val_accuracy: 0.0000e+00\n",
            "Epoch 41/100\n",
            "3/3 [==============================] - 0s 12ms/step - loss: 0.1150 - accuracy: 0.0000e+00 - val_loss: 0.6866 - val_accuracy: 0.0000e+00\n",
            "Epoch 42/100\n",
            "3/3 [==============================] - 0s 14ms/step - loss: 0.0981 - accuracy: 0.0000e+00 - val_loss: 0.5980 - val_accuracy: 0.0000e+00\n",
            "Epoch 43/100\n",
            "3/3 [==============================] - 0s 13ms/step - loss: 0.0887 - accuracy: 0.0000e+00 - val_loss: 0.5973 - val_accuracy: 0.0000e+00\n",
            "Epoch 44/100\n",
            "3/3 [==============================] - 0s 12ms/step - loss: 0.0897 - accuracy: 0.0000e+00 - val_loss: 0.6115 - val_accuracy: 0.0000e+00\n",
            "Epoch 45/100\n",
            "3/3 [==============================] - 0s 12ms/step - loss: 0.0803 - accuracy: 0.0000e+00 - val_loss: 0.6099 - val_accuracy: 0.0000e+00\n",
            "Epoch 46/100\n",
            "3/3 [==============================] - 0s 14ms/step - loss: 0.0773 - accuracy: 0.0000e+00 - val_loss: 0.5941 - val_accuracy: 0.0000e+00\n",
            "Epoch 47/100\n",
            "3/3 [==============================] - 0s 12ms/step - loss: 0.0783 - accuracy: 0.0000e+00 - val_loss: 0.6631 - val_accuracy: 0.0000e+00\n",
            "Epoch 48/100\n",
            "3/3 [==============================] - 0s 13ms/step - loss: 0.1230 - accuracy: 0.0000e+00 - val_loss: 0.5734 - val_accuracy: 0.0000e+00\n",
            "Epoch 49/100\n",
            "3/3 [==============================] - 0s 13ms/step - loss: 0.0679 - accuracy: 0.0000e+00 - val_loss: 0.5736 - val_accuracy: 0.0000e+00\n",
            "Epoch 50/100\n",
            "3/3 [==============================] - 0s 13ms/step - loss: 0.0655 - accuracy: 0.0000e+00 - val_loss: 0.5756 - val_accuracy: 0.0000e+00\n",
            "Epoch 51/100\n",
            "3/3 [==============================] - 0s 12ms/step - loss: 0.0655 - accuracy: 0.0000e+00 - val_loss: 0.5769 - val_accuracy: 0.0000e+00\n",
            "Epoch 52/100\n",
            "3/3 [==============================] - 0s 14ms/step - loss: 0.0886 - accuracy: 0.0000e+00 - val_loss: 0.5687 - val_accuracy: 0.0000e+00\n",
            "Epoch 53/100\n",
            "3/3 [==============================] - 0s 13ms/step - loss: 0.0572 - accuracy: 0.0000e+00 - val_loss: 0.5827 - val_accuracy: 0.0000e+00\n",
            "Epoch 54/100\n",
            "3/3 [==============================] - 0s 15ms/step - loss: 0.0533 - accuracy: 0.0000e+00 - val_loss: 0.6182 - val_accuracy: 0.0000e+00\n",
            "Epoch 55/100\n",
            "3/3 [==============================] - 0s 18ms/step - loss: 0.0554 - accuracy: 0.0000e+00 - val_loss: 0.6022 - val_accuracy: 0.0000e+00\n",
            "Epoch 56/100\n",
            "3/3 [==============================] - 0s 12ms/step - loss: 0.0682 - accuracy: 0.0000e+00 - val_loss: 0.5841 - val_accuracy: 0.0000e+00\n",
            "Epoch 57/100\n",
            "3/3 [==============================] - 0s 12ms/step - loss: 0.0494 - accuracy: 0.0000e+00 - val_loss: 0.5808 - val_accuracy: 0.0000e+00\n",
            "Epoch 58/100\n",
            "3/3 [==============================] - 0s 15ms/step - loss: 0.0453 - accuracy: 0.0000e+00 - val_loss: 0.5727 - val_accuracy: 0.0000e+00\n",
            "Epoch 59/100\n",
            "3/3 [==============================] - 0s 13ms/step - loss: 0.0533 - accuracy: 0.0000e+00 - val_loss: 0.5724 - val_accuracy: 0.0000e+00\n",
            "Epoch 60/100\n",
            "3/3 [==============================] - 0s 12ms/step - loss: 0.0445 - accuracy: 0.0000e+00 - val_loss: 0.5760 - val_accuracy: 0.0000e+00\n",
            "Epoch 61/100\n",
            "3/3 [==============================] - 0s 13ms/step - loss: 0.0456 - accuracy: 0.0000e+00 - val_loss: 0.6009 - val_accuracy: 0.0000e+00\n",
            "Epoch 62/100\n",
            "3/3 [==============================] - 0s 15ms/step - loss: 0.0556 - accuracy: 0.0000e+00 - val_loss: 0.5710 - val_accuracy: 0.0000e+00\n",
            "Epoch 63/100\n",
            "3/3 [==============================] - 0s 23ms/step - loss: 0.0425 - accuracy: 0.0000e+00 - val_loss: 0.5829 - val_accuracy: 0.0000e+00\n",
            "Epoch 64/100\n",
            "3/3 [==============================] - 0s 12ms/step - loss: 0.0391 - accuracy: 0.0000e+00 - val_loss: 0.5829 - val_accuracy: 0.0000e+00\n",
            "Epoch 65/100\n",
            "3/3 [==============================] - 0s 12ms/step - loss: 0.0350 - accuracy: 0.0000e+00 - val_loss: 0.5828 - val_accuracy: 0.0000e+00\n",
            "Epoch 66/100\n",
            "3/3 [==============================] - 0s 12ms/step - loss: 0.0334 - accuracy: 0.0000e+00 - val_loss: 0.5947 - val_accuracy: 0.0000e+00\n",
            "Epoch 67/100\n",
            "3/3 [==============================] - 0s 11ms/step - loss: 0.0321 - accuracy: 0.0000e+00 - val_loss: 0.5847 - val_accuracy: 0.0000e+00\n",
            "Epoch 68/100\n",
            "3/3 [==============================] - 0s 14ms/step - loss: 0.0313 - accuracy: 0.0000e+00 - val_loss: 0.6107 - val_accuracy: 0.0000e+00\n",
            "Epoch 69/100\n",
            "3/3 [==============================] - 0s 18ms/step - loss: 0.0578 - accuracy: 0.0000e+00 - val_loss: 0.5729 - val_accuracy: 0.0000e+00\n",
            "Epoch 70/100\n",
            "3/3 [==============================] - 0s 13ms/step - loss: 0.0300 - accuracy: 0.0000e+00 - val_loss: 0.5939 - val_accuracy: 0.0000e+00\n",
            "Epoch 71/100\n",
            "3/3 [==============================] - 0s 12ms/step - loss: 0.0361 - accuracy: 0.0000e+00 - val_loss: 0.5951 - val_accuracy: 0.0000e+00\n",
            "Epoch 72/100\n",
            "3/3 [==============================] - 0s 15ms/step - loss: 0.0286 - accuracy: 0.0000e+00 - val_loss: 0.5949 - val_accuracy: 0.0000e+00\n",
            "Epoch 73/100\n",
            "3/3 [==============================] - 0s 12ms/step - loss: 0.0250 - accuracy: 0.0000e+00 - val_loss: 0.5874 - val_accuracy: 0.0000e+00\n",
            "Epoch 74/100\n",
            "3/3 [==============================] - 0s 14ms/step - loss: 0.0290 - accuracy: 0.0000e+00 - val_loss: 0.5874 - val_accuracy: 0.0000e+00\n",
            "Epoch 75/100\n",
            "3/3 [==============================] - 0s 13ms/step - loss: 0.0245 - accuracy: 0.0000e+00 - val_loss: 0.6289 - val_accuracy: 0.0000e+00\n",
            "Epoch 76/100\n",
            "3/3 [==============================] - 0s 13ms/step - loss: 0.0445 - accuracy: 0.0000e+00 - val_loss: 0.5891 - val_accuracy: 0.0000e+00\n",
            "Epoch 77/100\n",
            "3/3 [==============================] - 0s 13ms/step - loss: 0.0409 - accuracy: 0.0000e+00 - val_loss: 0.6404 - val_accuracy: 0.0000e+00\n",
            "Epoch 78/100\n",
            "3/3 [==============================] - 0s 13ms/step - loss: 0.0679 - accuracy: 0.0000e+00 - val_loss: 0.6121 - val_accuracy: 0.0000e+00\n",
            "Epoch 79/100\n",
            "3/3 [==============================] - 0s 14ms/step - loss: 0.0347 - accuracy: 0.0000e+00 - val_loss: 0.5892 - val_accuracy: 0.0000e+00\n",
            "Epoch 80/100\n",
            "3/3 [==============================] - 0s 17ms/step - loss: 0.0207 - accuracy: 0.0000e+00 - val_loss: 0.6005 - val_accuracy: 0.0000e+00\n",
            "Epoch 81/100\n",
            "3/3 [==============================] - 0s 15ms/step - loss: 0.0254 - accuracy: 0.0000e+00 - val_loss: 0.6011 - val_accuracy: 0.0000e+00\n",
            "Epoch 82/100\n",
            "3/3 [==============================] - 0s 14ms/step - loss: 0.0197 - accuracy: 0.0000e+00 - val_loss: 0.6022 - val_accuracy: 0.0000e+00\n",
            "Epoch 83/100\n",
            "3/3 [==============================] - 0s 12ms/step - loss: 0.0214 - accuracy: 0.0000e+00 - val_loss: 0.5971 - val_accuracy: 0.0000e+00\n",
            "Epoch 84/100\n",
            "3/3 [==============================] - 0s 12ms/step - loss: 0.0169 - accuracy: 0.0000e+00 - val_loss: 0.6006 - val_accuracy: 0.0000e+00\n",
            "Epoch 85/100\n",
            "3/3 [==============================] - 0s 14ms/step - loss: 0.0163 - accuracy: 0.0000e+00 - val_loss: 0.6098 - val_accuracy: 0.0000e+00\n",
            "Epoch 86/100\n",
            "3/3 [==============================] - 0s 15ms/step - loss: 0.0170 - accuracy: 0.0000e+00 - val_loss: 0.6036 - val_accuracy: 0.0000e+00\n",
            "Epoch 87/100\n",
            "3/3 [==============================] - 0s 13ms/step - loss: 0.0163 - accuracy: 0.0000e+00 - val_loss: 0.6216 - val_accuracy: 0.0000e+00\n",
            "Epoch 88/100\n",
            "3/3 [==============================] - 0s 14ms/step - loss: 0.0169 - accuracy: 0.0000e+00 - val_loss: 0.6054 - val_accuracy: 0.0000e+00\n",
            "Epoch 89/100\n",
            "3/3 [==============================] - 0s 12ms/step - loss: 0.0170 - accuracy: 0.0000e+00 - val_loss: 0.6027 - val_accuracy: 0.0000e+00\n",
            "Epoch 90/100\n",
            "3/3 [==============================] - 0s 13ms/step - loss: 0.0147 - accuracy: 0.0000e+00 - val_loss: 0.6028 - val_accuracy: 0.0000e+00\n",
            "Epoch 91/100\n",
            "3/3 [==============================] - 0s 12ms/step - loss: 0.0143 - accuracy: 0.0000e+00 - val_loss: 0.6093 - val_accuracy: 0.0000e+00\n",
            "Epoch 92/100\n",
            "3/3 [==============================] - 0s 12ms/step - loss: 0.0139 - accuracy: 0.0000e+00 - val_loss: 0.6229 - val_accuracy: 0.0000e+00\n",
            "Epoch 93/100\n",
            "3/3 [==============================] - 0s 13ms/step - loss: 0.0205 - accuracy: 0.0000e+00 - val_loss: 0.6120 - val_accuracy: 0.0000e+00\n",
            "Epoch 94/100\n",
            "3/3 [==============================] - 0s 14ms/step - loss: 0.0138 - accuracy: 0.0000e+00 - val_loss: 0.6162 - val_accuracy: 0.0000e+00\n",
            "Epoch 95/100\n",
            "3/3 [==============================] - 0s 13ms/step - loss: 0.0120 - accuracy: 0.0000e+00 - val_loss: 0.6136 - val_accuracy: 0.0000e+00\n",
            "Epoch 96/100\n",
            "3/3 [==============================] - 0s 13ms/step - loss: 0.0123 - accuracy: 0.0000e+00 - val_loss: 0.6307 - val_accuracy: 0.0000e+00\n",
            "Epoch 97/100\n",
            "3/3 [==============================] - 0s 15ms/step - loss: 0.0160 - accuracy: 0.0000e+00 - val_loss: 0.6190 - val_accuracy: 0.0000e+00\n",
            "Epoch 98/100\n",
            "3/3 [==============================] - 0s 12ms/step - loss: 0.0134 - accuracy: 0.0000e+00 - val_loss: 0.6255 - val_accuracy: 0.0000e+00\n",
            "Epoch 99/100\n",
            "3/3 [==============================] - 0s 13ms/step - loss: 0.0127 - accuracy: 0.0000e+00 - val_loss: 0.6150 - val_accuracy: 0.0000e+00\n",
            "Epoch 100/100\n",
            "3/3 [==============================] - 0s 14ms/step - loss: 0.0106 - accuracy: 0.0000e+00 - val_loss: 0.6303 - val_accuracy: 0.0000e+00\n"
          ]
        }
      ]
    },
    {
      "cell_type": "code",
      "source": [
        "y_pred3 = RN.predict(x_test)\n",
        "y_pred3\n"
      ],
      "metadata": {
        "id": "0NPQxoXd7ewg",
        "colab": {
          "base_uri": "https://localhost:8080/"
        },
        "outputId": "f2d33bf2-de3b-4db6-d961-7a316718009d"
      },
      "execution_count": 45,
      "outputs": [
        {
          "output_type": "execute_result",
          "data": {
            "text/plain": [
              "array([[ 2.6342556 ],\n",
              "       [ 1.5080571 ],\n",
              "       [ 0.33163455],\n",
              "       [ 0.55260396],\n",
              "       [-0.8664857 ],\n",
              "       [-0.8152887 ],\n",
              "       [ 1.5994434 ],\n",
              "       [-0.6335083 ],\n",
              "       [-0.634181  ],\n",
              "       [-1.4911537 ],\n",
              "       [ 0.74520504],\n",
              "       [ 0.8234077 ],\n",
              "       [ 1.5442171 ],\n",
              "       [ 0.5803344 ],\n",
              "       [-0.23114082],\n",
              "       [ 0.74246186],\n",
              "       [ 1.7647941 ],\n",
              "       [ 0.74686295],\n",
              "       [ 0.06859663],\n",
              "       [ 0.42140946],\n",
              "       [ 2.8736644 ],\n",
              "       [ 1.4701055 ],\n",
              "       [-0.83298403],\n",
              "       [-0.7279664 ],\n",
              "       [-0.32521138]], dtype=float32)"
            ]
          },
          "metadata": {},
          "execution_count": 45
        }
      ]
    },
    {
      "cell_type": "code",
      "source": [
        "y_prev3 = scaler_y.inverse_transform(y_pred3.reshape(-1,1))\n",
        "y_real = scaler_y.inverse_transform(y_test.reshape(-1,1))"
      ],
      "metadata": {
        "id": "jdxGx02PK9ZA"
      },
      "execution_count": 46,
      "outputs": []
    },
    {
      "cell_type": "code",
      "source": [
        "# Gráfico do treinamento: custo do treino e validação\n",
        "import matplotlib.pyplot as plt\n",
        "plt.plot(history.history['loss'], label='train')\n",
        "plt.plot(history.history['val_loss'], label='validation')\n",
        "plt.title('Walmart - Loss de treino e validação')\n",
        "plt.ylabel('loss')\n",
        "plt.xlabel('época')\n",
        "plt.legend();"
      ],
      "metadata": {
        "id": "qSwVM_A-rF0p",
        "colab": {
          "base_uri": "https://localhost:8080/",
          "height": 296
        },
        "outputId": "07c871e9-a6bb-43c3-d178-436e1c2188ac"
      },
      "execution_count": 47,
      "outputs": [
        {
          "output_type": "display_data",
          "data": {
            "text/plain": [
              "<Figure size 432x288 with 1 Axes>"
            ],
            "image/png": "[encoded data removed]"
          },
          "metadata": {
            "needs_background": "light"
          }
        }
      ]
    },
    {
      "cell_type": "code",
      "source": [
        "plt.plot(y_prev3, label='previsto', marker='o')\n",
        "plt.plot(y_real, label='real', marker='+')\n",
        "plt.ylabel(\"vendas\")\n",
        "plt.title(\"Walmart vendas - Real x Previsto\")\n",
        "plt.legend()\n",
        "plt.show()"
      ],
      "metadata": {
        "id": "0f3iJx4QJW4H",
        "colab": {
          "base_uri": "https://localhost:8080/",
          "height": 281
        },
        "outputId": "df56c947-f082-4dec-a4dc-bfc887c96f8b"
      },
      "execution_count": 48,
      "outputs": [
        {
          "output_type": "display_data",
          "data": {
            "text/plain": [
              "<Figure size 432x288 with 1 Axes>"
            ],
            "image/png": "[encoded data removed]"
          },
          "metadata": {
            "needs_background": "light"
          }
        }
      ]
    },
    {
      "cell_type": "code",
      "source": [
        "import math\n",
        "from sklearn.metrics import mean_squared_error\n",
        "rmse = math.sqrt(mean_squared_error(y_prev3,y_real))\n",
        "print('RMSE: ', rmse)"
      ],
      "metadata": {
        "id": "xHO8H-0kQIfU",
        "colab": {
          "base_uri": "https://localhost:8080/"
        },
        "outputId": "b8cc42dd-9c30-4afb-dd2f-0f91d0ce2d41"
      },
      "execution_count": 49,
      "outputs": [
        {
          "output_type": "stream",
          "name": "stdout",
          "text": [
            "RMSE:  147799.1411034998\n"
          ]
        }
      ]
    },
    {
      "cell_type": "code",
      "source": [
        "mse = mean_squared_error(y_prev3,y_real)\n",
        "print('MSE: ',mse)"
      ],
      "metadata": {
        "id": "Chz-myZRQIfV",
        "colab": {
          "base_uri": "https://localhost:8080/"
        },
        "outputId": "ec47c886-1130-40f7-b397-e1d280ef3f02"
      },
      "execution_count": 50,
      "outputs": [
        {
          "output_type": "stream",
          "name": "stdout",
          "text": [
            "MSE:  21844586110.932247\n"
          ]
        }
      ]
    },
    {
      "cell_type": "code",
      "source": [
        "mape = np.mean(np.abs((y_real - y_prev3) / y_real)) * 100\n",
        "print('MAPE: ',mape, '%')"
      ],
      "metadata": {
        "id": "69gqQqK4QIfV",
        "colab": {
          "base_uri": "https://localhost:8080/"
        },
        "outputId": "ace53692-7048-4d69-9646-ba989d4e46cb"
      },
      "execution_count": 51,
      "outputs": [
        {
          "output_type": "stream",
          "name": "stdout",
          "text": [
            "MAPE:  7.586861928961305 %\n"
          ]
        }
      ]
    },
    {
      "cell_type": "code",
      "source": [
        "from sklearn.metrics import r2_score\n",
        "r2_score(y_pred3,y_test)"
      ],
      "metadata": {
        "id": "EPPpziMnQIfW",
        "colab": {
          "base_uri": "https://localhost:8080/"
        },
        "outputId": "950e5c54-6d39-467e-9c1e-f04f13b4bf84"
      },
      "execution_count": 52,
      "outputs": [
        {
          "output_type": "execute_result",
          "data": {
            "text/plain": [
              "0.25950694799020957"
            ]
          },
          "metadata": {},
          "execution_count": 52
        }
      ]
    },
    {
      "cell_type": "code",
      "source": [
        "rmspe = np.sqrt(np.mean(np.square(((y_real - y_prev3) / y_real)), axis=0)) * 100\n",
        "print('rmspe: ',rmspe, '%')"
      ],
      "metadata": {
        "id": "yjdHmYDXQIfW",
        "colab": {
          "base_uri": "https://localhost:8080/"
        },
        "outputId": "5ef3e88a-cd78-4f23-d0c2-c76469182c1b"
      },
      "execution_count": 53,
      "outputs": [
        {
          "output_type": "stream",
          "name": "stdout",
          "text": [
            "rmspe:  [9.28600371] %\n"
          ]
        }
      ]
    },
    {
      "cell_type": "code",
      "source": [
        "\n",
        "#prevendo 12 passos a frente\n",
        "timesteps_to_predict = 12\n",
        "df_lag = df.iloc[-window:,:]\n",
        "lag = []\n",
        "for i in range(window, len(df_lag)+1):\n",
        "    lag.append(list(df_lag.iloc[i-window:i,0]) + \n",
        "              list(df_lag.iloc[i-window:i,1]) +\n",
        "              list(df_lag.iloc[i-window:i,2]) +\n",
        "              list(df_lag.iloc[i-window:i,3]) +\n",
        "              list(df_lag.iloc[i-window:i,4]) +\n",
        "              list(df_lag.iloc[i-window:i,5])\n",
        "              )\n",
        "lag = np.array(lag)\n",
        "\n",
        "predictions=[]\n",
        "for i in range(timesteps_to_predict):\n",
        "  lag_4norm = lag.reshape(-1,n_exogens,window)\n",
        "  for i in range(n_exogens):\n",
        "      lag_4norm[:, i, :] = scalers[i].transform(lag_4norm[:, i, :])\n",
        "  lag = lag_4norm.reshape(-1,(n_exogens*window))\n",
        "  \n",
        "  prediction = regressor.predict(lag)\n",
        "  prediction_to_add = scaler_y.inverse_transform(prediction.reshape(-1,1)) #scaler_y\n",
        "  predictions.append(prediction_to_add)\n",
        "\n",
        "  lag_4norm = lag_4norm.reshape(-1,n_exogens,window)\n",
        "  for i in range(n_exogens):\n",
        "      lag_4norm[:, i, :] = scalers[i].inverse_transform(lag_4norm[:, i, :])\n",
        "  lag = lag_4norm.reshape(-1,(n_exogens*window))\n",
        "\n",
        "  # break\n",
        "\n",
        "  lag = lag[0, 1:]\n",
        "  lag = np.insert(lag, window-1, prediction_to_add)   \n",
        "#   lag = np.append(lag, prediction_to_add)\n",
        "\n",
        "predictions = np.array(predictions).reshape(-1)"
      ],
      "metadata": {
        "id": "rgJNOMHo9epi"
      },
      "execution_count": 54,
      "outputs": []
    },
    {
      "cell_type": "code",
      "source": [
        "all_data = np.vstack((df.iloc[:,0].values.tolist() + predictions.tolist()))\n",
        "plt.figure(figsize=(10,5))\n",
        "plt.plot(all_data)\n",
        "plt.title('Previsão de série temporal')\n",
        "plt.xlabel('Tempo')\n",
        "plt.ylabel('vendas')\n",
        "\n",
        "# marca o início das previsões\n",
        "x = [len(df)-1, len(df)-1]\n",
        "y = [df['Weekly_Sales'].min(), df['Weekly_Sales'].max()]\n",
        "plt.plot(x, y, color='red')\n",
        "\n",
        "#salva o gráfico\n",
        "plt.show()\n"
      ],
      "metadata": {
        "id": "EMrEJKYWZVj-",
        "colab": {
          "base_uri": "https://localhost:8080/",
          "height": 350
        },
        "outputId": "168be1ba-2abf-45e8-fba3-60fa6c7b80a0"
      },
      "execution_count": 55,
      "outputs": [
        {
          "output_type": "display_data",
          "data": {
            "text/plain": [
              "<Figure size 720x360 with 1 Axes>"
            ],
            "image/png": "[encoded data removed]"
          },
          "metadata": {
            "needs_background": "light"
          }
        }
      ]
    },
    {
      "cell_type": "markdown",
      "source": [
        "# LSTM"
      ],
      "metadata": {
        "id": "f9voA97w7zE0"
      }
    },
    {
      "cell_type": "code",
      "source": [
        "# LSTM  with window regression framing\n",
        "import numpy\n",
        "import matplotlib.pyplot as plt\n",
        "from pandas import read_csv\n",
        "import math\n",
        "from keras.models import Sequential\n",
        "from keras.layers import Dense\n",
        "from keras.layers import LSTM\n",
        "from sklearn.preprocessing import MinMaxScaler\n",
        "from sklearn.metrics import mean_squared_error\n",
        "from keras.layers import Dense, LSTM, Dropout, GRU, Bidirectional, Flatten\n",
        "from keras.callbacks import ReduceLROnPlateau\n",
        "from tensorflow.keras.layers import BatchNormalization\n",
        "from keras.callbacks import ModelCheckpoint, EarlyStopping"
      ],
      "metadata": {
        "id": "Q_LPdyby72EB"
      },
      "execution_count": 76,
      "outputs": []
    },
    {
      "cell_type": "code",
      "source": [
        "x_train.shape, x_test.shape"
      ],
      "metadata": {
        "id": "_NbEhyle78w-",
        "colab": {
          "base_uri": "https://localhost:8080/"
        },
        "outputId": "afef3d61-a2d3-4e7c-8396-24bdf5b31946"
      },
      "execution_count": 77,
      "outputs": [
        {
          "output_type": "execute_result",
          "data": {
            "text/plain": [
              "((98, 120), (25, 120))"
            ]
          },
          "metadata": {},
          "execution_count": 77
        }
      ]
    },
    {
      "cell_type": "code",
      "source": [
        "y_train.shape, y_test.shape"
      ],
      "metadata": {
        "id": "oA_bhGWi7_uv",
        "colab": {
          "base_uri": "https://localhost:8080/"
        },
        "outputId": "03a5676b-d494-4aaa-9ae9-a52996e748e8"
      },
      "execution_count": 78,
      "outputs": [
        {
          "output_type": "execute_result",
          "data": {
            "text/plain": [
              "((98, 1), (25, 1))"
            ]
          },
          "metadata": {},
          "execution_count": 78
        }
      ]
    },
    {
      "cell_type": "code",
      "source": [
        "# reshape input to be [samples, time steps, features]\n",
        "x_train_reshaped = numpy.reshape(x_train, (x_train.shape[0],-1, x_train.shape[1]))\n",
        "x_test_reshaped = numpy.reshape(x_test, (x_test.shape[0], -1, x_test.shape[1]))\n",
        "\n",
        "set_all_seeds()\n",
        "# create and fit the LSTM network\n",
        "model = Sequential()\n",
        "model.add(Bidirectional(LSTM(16, return_sequences=True),input_shape=(x_train_reshaped.shape[1], x_train_reshaped.shape[2])))\n",
        "model.add(Dropout(0.2))\n",
        "# model.add(BatchNormalization())\n",
        "\n",
        "# batchnorm\n",
        "model.add(Bidirectional(LSTM(4, return_sequences=True)))\n",
        "# model.add(Dropout(0.2))\n",
        "# model.add(BatchNormalization())\n",
        "\n",
        "model.add(Flatten())\n",
        "\n",
        "# novas dense\n",
        "model.add(Dense(4))\n",
        "model.add(Dropout(0.2))\n",
        "# model.add(BatchNormalization())\n",
        "# novas dense\n",
        "model.add(Dense(1))\n",
        "model.compile(loss = 'mean_squared_error', metrics=['mse'], optimizer='adam')\n",
        "\n",
        "\n",
        "monitor='val_loss'\n",
        "lr_reduce = ReduceLROnPlateau(monitor=monitor, factor=0.6, min_delta=0.0001, patience=6, verbose=1)\n",
        "early = EarlyStopping(monitor=monitor,mode=\"min\",patience=25)\n",
        "callbacks_list = [early, lr_reduce]\n",
        "\n",
        "history = model.fit(x_train_reshaped, y_train, epochs = 500, batch_size = 16, callbacks=callbacks_list, validation_data=(x_test_reshaped, y_test))\n",
        "\n"
      ],
      "metadata": {
        "id": "tmLfWKXY3a-H",
        "colab": {
          "base_uri": "https://localhost:8080/"
        },
        "outputId": "ccf59ed1-3f26-462a-fdbd-8a54a17e4cce"
      },
      "execution_count": 203,
      "outputs": [
        {
          "output_type": "stream",
          "name": "stdout",
          "text": [
            "Epoch 1/500\n",
            "7/7 [==============================] - 12s 275ms/step - loss: 1.0030 - mse: 1.0030 - val_loss: 1.5767 - val_mse: 1.5767 - lr: 0.0010\n",
            "Epoch 2/500\n",
            "7/7 [==============================] - 0s 8ms/step - loss: 0.9421 - mse: 0.9421 - val_loss: 1.5643 - val_mse: 1.5643 - lr: 0.0010\n",
            "Epoch 3/500\n",
            "7/7 [==============================] - 0s 8ms/step - loss: 0.9426 - mse: 0.9426 - val_loss: 1.5467 - val_mse: 1.5467 - lr: 0.0010\n",
            "Epoch 4/500\n",
            "7/7 [==============================] - 0s 8ms/step - loss: 0.8953 - mse: 0.8953 - val_loss: 1.5166 - val_mse: 1.5166 - lr: 0.0010\n",
            "Epoch 5/500\n",
            "7/7 [==============================] - 0s 9ms/step - loss: 0.8841 - mse: 0.8841 - val_loss: 1.4916 - val_mse: 1.4916 - lr: 0.0010\n",
            "Epoch 6/500\n",
            "7/7 [==============================] - 0s 8ms/step - loss: 0.8667 - mse: 0.8667 - val_loss: 1.4866 - val_mse: 1.4866 - lr: 0.0010\n",
            "Epoch 7/500\n",
            "7/7 [==============================] - 0s 8ms/step - loss: 0.8547 - mse: 0.8547 - val_loss: 1.4772 - val_mse: 1.4772 - lr: 0.0010\n",
            "Epoch 8/500\n",
            "7/7 [==============================] - 0s 8ms/step - loss: 0.7729 - mse: 0.7729 - val_loss: 1.4554 - val_mse: 1.4554 - lr: 0.0010\n",
            "Epoch 9/500\n",
            "7/7 [==============================] - 0s 9ms/step - loss: 0.7923 - mse: 0.7923 - val_loss: 1.4320 - val_mse: 1.4320 - lr: 0.0010\n",
            "Epoch 10/500\n",
            "7/7 [==============================] - 0s 8ms/step - loss: 0.7738 - mse: 0.7738 - val_loss: 1.3973 - val_mse: 1.3973 - lr: 0.0010\n",
            "Epoch 11/500\n",
            "7/7 [==============================] - 0s 8ms/step - loss: 0.7551 - mse: 0.7551 - val_loss: 1.3710 - val_mse: 1.3710 - lr: 0.0010\n",
            "Epoch 12/500\n",
            "7/7 [==============================] - 0s 8ms/step - loss: 0.7082 - mse: 0.7082 - val_loss: 1.3417 - val_mse: 1.3417 - lr: 0.0010\n",
            "Epoch 13/500\n",
            "7/7 [==============================] - 0s 8ms/step - loss: 0.6698 - mse: 0.6698 - val_loss: 1.2793 - val_mse: 1.2793 - lr: 0.0010\n",
            "Epoch 14/500\n",
            "7/7 [==============================] - 0s 10ms/step - loss: 0.7049 - mse: 0.7049 - val_loss: 1.2477 - val_mse: 1.2477 - lr: 0.0010\n",
            "Epoch 15/500\n",
            "7/7 [==============================] - 0s 8ms/step - loss: 0.5912 - mse: 0.5912 - val_loss: 1.2222 - val_mse: 1.2222 - lr: 0.0010\n",
            "Epoch 16/500\n",
            "7/7 [==============================] - 0s 8ms/step - loss: 0.5283 - mse: 0.5283 - val_loss: 1.1965 - val_mse: 1.1965 - lr: 0.0010\n",
            "Epoch 17/500\n",
            "7/7 [==============================] - 0s 9ms/step - loss: 0.5543 - mse: 0.5543 - val_loss: 1.1647 - val_mse: 1.1647 - lr: 0.0010\n",
            "Epoch 18/500\n",
            "7/7 [==============================] - 0s 9ms/step - loss: 0.5084 - mse: 0.5084 - val_loss: 1.1416 - val_mse: 1.1416 - lr: 0.0010\n",
            "Epoch 19/500\n",
            "7/7 [==============================] - 0s 8ms/step - loss: 0.4112 - mse: 0.4112 - val_loss: 1.0878 - val_mse: 1.0878 - lr: 0.0010\n",
            "Epoch 20/500\n",
            "7/7 [==============================] - 0s 8ms/step - loss: 0.4434 - mse: 0.4434 - val_loss: 1.0557 - val_mse: 1.0557 - lr: 0.0010\n",
            "Epoch 21/500\n",
            "7/7 [==============================] - 0s 9ms/step - loss: 0.3961 - mse: 0.3961 - val_loss: 1.0036 - val_mse: 1.0036 - lr: 0.0010\n",
            "Epoch 22/500\n",
            "7/7 [==============================] - 0s 9ms/step - loss: 0.3811 - mse: 0.3811 - val_loss: 0.9257 - val_mse: 0.9257 - lr: 0.0010\n",
            "Epoch 23/500\n",
            "7/7 [==============================] - 0s 8ms/step - loss: 0.3777 - mse: 0.3777 - val_loss: 0.9117 - val_mse: 0.9117 - lr: 0.0010\n",
            "Epoch 24/500\n",
            "7/7 [==============================] - 0s 8ms/step - loss: 0.3364 - mse: 0.3364 - val_loss: 0.8896 - val_mse: 0.8896 - lr: 0.0010\n",
            "Epoch 25/500\n",
            "7/7 [==============================] - 0s 8ms/step - loss: 0.2729 - mse: 0.2729 - val_loss: 0.8562 - val_mse: 0.8562 - lr: 0.0010\n",
            "Epoch 26/500\n",
            "7/7 [==============================] - 0s 9ms/step - loss: 0.4107 - mse: 0.4107 - val_loss: 0.8664 - val_mse: 0.8664 - lr: 0.0010\n",
            "Epoch 27/500\n",
            "7/7 [==============================] - 0s 8ms/step - loss: 0.2550 - mse: 0.2550 - val_loss: 0.8646 - val_mse: 0.8646 - lr: 0.0010\n",
            "Epoch 28/500\n",
            "7/7 [==============================] - 0s 9ms/step - loss: 0.2984 - mse: 0.2984 - val_loss: 0.8253 - val_mse: 0.8253 - lr: 0.0010\n",
            "Epoch 29/500\n",
            "7/7 [==============================] - 0s 9ms/step - loss: 0.1824 - mse: 0.1824 - val_loss: 0.7440 - val_mse: 0.7440 - lr: 0.0010\n",
            "Epoch 30/500\n",
            "7/7 [==============================] - 0s 9ms/step - loss: 0.3501 - mse: 0.3501 - val_loss: 0.6583 - val_mse: 0.6583 - lr: 0.0010\n",
            "Epoch 31/500\n",
            "7/7 [==============================] - 0s 9ms/step - loss: 0.1820 - mse: 0.1820 - val_loss: 0.6276 - val_mse: 0.6276 - lr: 0.0010\n",
            "Epoch 32/500\n",
            "7/7 [==============================] - 0s 9ms/step - loss: 0.2152 - mse: 0.2152 - val_loss: 0.6006 - val_mse: 0.6006 - lr: 0.0010\n",
            "Epoch 33/500\n",
            "7/7 [==============================] - 0s 8ms/step - loss: 0.1626 - mse: 0.1626 - val_loss: 0.5702 - val_mse: 0.5702 - lr: 0.0010\n",
            "Epoch 34/500\n",
            "7/7 [==============================] - 0s 11ms/step - loss: 0.1861 - mse: 0.1861 - val_loss: 0.5193 - val_mse: 0.5193 - lr: 0.0010\n",
            "Epoch 35/500\n",
            "7/7 [==============================] - 0s 9ms/step - loss: 0.1998 - mse: 0.1998 - val_loss: 0.5042 - val_mse: 0.5042 - lr: 0.0010\n",
            "Epoch 36/500\n",
            "7/7 [==============================] - 0s 9ms/step - loss: 0.1166 - mse: 0.1166 - val_loss: 0.5394 - val_mse: 0.5394 - lr: 0.0010\n",
            "Epoch 37/500\n",
            "7/7 [==============================] - 0s 8ms/step - loss: 0.2452 - mse: 0.2452 - val_loss: 0.5262 - val_mse: 0.5262 - lr: 0.0010\n",
            "Epoch 38/500\n",
            "7/7 [==============================] - 0s 9ms/step - loss: 0.2828 - mse: 0.2828 - val_loss: 0.4710 - val_mse: 0.4710 - lr: 0.0010\n",
            "Epoch 39/500\n",
            "7/7 [==============================] - 0s 8ms/step - loss: 0.2760 - mse: 0.2760 - val_loss: 0.4322 - val_mse: 0.4322 - lr: 0.0010\n",
            "Epoch 40/500\n",
            "7/7 [==============================] - 0s 8ms/step - loss: 0.1426 - mse: 0.1426 - val_loss: 0.4196 - val_mse: 0.4196 - lr: 0.0010\n",
            "Epoch 41/500\n",
            "7/7 [==============================] - 0s 8ms/step - loss: 0.2250 - mse: 0.2250 - val_loss: 0.4190 - val_mse: 0.4190 - lr: 0.0010\n",
            "Epoch 42/500\n",
            "7/7 [==============================] - 0s 9ms/step - loss: 0.1540 - mse: 0.1540 - val_loss: 0.3994 - val_mse: 0.3994 - lr: 0.0010\n",
            "Epoch 43/500\n",
            "7/7 [==============================] - 0s 8ms/step - loss: 0.1975 - mse: 0.1975 - val_loss: 0.3993 - val_mse: 0.3993 - lr: 0.0010\n",
            "Epoch 44/500\n",
            "7/7 [==============================] - 0s 10ms/step - loss: 0.2472 - mse: 0.2472 - val_loss: 0.3935 - val_mse: 0.3935 - lr: 0.0010\n",
            "Epoch 45/500\n",
            "7/7 [==============================] - 0s 8ms/step - loss: 0.1073 - mse: 0.1073 - val_loss: 0.3823 - val_mse: 0.3823 - lr: 0.0010\n",
            "Epoch 46/500\n",
            "7/7 [==============================] - 0s 9ms/step - loss: 0.1481 - mse: 0.1481 - val_loss: 0.3861 - val_mse: 0.3861 - lr: 0.0010\n",
            "Epoch 47/500\n",
            "7/7 [==============================] - 0s 8ms/step - loss: 0.1785 - mse: 0.1785 - val_loss: 0.3789 - val_mse: 0.3789 - lr: 0.0010\n",
            "Epoch 48/500\n",
            "7/7 [==============================] - 0s 9ms/step - loss: 0.1208 - mse: 0.1208 - val_loss: 0.3787 - val_mse: 0.3787 - lr: 0.0010\n",
            "Epoch 49/500\n",
            "7/7 [==============================] - 0s 8ms/step - loss: 0.1397 - mse: 0.1397 - val_loss: 0.3941 - val_mse: 0.3941 - lr: 0.0010\n",
            "Epoch 50/500\n",
            "7/7 [==============================] - 0s 8ms/step - loss: 0.1158 - mse: 0.1158 - val_loss: 0.4061 - val_mse: 0.4061 - lr: 0.0010\n",
            "Epoch 51/500\n",
            "7/7 [==============================] - 0s 9ms/step - loss: 0.1538 - mse: 0.1538 - val_loss: 0.4078 - val_mse: 0.4078 - lr: 0.0010\n",
            "Epoch 52/500\n",
            "7/7 [==============================] - 0s 8ms/step - loss: 0.0821 - mse: 0.0821 - val_loss: 0.3969 - val_mse: 0.3969 - lr: 0.0010\n",
            "Epoch 53/500\n",
            "7/7 [==============================] - 0s 11ms/step - loss: 0.2660 - mse: 0.2660 - val_loss: 0.3851 - val_mse: 0.3851 - lr: 0.0010\n",
            "Epoch 54/500\n",
            "1/7 [===>..........................] - ETA: 0s - loss: 0.0514 - mse: 0.0514\n",
            "Epoch 54: ReduceLROnPlateau reducing learning rate to 0.0006000000284984708.\n",
            "7/7 [==============================] - 0s 9ms/step - loss: 0.2921 - mse: 0.2921 - val_loss: 0.3955 - val_mse: 0.3955 - lr: 0.0010\n",
            "Epoch 55/500\n",
            "7/7 [==============================] - 0s 9ms/step - loss: 0.1398 - mse: 0.1398 - val_loss: 0.3900 - val_mse: 0.3900 - lr: 6.0000e-04\n",
            "Epoch 56/500\n",
            "7/7 [==============================] - 0s 8ms/step - loss: 0.0978 - mse: 0.0978 - val_loss: 0.3829 - val_mse: 0.3829 - lr: 6.0000e-04\n",
            "Epoch 57/500\n",
            "7/7 [==============================] - 0s 8ms/step - loss: 0.0897 - mse: 0.0897 - val_loss: 0.3694 - val_mse: 0.3694 - lr: 6.0000e-04\n",
            "Epoch 58/500\n",
            "7/7 [==============================] - 0s 8ms/step - loss: 0.0764 - mse: 0.0764 - val_loss: 0.3570 - val_mse: 0.3570 - lr: 6.0000e-04\n",
            "Epoch 59/500\n",
            "7/7 [==============================] - 0s 9ms/step - loss: 0.1104 - mse: 0.1104 - val_loss: 0.3448 - val_mse: 0.3448 - lr: 6.0000e-04\n",
            "Epoch 60/500\n",
            "7/7 [==============================] - 0s 8ms/step - loss: 0.1395 - mse: 0.1395 - val_loss: 0.3363 - val_mse: 0.3363 - lr: 6.0000e-04\n",
            "Epoch 61/500\n",
            "7/7 [==============================] - 0s 8ms/step - loss: 0.1758 - mse: 0.1758 - val_loss: 0.3329 - val_mse: 0.3329 - lr: 6.0000e-04\n",
            "Epoch 62/500\n",
            "7/7 [==============================] - 0s 9ms/step - loss: 0.1129 - mse: 0.1129 - val_loss: 0.3254 - val_mse: 0.3254 - lr: 6.0000e-04\n",
            "Epoch 63/500\n",
            "7/7 [==============================] - 0s 9ms/step - loss: 0.1129 - mse: 0.1129 - val_loss: 0.3215 - val_mse: 0.3215 - lr: 6.0000e-04\n",
            "Epoch 64/500\n",
            "7/7 [==============================] - 0s 8ms/step - loss: 0.1548 - mse: 0.1548 - val_loss: 0.3254 - val_mse: 0.3254 - lr: 6.0000e-04\n",
            "Epoch 65/500\n",
            "7/7 [==============================] - 0s 8ms/step - loss: 0.1584 - mse: 0.1584 - val_loss: 0.3245 - val_mse: 0.3245 - lr: 6.0000e-04\n",
            "Epoch 66/500\n",
            "7/7 [==============================] - 0s 9ms/step - loss: 0.0858 - mse: 0.0858 - val_loss: 0.3303 - val_mse: 0.3303 - lr: 6.0000e-04\n",
            "Epoch 67/500\n",
            "7/7 [==============================] - 0s 8ms/step - loss: 0.1431 - mse: 0.1431 - val_loss: 0.3397 - val_mse: 0.3397 - lr: 6.0000e-04\n",
            "Epoch 68/500\n",
            "7/7 [==============================] - 0s 9ms/step - loss: 0.1310 - mse: 0.1310 - val_loss: 0.3432 - val_mse: 0.3432 - lr: 6.0000e-04\n",
            "Epoch 69/500\n",
            "1/7 [===>..........................] - ETA: 0s - loss: 0.0472 - mse: 0.0472\n",
            "Epoch 69: ReduceLROnPlateau reducing learning rate to 0.0003600000170990825.\n",
            "7/7 [==============================] - 0s 9ms/step - loss: 0.1749 - mse: 0.1749 - val_loss: 0.3507 - val_mse: 0.3507 - lr: 6.0000e-04\n",
            "Epoch 70/500\n",
            "7/7 [==============================] - 0s 8ms/step - loss: 0.2093 - mse: 0.2093 - val_loss: 0.3420 - val_mse: 0.3420 - lr: 3.6000e-04\n",
            "Epoch 71/500\n",
            "7/7 [==============================] - 0s 8ms/step - loss: 0.0933 - mse: 0.0933 - val_loss: 0.3305 - val_mse: 0.3305 - lr: 3.6000e-04\n",
            "Epoch 72/500\n",
            "7/7 [==============================] - 0s 9ms/step - loss: 0.1104 - mse: 0.1104 - val_loss: 0.3284 - val_mse: 0.3284 - lr: 3.6000e-04\n",
            "Epoch 73/500\n",
            "7/7 [==============================] - 0s 8ms/step - loss: 0.0748 - mse: 0.0748 - val_loss: 0.3295 - val_mse: 0.3295 - lr: 3.6000e-04\n",
            "Epoch 74/500\n",
            "7/7 [==============================] - 0s 8ms/step - loss: 0.0989 - mse: 0.0989 - val_loss: 0.3383 - val_mse: 0.3383 - lr: 3.6000e-04\n",
            "Epoch 75/500\n",
            "1/7 [===>..........................] - ETA: 0s - loss: 0.0510 - mse: 0.0510\n",
            "Epoch 75: ReduceLROnPlateau reducing learning rate to 0.00021600000327453016.\n",
            "7/7 [==============================] - 0s 11ms/step - loss: 0.2067 - mse: 0.2067 - val_loss: 0.3439 - val_mse: 0.3439 - lr: 3.6000e-04\n",
            "Epoch 76/500\n",
            "7/7 [==============================] - 0s 10ms/step - loss: 0.1107 - mse: 0.1107 - val_loss: 0.3422 - val_mse: 0.3422 - lr: 2.1600e-04\n",
            "Epoch 77/500\n",
            "7/7 [==============================] - 0s 8ms/step - loss: 0.1511 - mse: 0.1511 - val_loss: 0.3365 - val_mse: 0.3365 - lr: 2.1600e-04\n",
            "Epoch 78/500\n",
            "7/7 [==============================] - 0s 8ms/step - loss: 0.1146 - mse: 0.1146 - val_loss: 0.3321 - val_mse: 0.3321 - lr: 2.1600e-04\n",
            "Epoch 79/500\n",
            "7/7 [==============================] - 0s 8ms/step - loss: 0.1220 - mse: 0.1220 - val_loss: 0.3278 - val_mse: 0.3278 - lr: 2.1600e-04\n",
            "Epoch 80/500\n",
            "7/7 [==============================] - 0s 9ms/step - loss: 0.1191 - mse: 0.1191 - val_loss: 0.3176 - val_mse: 0.3176 - lr: 2.1600e-04\n",
            "Epoch 81/500\n",
            "7/7 [==============================] - 0s 9ms/step - loss: 0.1482 - mse: 0.1482 - val_loss: 0.3092 - val_mse: 0.3092 - lr: 2.1600e-04\n",
            "Epoch 82/500\n",
            "7/7 [==============================] - 0s 9ms/step - loss: 0.1022 - mse: 0.1022 - val_loss: 0.3039 - val_mse: 0.3039 - lr: 2.1600e-04\n",
            "Epoch 83/500\n",
            "7/7 [==============================] - 0s 8ms/step - loss: 0.1628 - mse: 0.1628 - val_loss: 0.2968 - val_mse: 0.2968 - lr: 2.1600e-04\n",
            "Epoch 84/500\n",
            "7/7 [==============================] - 0s 8ms/step - loss: 0.0931 - mse: 0.0931 - val_loss: 0.2944 - val_mse: 0.2944 - lr: 2.1600e-04\n",
            "Epoch 85/500\n",
            "7/7 [==============================] - 0s 8ms/step - loss: 0.0991 - mse: 0.0991 - val_loss: 0.2927 - val_mse: 0.2927 - lr: 2.1600e-04\n",
            "Epoch 86/500\n",
            "7/7 [==============================] - 0s 8ms/step - loss: 0.1068 - mse: 0.1068 - val_loss: 0.2885 - val_mse: 0.2885 - lr: 2.1600e-04\n",
            "Epoch 87/500\n",
            "7/7 [==============================] - 0s 9ms/step - loss: 0.1213 - mse: 0.1213 - val_loss: 0.2880 - val_mse: 0.2880 - lr: 2.1600e-04\n",
            "Epoch 88/500\n",
            "7/7 [==============================] - 0s 9ms/step - loss: 0.0503 - mse: 0.0503 - val_loss: 0.2866 - val_mse: 0.2866 - lr: 2.1600e-04\n",
            "Epoch 89/500\n",
            "7/7 [==============================] - 0s 9ms/step - loss: 0.0700 - mse: 0.0700 - val_loss: 0.2844 - val_mse: 0.2844 - lr: 2.1600e-04\n",
            "Epoch 90/500\n",
            "7/7 [==============================] - 0s 9ms/step - loss: 0.1182 - mse: 0.1182 - val_loss: 0.2881 - val_mse: 0.2881 - lr: 2.1600e-04\n",
            "Epoch 91/500\n",
            "7/7 [==============================] - 0s 9ms/step - loss: 0.0877 - mse: 0.0877 - val_loss: 0.2901 - val_mse: 0.2901 - lr: 2.1600e-04\n",
            "Epoch 92/500\n",
            "7/7 [==============================] - 0s 9ms/step - loss: 0.1031 - mse: 0.1031 - val_loss: 0.2905 - val_mse: 0.2905 - lr: 2.1600e-04\n",
            "Epoch 93/500\n",
            "7/7 [==============================] - 0s 10ms/step - loss: 0.1399 - mse: 0.1399 - val_loss: 0.2898 - val_mse: 0.2898 - lr: 2.1600e-04\n",
            "Epoch 94/500\n",
            "7/7 [==============================] - 0s 8ms/step - loss: 0.1210 - mse: 0.1210 - val_loss: 0.2922 - val_mse: 0.2922 - lr: 2.1600e-04\n",
            "Epoch 95/500\n",
            "1/7 [===>..........................] - ETA: 0s - loss: 0.1726 - mse: 0.1726\n",
            "Epoch 95: ReduceLROnPlateau reducing learning rate to 0.00012960000021848827.\n",
            "7/7 [==============================] - 0s 9ms/step - loss: 0.1142 - mse: 0.1142 - val_loss: 0.2936 - val_mse: 0.2936 - lr: 2.1600e-04\n",
            "Epoch 96/500\n",
            "7/7 [==============================] - 0s 9ms/step - loss: 0.1112 - mse: 0.1112 - val_loss: 0.2924 - val_mse: 0.2924 - lr: 1.2960e-04\n",
            "Epoch 97/500\n",
            "7/7 [==============================] - 0s 10ms/step - loss: 0.1066 - mse: 0.1066 - val_loss: 0.2915 - val_mse: 0.2915 - lr: 1.2960e-04\n",
            "Epoch 98/500\n",
            "7/7 [==============================] - 0s 9ms/step - loss: 0.0921 - mse: 0.0921 - val_loss: 0.2926 - val_mse: 0.2926 - lr: 1.2960e-04\n",
            "Epoch 99/500\n",
            "7/7 [==============================] - 0s 9ms/step - loss: 0.0693 - mse: 0.0693 - val_loss: 0.2953 - val_mse: 0.2953 - lr: 1.2960e-04\n",
            "Epoch 100/500\n",
            "7/7 [==============================] - 0s 9ms/step - loss: 0.1012 - mse: 0.1012 - val_loss: 0.2971 - val_mse: 0.2971 - lr: 1.2960e-04\n",
            "Epoch 101/500\n",
            "1/7 [===>..........................] - ETA: 0s - loss: 0.0466 - mse: 0.0466\n",
            "Epoch 101: ReduceLROnPlateau reducing learning rate to 7.775999838486313e-05.\n",
            "7/7 [==============================] - 0s 10ms/step - loss: 0.0487 - mse: 0.0487 - val_loss: 0.2982 - val_mse: 0.2982 - lr: 1.2960e-04\n",
            "Epoch 102/500\n",
            "7/7 [==============================] - 0s 9ms/step - loss: 0.0663 - mse: 0.0663 - val_loss: 0.2977 - val_mse: 0.2977 - lr: 7.7760e-05\n",
            "Epoch 103/500\n",
            "7/7 [==============================] - 0s 8ms/step - loss: 0.1329 - mse: 0.1329 - val_loss: 0.2977 - val_mse: 0.2977 - lr: 7.7760e-05\n",
            "Epoch 104/500\n",
            "7/7 [==============================] - 0s 10ms/step - loss: 0.0825 - mse: 0.0825 - val_loss: 0.2980 - val_mse: 0.2980 - lr: 7.7760e-05\n",
            "Epoch 105/500\n",
            "7/7 [==============================] - 0s 12ms/step - loss: 0.0848 - mse: 0.0848 - val_loss: 0.2989 - val_mse: 0.2989 - lr: 7.7760e-05\n",
            "Epoch 106/500\n",
            "7/7 [==============================] - 0s 9ms/step - loss: 0.0584 - mse: 0.0584 - val_loss: 0.2999 - val_mse: 0.2999 - lr: 7.7760e-05\n",
            "Epoch 107/500\n",
            "1/7 [===>..........................] - ETA: 0s - loss: 0.1071 - mse: 0.1071\n",
            "Epoch 107: ReduceLROnPlateau reducing learning rate to 4.6655999904032795e-05.\n",
            "7/7 [==============================] - 0s 9ms/step - loss: 0.1335 - mse: 0.1335 - val_loss: 0.3006 - val_mse: 0.3006 - lr: 7.7760e-05\n",
            "Epoch 108/500\n",
            "7/7 [==============================] - 0s 9ms/step - loss: 0.1473 - mse: 0.1473 - val_loss: 0.3001 - val_mse: 0.3001 - lr: 4.6656e-05\n",
            "Epoch 109/500\n",
            "7/7 [==============================] - 0s 9ms/step - loss: 0.0664 - mse: 0.0664 - val_loss: 0.2995 - val_mse: 0.2995 - lr: 4.6656e-05\n",
            "Epoch 110/500\n",
            "7/7 [==============================] - 0s 9ms/step - loss: 0.1473 - mse: 0.1473 - val_loss: 0.2990 - val_mse: 0.2990 - lr: 4.6656e-05\n",
            "Epoch 111/500\n",
            "7/7 [==============================] - 0s 9ms/step - loss: 0.0888 - mse: 0.0888 - val_loss: 0.2986 - val_mse: 0.2986 - lr: 4.6656e-05\n",
            "Epoch 112/500\n",
            "7/7 [==============================] - 0s 9ms/step - loss: 0.0794 - mse: 0.0794 - val_loss: 0.2980 - val_mse: 0.2980 - lr: 4.6656e-05\n",
            "Epoch 113/500\n",
            "1/7 [===>..........................] - ETA: 0s - loss: 0.1010 - mse: 0.1010\n",
            "Epoch 113: ReduceLROnPlateau reducing learning rate to 2.799360081553459e-05.\n",
            "7/7 [==============================] - 0s 11ms/step - loss: 0.0918 - mse: 0.0918 - val_loss: 0.2976 - val_mse: 0.2976 - lr: 4.6656e-05\n",
            "Epoch 114/500\n",
            "7/7 [==============================] - 0s 8ms/step - loss: 0.0639 - mse: 0.0639 - val_loss: 0.2975 - val_mse: 0.2975 - lr: 2.7994e-05\n"
          ]
        }
      ]
    },
    {
      "cell_type": "code",
      "source": [
        "# Gráfico do treinamento: treino e validação\n",
        "import matplotlib.pyplot as plt\n",
        "_, train_mse = model.evaluate(x_train_reshaped, y_train, verbose=0)\n",
        "_, test_mse = model.evaluate(x_test_reshaped, y_test, verbose=0)\n",
        "print('Train: %.3f, Test: %.3f' % (train_mse, test_mse))\n",
        "plt.plot(history.history['loss'], label='train')\n",
        "plt.plot(history.history['val_loss'], label='validation')\n",
        "plt.title('Walmart vendas - Treino x Validação')\n",
        "plt.ylabel('loss')\n",
        "plt.xlabel('época')\n",
        "plt.legend();"
      ],
      "metadata": {
        "id": "VoS3GGhTE8k-",
        "colab": {
          "base_uri": "https://localhost:8080/",
          "height": 313
        },
        "outputId": "6fa843b1-8f1d-49d5-e7f4-5dcf28cfad2f"
      },
      "execution_count": 204,
      "outputs": [
        {
          "output_type": "stream",
          "name": "stdout",
          "text": [
            "Train: 0.017, Test: 0.298\n"
          ]
        },
        {
          "output_type": "display_data",
          "data": {
            "text/plain": [
              "<Figure size 432x288 with 1 Axes>"
            ],
            "image/png": "[encoded data removed]"
          },
          "metadata": {
            "needs_background": "light"
          }
        }
      ]
    },
    {
      "cell_type": "code",
      "source": [
        "# make predictions\n",
        "trainPredict = model.predict(x_train_reshaped)\n",
        "testPredict = model.predict(x_test_reshaped)\n",
        "# invert predictions\n",
        "trainPredict = scaler_y.inverse_transform(trainPredict.reshape(-1,1))\n",
        "y_train_desnorm = scaler_y.inverse_transform(y_train)\n",
        "testPredict = scaler_y.inverse_transform(testPredict.reshape(-1,1))\n",
        "y_test_desnorm = scaler_y.inverse_transform(y_test)"
      ],
      "metadata": {
        "id": "XINgHeMr9B2P"
      },
      "execution_count": 205,
      "outputs": []
    },
    {
      "cell_type": "code",
      "source": [
        "trainPredict[:2]"
      ],
      "metadata": {
        "id": "qwcNQP5O90y6",
        "colab": {
          "base_uri": "https://localhost:8080/"
        },
        "outputId": "56b24218-46b7-44c5-99bc-b254ff7338c7"
      },
      "execution_count": 206,
      "outputs": [
        {
          "output_type": "execute_result",
          "data": {
            "text/plain": [
              "array([[1501242.1],\n",
              "       [1368973.1]], dtype=float32)"
            ]
          },
          "metadata": {},
          "execution_count": 206
        }
      ]
    },
    {
      "cell_type": "code",
      "source": [
        "y_train_desnorm[:2]"
      ],
      "metadata": {
        "id": "5XphIsT492e0",
        "colab": {
          "base_uri": "https://localhost:8080/"
        },
        "outputId": "52358147-78d4-4116-9a66-85e7266a4cbb"
      },
      "execution_count": 208,
      "outputs": [
        {
          "output_type": "execute_result",
          "data": {
            "text/plain": [
              "array([[1494122.38],\n",
              "       [1351791.03]])"
            ]
          },
          "metadata": {},
          "execution_count": 208
        }
      ]
    },
    {
      "cell_type": "code",
      "source": [
        "y_pred4 = model.predict(x_test_reshaped)\n",
        "y_pred4"
      ],
      "metadata": {
        "id": "fE_HaXgYLzYh",
        "colab": {
          "base_uri": "https://localhost:8080/"
        },
        "outputId": "4c2c920d-87ae-4a88-8ef9-76645e613655"
      },
      "execution_count": 209,
      "outputs": [
        {
          "output_type": "execute_result",
          "data": {
            "text/plain": [
              "array([[ 0.77292097],\n",
              "       [ 0.7009813 ],\n",
              "       [-0.20504579],\n",
              "       [ 0.4419901 ],\n",
              "       [-0.8643364 ],\n",
              "       [-0.06732195],\n",
              "       [ 2.3668106 ],\n",
              "       [-0.37088865],\n",
              "       [-0.66256016],\n",
              "       [ 0.733152  ],\n",
              "       [-0.03501727],\n",
              "       [ 0.33182904],\n",
              "       [ 0.22012627],\n",
              "       [-0.581418  ],\n",
              "       [-0.30411914],\n",
              "       [ 0.8119398 ],\n",
              "       [ 0.983564  ],\n",
              "       [ 0.56845427],\n",
              "       [-0.35808906],\n",
              "       [-0.15041232],\n",
              "       [ 3.6178143 ],\n",
              "       [ 0.15462148],\n",
              "       [-0.6416983 ],\n",
              "       [-0.8496931 ],\n",
              "       [ 0.07335902]], dtype=float32)"
            ]
          },
          "metadata": {},
          "execution_count": 209
        }
      ]
    },
    {
      "cell_type": "code",
      "source": [
        "y_prev4 = scaler_y.inverse_transform(y_pred4.reshape(-1,1))\n",
        "y_real = scaler_y.inverse_transform(y_test.reshape(-1,1))"
      ],
      "metadata": {
        "id": "C_PnKKXoL4bu"
      },
      "execution_count": 210,
      "outputs": []
    },
    {
      "cell_type": "code",
      "source": [
        "plt.plot(y_prev4, label='previsto', marker='o')\n",
        "plt.plot(y_real, label='real', marker='+')\n",
        "plt.ylabel(\"vendas\")\n",
        "plt.title(\"Walmart vendas - Real x Previsto\")\n",
        "plt.legend()\n",
        "plt.show()"
      ],
      "metadata": {
        "id": "g86jz0g0MFyF",
        "colab": {
          "base_uri": "https://localhost:8080/",
          "height": 281
        },
        "outputId": "fe48c718-fd26-4f5d-f64b-d06d5fd7b9e2"
      },
      "execution_count": 211,
      "outputs": [
        {
          "output_type": "display_data",
          "data": {
            "text/plain": [
              "<Figure size 432x288 with 1 Axes>"
            ],
            "image/png": "[encoded data removed]"
          },
          "metadata": {
            "needs_background": "light"
          }
        }
      ]
    },
    {
      "cell_type": "code",
      "source": [
        "import math\n",
        "from sklearn.metrics import mean_squared_error\n",
        "rmse = math.sqrt(mean_squared_error(y_prev4,y_real))\n",
        "print('RMSE: ', rmse)"
      ],
      "metadata": {
        "id": "d4mWueRvWnpK",
        "colab": {
          "base_uri": "https://localhost:8080/"
        },
        "outputId": "6f9803d6-624f-47fd-874f-5b7ff84e8584"
      },
      "execution_count": 212,
      "outputs": [
        {
          "output_type": "stream",
          "name": "stdout",
          "text": [
            "RMSE:  83895.53845595705\n"
          ]
        }
      ]
    },
    {
      "cell_type": "code",
      "source": [
        "mse = mean_squared_error(y_prev4,y_real)\n",
        "print('MSE: ',mse)"
      ],
      "metadata": {
        "id": "gViP66-3WnpL",
        "colab": {
          "base_uri": "https://localhost:8080/"
        },
        "outputId": "cbfafa06-9c55-42bd-f971-a123671a1815"
      },
      "execution_count": 213,
      "outputs": [
        {
          "output_type": "stream",
          "name": "stdout",
          "text": [
            "MSE:  7038461372.814968\n"
          ]
        }
      ]
    },
    {
      "cell_type": "code",
      "source": [
        "mape = np.mean(np.abs((y_real - y_prev4) / y_real)) * 100\n",
        "print('MAPE: ',mape, '%')"
      ],
      "metadata": {
        "id": "DZdylG4AWnpM",
        "colab": {
          "base_uri": "https://localhost:8080/"
        },
        "outputId": "49d3eaf3-e7ee-4dbf-a5c0-b080952f9f0e"
      },
      "execution_count": 214,
      "outputs": [
        {
          "output_type": "stream",
          "name": "stdout",
          "text": [
            "MAPE:  4.077557368384818 %\n"
          ]
        }
      ]
    },
    {
      "cell_type": "code",
      "source": [
        "from sklearn.metrics import r2_score\n",
        "r2_score(y_pred4,y_test)"
      ],
      "metadata": {
        "id": "rHNnHCE9WnpM",
        "colab": {
          "base_uri": "https://localhost:8080/"
        },
        "outputId": "f2bb7fa4-ed19-48d8-d800-9fd20e9725f2"
      },
      "execution_count": 215,
      "outputs": [
        {
          "output_type": "execute_result",
          "data": {
            "text/plain": [
              "0.6893887365788705"
            ]
          },
          "metadata": {},
          "execution_count": 215
        }
      ]
    },
    {
      "cell_type": "code",
      "source": [
        "rmspe = np.sqrt(np.mean(np.square(((y_real - y_prev4) / y_real)), axis=0)) * 100\n",
        "print('rmspe: ',rmspe, '%')"
      ],
      "metadata": {
        "id": "hkv0sPIrWnpM",
        "colab": {
          "base_uri": "https://localhost:8080/"
        },
        "outputId": "3dc6dc75-808a-44bb-d1c1-5fd0a15302d1"
      },
      "execution_count": 216,
      "outputs": [
        {
          "output_type": "stream",
          "name": "stdout",
          "text": [
            "rmspe:  [5.29037507] %\n"
          ]
        }
      ]
    },
    {
      "cell_type": "code",
      "source": [
        "# calculate root mean squared error\n",
        "trainScore = math.sqrt(mean_squared_error(y_train_desnorm, trainPredict))\n",
        "print('Train Score: %.2f RMSE' % (trainScore))\n",
        "testScore = math.sqrt(mean_squared_error(y_test_desnorm, testPredict))\n",
        "print('Test Score: %.2f RMSE' % (testScore))"
      ],
      "metadata": {
        "id": "yE0Y5GzJ9gRj",
        "colab": {
          "base_uri": "https://localhost:8080/"
        },
        "outputId": "2b95075e-b03c-48e1-a2b0-6b97ef9ec773"
      },
      "execution_count": 217,
      "outputs": [
        {
          "output_type": "stream",
          "name": "stdout",
          "text": [
            "Train Score: 20009.42 RMSE\n",
            "Test Score: 83895.54 RMSE\n"
          ]
        }
      ]
    },
    {
      "cell_type": "code",
      "source": [
        "#prevendo 12 passos a frente\n",
        "timesteps_to_predict = 12\n",
        "df_lag = df.iloc[-window:,:]\n",
        "lag = []\n",
        "for i in range(window, len(df_lag)+1):\n",
        "    lag.append(list(df_lag.iloc[i-window:i,0]) + \n",
        "              list(df_lag.iloc[i-window:i,1]) +\n",
        "              list(df_lag.iloc[i-window:i,2]) +\n",
        "              list(df_lag.iloc[i-window:i,3]) +\n",
        "              list(df_lag.iloc[i-window:i,4]) +\n",
        "              list(df_lag.iloc[i-window:i,5])\n",
        "              )\n",
        "lag = np.array(lag)\n",
        "\n",
        "predictions=[]\n",
        "for i in range(timesteps_to_predict):\n",
        "  lag_4norm = lag.reshape(-1,n_exogens,window)\n",
        "  for i in range(n_exogens):\n",
        "      lag_4norm[:, i, :] = scalers[i].transform(lag_4norm[:, i, :])\n",
        "  lag = lag_4norm.reshape(-1,(n_exogens*window))\n",
        "  \n",
        "  prediction = regressor.predict(lag)\n",
        "  prediction_to_add = scaler_y.inverse_transform(prediction.reshape(-1,1)) #scaler_y\n",
        "  predictions.append(prediction_to_add)\n",
        "\n",
        "  lag_4norm = lag_4norm.reshape(-1,n_exogens,window)\n",
        "  for i in range(n_exogens):\n",
        "      lag_4norm[:, i, :] = scalers[i].inverse_transform(lag_4norm[:, i, :])\n",
        "  lag = lag_4norm.reshape(-1,(n_exogens*window))\n",
        "\n",
        "  # break\n",
        "\n",
        "  lag = lag[0, 1:]\n",
        "  lag = np.insert(lag, window-1, prediction_to_add)   \n",
        "#   lag = np.append(lag, prediction_to_add)\n",
        "\n",
        "predictions = np.array(predictions).reshape(-1)"
      ],
      "metadata": {
        "id": "zwfXEPj9Zwso"
      },
      "execution_count": 218,
      "outputs": []
    },
    {
      "cell_type": "code",
      "source": [
        "all_data = np.vstack((df.iloc[:,0].values.tolist() + predictions.tolist()))\n",
        "plt.figure(figsize=(10,5))\n",
        "plt.plot(all_data)\n",
        "plt.title('Previsão de série temporal')\n",
        "plt.xlabel('Tempo')\n",
        "plt.ylabel('vendas')\n",
        "\n",
        "# marca o início das previsões\n",
        "x = [len(df)-1, len(df)-1]\n",
        "y = [df['Weekly_Sales'].min(), df['Weekly_Sales'].max()]\n",
        "plt.plot(x, y, color='red')\n",
        "\n",
        "#salva o gráfico\n",
        "plt.show()\n"
      ],
      "metadata": {
        "id": "GV7-k33uZw29",
        "colab": {
          "base_uri": "https://localhost:8080/",
          "height": 350
        },
        "outputId": "5944fa20-59e3-43a6-ec5a-257b57a5d7d4"
      },
      "execution_count": 219,
      "outputs": [
        {
          "output_type": "display_data",
          "data": {
            "text/plain": [
              "<Figure size 720x360 with 1 Axes>"
            ],
            "image/png": "[encoded data removed]"
          },
          "metadata": {
            "needs_background": "light"
          }
        }
      ]
    }
  ]
}
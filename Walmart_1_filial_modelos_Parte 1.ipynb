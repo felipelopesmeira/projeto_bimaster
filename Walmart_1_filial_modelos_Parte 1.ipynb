{
  "nbformat": 4,
  "nbformat_minor": 0,
  "metadata": {
    "colab": {
      "name": "Walmart_1_filial_modelos_v4.3.ipynb",
      "provenance": [],
      "collapsed_sections": []
    },
    "kernelspec": {
      "name": "python3",
      "display_name": "Python 3"
    },
    "language_info": {
      "name": "python"
    }
  },
  "cells": [
    {
      "cell_type": "markdown",
      "source": [
        "#Importar base"
      ],
      "metadata": {
        "id": "72jPx3TBs__5"
      }
    },
    {
      "cell_type": "code",
      "execution_count": 584,
      "metadata": {
        "id": "IDxkefGJ2YfS"
      },
      "outputs": [],
      "source": [
        "# Importação dos pacotes\n",
        "\n",
        "import pandas as pd\n",
        "import numpy as np\n",
        "import calendar\n",
        "import seaborn as sns\n",
        "import matplotlib.pyplot as plt\n",
        "import datetime as dt\n",
        "from datetime import datetime\n",
        "\n",
        "import plotly.express as px\n",
        "from plotly.subplots import make_subplots\n",
        "import plotly.figure_factory as ff\n",
        "import plotly.offline as offline\n",
        "import plotly.graph_objs as go"
      ]
    },
    {
      "cell_type": "code",
      "source": [
        "df = pd.read_csv('Walmart.csv', header=0, parse_dates=True,squeeze=True) \n",
        "df.head()\n"
      ],
      "metadata": {
        "colab": {
          "base_uri": "https://localhost:8080/",
          "height": 206
        },
        "id": "siVQlOAa21Lr",
        "outputId": "bc144bb8-fc68-45a1-db9e-ab9e7c0357e8"
      },
      "execution_count": 585,
      "outputs": [
        {
          "output_type": "execute_result",
          "data": {
            "text/plain": [
              "   Store        Date  Weekly_Sales  Holiday_Flag  Temperature  Fuel_Price  \\\n",
              "0      1  05-02-2010    1643690.90             0        42.31       2.572   \n",
              "1      1  12-02-2010    1641957.44             1        38.51       2.548   \n",
              "2      1  19-02-2010    1611968.17             0        39.93       2.514   \n",
              "3      1  26-02-2010    1409727.59             0        46.63       2.561   \n",
              "4      1  05-03-2010    1554806.68             0        46.50       2.625   \n",
              "\n",
              "          CPI  Unemployment  \n",
              "0  211.096358         8.106  \n",
              "1  211.242170         8.106  \n",
              "2  211.289143         8.106  \n",
              "3  211.319643         8.106  \n",
              "4  211.350143         8.106  "
            ],
            "text/html": [
              "\n",
              "  <div id=\"df-33032c15-1ab2-4a87-a58a-be4058753f0c\">\n",
              "    <div class=\"colab-df-container\">\n",
              "      <div>\n",
              "<style scoped>\n",
              "    .dataframe tbody tr th:only-of-type {\n",
              "        vertical-align: middle;\n",
              "    }\n",
              "\n",
              "    .dataframe tbody tr th {\n",
              "        vertical-align: top;\n",
              "    }\n",
              "\n",
              "    .dataframe thead th {\n",
              "        text-align: right;\n",
              "    }\n",
              "</style>\n",
              "<table border=\"1\" class=\"dataframe\">\n",
              "  <thead>\n",
              "    <tr style=\"text-align: right;\">\n",
              "      <th></th>\n",
              "      <th>Store</th>\n",
              "      <th>Date</th>\n",
              "      <th>Weekly_Sales</th>\n",
              "      <th>Holiday_Flag</th>\n",
              "      <th>Temperature</th>\n",
              "      <th>Fuel_Price</th>\n",
              "      <th>CPI</th>\n",
              "      <th>Unemployment</th>\n",
              "    </tr>\n",
              "  </thead>\n",
              "  <tbody>\n",
              "    <tr>\n",
              "      <th>0</th>\n",
              "      <td>1</td>\n",
              "      <td>05-02-2010</td>\n",
              "      <td>1643690.90</td>\n",
              "      <td>0</td>\n",
              "      <td>42.31</td>\n",
              "      <td>2.572</td>\n",
              "      <td>211.096358</td>\n",
              "      <td>8.106</td>\n",
              "    </tr>\n",
              "    <tr>\n",
              "      <th>1</th>\n",
              "      <td>1</td>\n",
              "      <td>12-02-2010</td>\n",
              "      <td>1641957.44</td>\n",
              "      <td>1</td>\n",
              "      <td>38.51</td>\n",
              "      <td>2.548</td>\n",
              "      <td>211.242170</td>\n",
              "      <td>8.106</td>\n",
              "    </tr>\n",
              "    <tr>\n",
              "      <th>2</th>\n",
              "      <td>1</td>\n",
              "      <td>19-02-2010</td>\n",
              "      <td>1611968.17</td>\n",
              "      <td>0</td>\n",
              "      <td>39.93</td>\n",
              "      <td>2.514</td>\n",
              "      <td>211.289143</td>\n",
              "      <td>8.106</td>\n",
              "    </tr>\n",
              "    <tr>\n",
              "      <th>3</th>\n",
              "      <td>1</td>\n",
              "      <td>26-02-2010</td>\n",
              "      <td>1409727.59</td>\n",
              "      <td>0</td>\n",
              "      <td>46.63</td>\n",
              "      <td>2.561</td>\n",
              "      <td>211.319643</td>\n",
              "      <td>8.106</td>\n",
              "    </tr>\n",
              "    <tr>\n",
              "      <th>4</th>\n",
              "      <td>1</td>\n",
              "      <td>05-03-2010</td>\n",
              "      <td>1554806.68</td>\n",
              "      <td>0</td>\n",
              "      <td>46.50</td>\n",
              "      <td>2.625</td>\n",
              "      <td>211.350143</td>\n",
              "      <td>8.106</td>\n",
              "    </tr>\n",
              "  </tbody>\n",
              "</table>\n",
              "</div>\n",
              "      <button class=\"colab-df-convert\" onclick=\"convertToInteractive('df-33032c15-1ab2-4a87-a58a-be4058753f0c')\"\n",
              "              title=\"Convert this dataframe to an interactive table.\"\n",
              "              style=\"display:none;\">\n",
              "        \n",
              "  <svg xmlns=\"http://www.w3.org/2000/svg\" height=\"24px\"viewBox=\"0 0 24 24\"\n",
              "       width=\"24px\">\n",
              "    <path d=\"M0 0h24v24H0V0z\" fill=\"none\"/>\n",
              "    <path d=\"M18.56 5.44l.94 2.06.94-2.06 2.06-.94-2.06-.94-.94-2.06-.94 2.06-2.06.94zm-11 1L8.5 8.5l.94-2.06 2.06-.94-2.06-.94L8.5 2.5l-.94 2.06-2.06.94zm10 10l.94 2.06.94-2.06 2.06-.94-2.06-.94-.94-2.06-.94 2.06-2.06.94z\"/><path d=\"M17.41 7.96l-1.37-1.37c-.4-.4-.92-.59-1.43-.59-.52 0-1.04.2-1.43.59L10.3 9.45l-7.72 7.72c-.78.78-.78 2.05 0 2.83L4 21.41c.39.39.9.59 1.41.59.51 0 1.02-.2 1.41-.59l7.78-7.78 2.81-2.81c.8-.78.8-2.07 0-2.86zM5.41 20L4 18.59l7.72-7.72 1.47 1.35L5.41 20z\"/>\n",
              "  </svg>\n",
              "      </button>\n",
              "      \n",
              "  <style>\n",
              "    .colab-df-container {\n",
              "      display:flex;\n",
              "      flex-wrap:wrap;\n",
              "      gap: 12px;\n",
              "    }\n",
              "\n",
              "    .colab-df-convert {\n",
              "      background-color: #E8F0FE;\n",
              "      border: none;\n",
              "      border-radius: 50%;\n",
              "      cursor: pointer;\n",
              "      display: none;\n",
              "      fill: #1967D2;\n",
              "      height: 32px;\n",
              "      padding: 0 0 0 0;\n",
              "      width: 32px;\n",
              "    }\n",
              "\n",
              "    .colab-df-convert:hover {\n",
              "      background-color: #E2EBFA;\n",
              "      box-shadow: 0px 1px 2px rgba(60, 64, 67, 0.3), 0px 1px 3px 1px rgba(60, 64, 67, 0.15);\n",
              "      fill: #174EA6;\n",
              "    }\n",
              "\n",
              "    [theme=dark] .colab-df-convert {\n",
              "      background-color: #3B4455;\n",
              "      fill: #D2E3FC;\n",
              "    }\n",
              "\n",
              "    [theme=dark] .colab-df-convert:hover {\n",
              "      background-color: #434B5C;\n",
              "      box-shadow: 0px 1px 3px 1px rgba(0, 0, 0, 0.15);\n",
              "      filter: drop-shadow(0px 1px 2px rgba(0, 0, 0, 0.3));\n",
              "      fill: #FFFFFF;\n",
              "    }\n",
              "  </style>\n",
              "\n",
              "      <script>\n",
              "        const buttonEl =\n",
              "          document.querySelector('#df-33032c15-1ab2-4a87-a58a-be4058753f0c button.colab-df-convert');\n",
              "        buttonEl.style.display =\n",
              "          google.colab.kernel.accessAllowed ? 'block' : 'none';\n",
              "\n",
              "        async function convertToInteractive(key) {\n",
              "          const element = document.querySelector('#df-33032c15-1ab2-4a87-a58a-be4058753f0c');\n",
              "          const dataTable =\n",
              "            await google.colab.kernel.invokeFunction('convertToInteractive',\n",
              "                                                     [key], {});\n",
              "          if (!dataTable) return;\n",
              "\n",
              "          const docLinkHtml = 'Like what you see? Visit the ' +\n",
              "            '<a target=\"_blank\" href=https://colab.research.google.com/notebooks/data_table.ipynb>data table notebook</a>'\n",
              "            + ' to learn more about interactive tables.';\n",
              "          element.innerHTML = '';\n",
              "          dataTable['output_type'] = 'display_data';\n",
              "          await google.colab.output.renderOutput(dataTable, element);\n",
              "          const docLink = document.createElement('div');\n",
              "          docLink.innerHTML = docLinkHtml;\n",
              "          element.appendChild(docLink);\n",
              "        }\n",
              "      </script>\n",
              "    </div>\n",
              "  </div>\n",
              "  "
            ]
          },
          "metadata": {},
          "execution_count": 585
        }
      ]
    },
    {
      "cell_type": "markdown",
      "source": [
        "#Modelagem da base - Separação da store 1 e vendas semanais"
      ],
      "metadata": {
        "id": "YFnZL7jT8qVs"
      }
    },
    {
      "cell_type": "code",
      "source": [
        "df = df.iloc[:,[0,1,2]]\n",
        "df"
      ],
      "metadata": {
        "id": "P34JHbh73VQ0",
        "colab": {
          "base_uri": "https://localhost:8080/",
          "height": 424
        },
        "outputId": "c03cfe23-cfaf-400c-a24f-25b7868e2c3a"
      },
      "execution_count": 586,
      "outputs": [
        {
          "output_type": "execute_result",
          "data": {
            "text/plain": [
              "      Store        Date  Weekly_Sales\n",
              "0         1  05-02-2010    1643690.90\n",
              "1         1  12-02-2010    1641957.44\n",
              "2         1  19-02-2010    1611968.17\n",
              "3         1  26-02-2010    1409727.59\n",
              "4         1  05-03-2010    1554806.68\n",
              "...     ...         ...           ...\n",
              "6430     45  28-09-2012     713173.95\n",
              "6431     45  05-10-2012     733455.07\n",
              "6432     45  12-10-2012     734464.36\n",
              "6433     45  19-10-2012     718125.53\n",
              "6434     45  26-10-2012     760281.43\n",
              "\n",
              "[6435 rows x 3 columns]"
            ],
            "text/html": [
              "\n",
              "  <div id=\"df-c5e89388-5a2f-46e3-87aa-9b2afd1d4742\">\n",
              "    <div class=\"colab-df-container\">\n",
              "      <div>\n",
              "<style scoped>\n",
              "    .dataframe tbody tr th:only-of-type {\n",
              "        vertical-align: middle;\n",
              "    }\n",
              "\n",
              "    .dataframe tbody tr th {\n",
              "        vertical-align: top;\n",
              "    }\n",
              "\n",
              "    .dataframe thead th {\n",
              "        text-align: right;\n",
              "    }\n",
              "</style>\n",
              "<table border=\"1\" class=\"dataframe\">\n",
              "  <thead>\n",
              "    <tr style=\"text-align: right;\">\n",
              "      <th></th>\n",
              "      <th>Store</th>\n",
              "      <th>Date</th>\n",
              "      <th>Weekly_Sales</th>\n",
              "    </tr>\n",
              "  </thead>\n",
              "  <tbody>\n",
              "    <tr>\n",
              "      <th>0</th>\n",
              "      <td>1</td>\n",
              "      <td>05-02-2010</td>\n",
              "      <td>1643690.90</td>\n",
              "    </tr>\n",
              "    <tr>\n",
              "      <th>1</th>\n",
              "      <td>1</td>\n",
              "      <td>12-02-2010</td>\n",
              "      <td>1641957.44</td>\n",
              "    </tr>\n",
              "    <tr>\n",
              "      <th>2</th>\n",
              "      <td>1</td>\n",
              "      <td>19-02-2010</td>\n",
              "      <td>1611968.17</td>\n",
              "    </tr>\n",
              "    <tr>\n",
              "      <th>3</th>\n",
              "      <td>1</td>\n",
              "      <td>26-02-2010</td>\n",
              "      <td>1409727.59</td>\n",
              "    </tr>\n",
              "    <tr>\n",
              "      <th>4</th>\n",
              "      <td>1</td>\n",
              "      <td>05-03-2010</td>\n",
              "      <td>1554806.68</td>\n",
              "    </tr>\n",
              "    <tr>\n",
              "      <th>...</th>\n",
              "      <td>...</td>\n",
              "      <td>...</td>\n",
              "      <td>...</td>\n",
              "    </tr>\n",
              "    <tr>\n",
              "      <th>6430</th>\n",
              "      <td>45</td>\n",
              "      <td>28-09-2012</td>\n",
              "      <td>713173.95</td>\n",
              "    </tr>\n",
              "    <tr>\n",
              "      <th>6431</th>\n",
              "      <td>45</td>\n",
              "      <td>05-10-2012</td>\n",
              "      <td>733455.07</td>\n",
              "    </tr>\n",
              "    <tr>\n",
              "      <th>6432</th>\n",
              "      <td>45</td>\n",
              "      <td>12-10-2012</td>\n",
              "      <td>734464.36</td>\n",
              "    </tr>\n",
              "    <tr>\n",
              "      <th>6433</th>\n",
              "      <td>45</td>\n",
              "      <td>19-10-2012</td>\n",
              "      <td>718125.53</td>\n",
              "    </tr>\n",
              "    <tr>\n",
              "      <th>6434</th>\n",
              "      <td>45</td>\n",
              "      <td>26-10-2012</td>\n",
              "      <td>760281.43</td>\n",
              "    </tr>\n",
              "  </tbody>\n",
              "</table>\n",
              "<p>6435 rows × 3 columns</p>\n",
              "</div>\n",
              "      <button class=\"colab-df-convert\" onclick=\"convertToInteractive('df-c5e89388-5a2f-46e3-87aa-9b2afd1d4742')\"\n",
              "              title=\"Convert this dataframe to an interactive table.\"\n",
              "              style=\"display:none;\">\n",
              "        \n",
              "  <svg xmlns=\"http://www.w3.org/2000/svg\" height=\"24px\"viewBox=\"0 0 24 24\"\n",
              "       width=\"24px\">\n",
              "    <path d=\"M0 0h24v24H0V0z\" fill=\"none\"/>\n",
              "    <path d=\"M18.56 5.44l.94 2.06.94-2.06 2.06-.94-2.06-.94-.94-2.06-.94 2.06-2.06.94zm-11 1L8.5 8.5l.94-2.06 2.06-.94-2.06-.94L8.5 2.5l-.94 2.06-2.06.94zm10 10l.94 2.06.94-2.06 2.06-.94-2.06-.94-.94-2.06-.94 2.06-2.06.94z\"/><path d=\"M17.41 7.96l-1.37-1.37c-.4-.4-.92-.59-1.43-.59-.52 0-1.04.2-1.43.59L10.3 9.45l-7.72 7.72c-.78.78-.78 2.05 0 2.83L4 21.41c.39.39.9.59 1.41.59.51 0 1.02-.2 1.41-.59l7.78-7.78 2.81-2.81c.8-.78.8-2.07 0-2.86zM5.41 20L4 18.59l7.72-7.72 1.47 1.35L5.41 20z\"/>\n",
              "  </svg>\n",
              "      </button>\n",
              "      \n",
              "  <style>\n",
              "    .colab-df-container {\n",
              "      display:flex;\n",
              "      flex-wrap:wrap;\n",
              "      gap: 12px;\n",
              "    }\n",
              "\n",
              "    .colab-df-convert {\n",
              "      background-color: #E8F0FE;\n",
              "      border: none;\n",
              "      border-radius: 50%;\n",
              "      cursor: pointer;\n",
              "      display: none;\n",
              "      fill: #1967D2;\n",
              "      height: 32px;\n",
              "      padding: 0 0 0 0;\n",
              "      width: 32px;\n",
              "    }\n",
              "\n",
              "    .colab-df-convert:hover {\n",
              "      background-color: #E2EBFA;\n",
              "      box-shadow: 0px 1px 2px rgba(60, 64, 67, 0.3), 0px 1px 3px 1px rgba(60, 64, 67, 0.15);\n",
              "      fill: #174EA6;\n",
              "    }\n",
              "\n",
              "    [theme=dark] .colab-df-convert {\n",
              "      background-color: #3B4455;\n",
              "      fill: #D2E3FC;\n",
              "    }\n",
              "\n",
              "    [theme=dark] .colab-df-convert:hover {\n",
              "      background-color: #434B5C;\n",
              "      box-shadow: 0px 1px 3px 1px rgba(0, 0, 0, 0.15);\n",
              "      filter: drop-shadow(0px 1px 2px rgba(0, 0, 0, 0.3));\n",
              "      fill: #FFFFFF;\n",
              "    }\n",
              "  </style>\n",
              "\n",
              "      <script>\n",
              "        const buttonEl =\n",
              "          document.querySelector('#df-c5e89388-5a2f-46e3-87aa-9b2afd1d4742 button.colab-df-convert');\n",
              "        buttonEl.style.display =\n",
              "          google.colab.kernel.accessAllowed ? 'block' : 'none';\n",
              "\n",
              "        async function convertToInteractive(key) {\n",
              "          const element = document.querySelector('#df-c5e89388-5a2f-46e3-87aa-9b2afd1d4742');\n",
              "          const dataTable =\n",
              "            await google.colab.kernel.invokeFunction('convertToInteractive',\n",
              "                                                     [key], {});\n",
              "          if (!dataTable) return;\n",
              "\n",
              "          const docLinkHtml = 'Like what you see? Visit the ' +\n",
              "            '<a target=\"_blank\" href=https://colab.research.google.com/notebooks/data_table.ipynb>data table notebook</a>'\n",
              "            + ' to learn more about interactive tables.';\n",
              "          element.innerHTML = '';\n",
              "          dataTable['output_type'] = 'display_data';\n",
              "          await google.colab.output.renderOutput(dataTable, element);\n",
              "          const docLink = document.createElement('div');\n",
              "          docLink.innerHTML = docLinkHtml;\n",
              "          element.appendChild(docLink);\n",
              "        }\n",
              "      </script>\n",
              "    </div>\n",
              "  </div>\n",
              "  "
            ]
          },
          "metadata": {},
          "execution_count": 586
        }
      ]
    },
    {
      "cell_type": "code",
      "source": [
        "df = df[(df['Store'] == 1)]\n",
        "df"
      ],
      "metadata": {
        "id": "pxunDUGu3sp5",
        "colab": {
          "base_uri": "https://localhost:8080/",
          "height": 424
        },
        "outputId": "4cfcfe62-3631-4e96-f31a-21a3daa5cbf3"
      },
      "execution_count": 587,
      "outputs": [
        {
          "output_type": "execute_result",
          "data": {
            "text/plain": [
              "     Store        Date  Weekly_Sales\n",
              "0        1  05-02-2010    1643690.90\n",
              "1        1  12-02-2010    1641957.44\n",
              "2        1  19-02-2010    1611968.17\n",
              "3        1  26-02-2010    1409727.59\n",
              "4        1  05-03-2010    1554806.68\n",
              "..     ...         ...           ...\n",
              "138      1  28-09-2012    1437059.26\n",
              "139      1  05-10-2012    1670785.97\n",
              "140      1  12-10-2012    1573072.81\n",
              "141      1  19-10-2012    1508068.77\n",
              "142      1  26-10-2012    1493659.74\n",
              "\n",
              "[143 rows x 3 columns]"
            ],
            "text/html": [
              "\n",
              "  <div id=\"df-29c596c2-250c-4860-acaa-2fc8402297bc\">\n",
              "    <div class=\"colab-df-container\">\n",
              "      <div>\n",
              "<style scoped>\n",
              "    .dataframe tbody tr th:only-of-type {\n",
              "        vertical-align: middle;\n",
              "    }\n",
              "\n",
              "    .dataframe tbody tr th {\n",
              "        vertical-align: top;\n",
              "    }\n",
              "\n",
              "    .dataframe thead th {\n",
              "        text-align: right;\n",
              "    }\n",
              "</style>\n",
              "<table border=\"1\" class=\"dataframe\">\n",
              "  <thead>\n",
              "    <tr style=\"text-align: right;\">\n",
              "      <th></th>\n",
              "      <th>Store</th>\n",
              "      <th>Date</th>\n",
              "      <th>Weekly_Sales</th>\n",
              "    </tr>\n",
              "  </thead>\n",
              "  <tbody>\n",
              "    <tr>\n",
              "      <th>0</th>\n",
              "      <td>1</td>\n",
              "      <td>05-02-2010</td>\n",
              "      <td>1643690.90</td>\n",
              "    </tr>\n",
              "    <tr>\n",
              "      <th>1</th>\n",
              "      <td>1</td>\n",
              "      <td>12-02-2010</td>\n",
              "      <td>1641957.44</td>\n",
              "    </tr>\n",
              "    <tr>\n",
              "      <th>2</th>\n",
              "      <td>1</td>\n",
              "      <td>19-02-2010</td>\n",
              "      <td>1611968.17</td>\n",
              "    </tr>\n",
              "    <tr>\n",
              "      <th>3</th>\n",
              "      <td>1</td>\n",
              "      <td>26-02-2010</td>\n",
              "      <td>1409727.59</td>\n",
              "    </tr>\n",
              "    <tr>\n",
              "      <th>4</th>\n",
              "      <td>1</td>\n",
              "      <td>05-03-2010</td>\n",
              "      <td>1554806.68</td>\n",
              "    </tr>\n",
              "    <tr>\n",
              "      <th>...</th>\n",
              "      <td>...</td>\n",
              "      <td>...</td>\n",
              "      <td>...</td>\n",
              "    </tr>\n",
              "    <tr>\n",
              "      <th>138</th>\n",
              "      <td>1</td>\n",
              "      <td>28-09-2012</td>\n",
              "      <td>1437059.26</td>\n",
              "    </tr>\n",
              "    <tr>\n",
              "      <th>139</th>\n",
              "      <td>1</td>\n",
              "      <td>05-10-2012</td>\n",
              "      <td>1670785.97</td>\n",
              "    </tr>\n",
              "    <tr>\n",
              "      <th>140</th>\n",
              "      <td>1</td>\n",
              "      <td>12-10-2012</td>\n",
              "      <td>1573072.81</td>\n",
              "    </tr>\n",
              "    <tr>\n",
              "      <th>141</th>\n",
              "      <td>1</td>\n",
              "      <td>19-10-2012</td>\n",
              "      <td>1508068.77</td>\n",
              "    </tr>\n",
              "    <tr>\n",
              "      <th>142</th>\n",
              "      <td>1</td>\n",
              "      <td>26-10-2012</td>\n",
              "      <td>1493659.74</td>\n",
              "    </tr>\n",
              "  </tbody>\n",
              "</table>\n",
              "<p>143 rows × 3 columns</p>\n",
              "</div>\n",
              "      <button class=\"colab-df-convert\" onclick=\"convertToInteractive('df-29c596c2-250c-4860-acaa-2fc8402297bc')\"\n",
              "              title=\"Convert this dataframe to an interactive table.\"\n",
              "              style=\"display:none;\">\n",
              "        \n",
              "  <svg xmlns=\"http://www.w3.org/2000/svg\" height=\"24px\"viewBox=\"0 0 24 24\"\n",
              "       width=\"24px\">\n",
              "    <path d=\"M0 0h24v24H0V0z\" fill=\"none\"/>\n",
              "    <path d=\"M18.56 5.44l.94 2.06.94-2.06 2.06-.94-2.06-.94-.94-2.06-.94 2.06-2.06.94zm-11 1L8.5 8.5l.94-2.06 2.06-.94-2.06-.94L8.5 2.5l-.94 2.06-2.06.94zm10 10l.94 2.06.94-2.06 2.06-.94-2.06-.94-.94-2.06-.94 2.06-2.06.94z\"/><path d=\"M17.41 7.96l-1.37-1.37c-.4-.4-.92-.59-1.43-.59-.52 0-1.04.2-1.43.59L10.3 9.45l-7.72 7.72c-.78.78-.78 2.05 0 2.83L4 21.41c.39.39.9.59 1.41.59.51 0 1.02-.2 1.41-.59l7.78-7.78 2.81-2.81c.8-.78.8-2.07 0-2.86zM5.41 20L4 18.59l7.72-7.72 1.47 1.35L5.41 20z\"/>\n",
              "  </svg>\n",
              "      </button>\n",
              "      \n",
              "  <style>\n",
              "    .colab-df-container {\n",
              "      display:flex;\n",
              "      flex-wrap:wrap;\n",
              "      gap: 12px;\n",
              "    }\n",
              "\n",
              "    .colab-df-convert {\n",
              "      background-color: #E8F0FE;\n",
              "      border: none;\n",
              "      border-radius: 50%;\n",
              "      cursor: pointer;\n",
              "      display: none;\n",
              "      fill: #1967D2;\n",
              "      height: 32px;\n",
              "      padding: 0 0 0 0;\n",
              "      width: 32px;\n",
              "    }\n",
              "\n",
              "    .colab-df-convert:hover {\n",
              "      background-color: #E2EBFA;\n",
              "      box-shadow: 0px 1px 2px rgba(60, 64, 67, 0.3), 0px 1px 3px 1px rgba(60, 64, 67, 0.15);\n",
              "      fill: #174EA6;\n",
              "    }\n",
              "\n",
              "    [theme=dark] .colab-df-convert {\n",
              "      background-color: #3B4455;\n",
              "      fill: #D2E3FC;\n",
              "    }\n",
              "\n",
              "    [theme=dark] .colab-df-convert:hover {\n",
              "      background-color: #434B5C;\n",
              "      box-shadow: 0px 1px 3px 1px rgba(0, 0, 0, 0.15);\n",
              "      filter: drop-shadow(0px 1px 2px rgba(0, 0, 0, 0.3));\n",
              "      fill: #FFFFFF;\n",
              "    }\n",
              "  </style>\n",
              "\n",
              "      <script>\n",
              "        const buttonEl =\n",
              "          document.querySelector('#df-29c596c2-250c-4860-acaa-2fc8402297bc button.colab-df-convert');\n",
              "        buttonEl.style.display =\n",
              "          google.colab.kernel.accessAllowed ? 'block' : 'none';\n",
              "\n",
              "        async function convertToInteractive(key) {\n",
              "          const element = document.querySelector('#df-29c596c2-250c-4860-acaa-2fc8402297bc');\n",
              "          const dataTable =\n",
              "            await google.colab.kernel.invokeFunction('convertToInteractive',\n",
              "                                                     [key], {});\n",
              "          if (!dataTable) return;\n",
              "\n",
              "          const docLinkHtml = 'Like what you see? Visit the ' +\n",
              "            '<a target=\"_blank\" href=https://colab.research.google.com/notebooks/data_table.ipynb>data table notebook</a>'\n",
              "            + ' to learn more about interactive tables.';\n",
              "          element.innerHTML = '';\n",
              "          dataTable['output_type'] = 'display_data';\n",
              "          await google.colab.output.renderOutput(dataTable, element);\n",
              "          const docLink = document.createElement('div');\n",
              "          docLink.innerHTML = docLinkHtml;\n",
              "          element.appendChild(docLink);\n",
              "        }\n",
              "      </script>\n",
              "    </div>\n",
              "  </div>\n",
              "  "
            ]
          },
          "metadata": {},
          "execution_count": 587
        }
      ]
    },
    {
      "cell_type": "code",
      "source": [
        "df=df[df['Store']==1][['Date','Weekly_Sales']]\n",
        "\n",
        "df=df.set_index('Date')"
      ],
      "metadata": {
        "id": "Gaz40jDhegQR"
      },
      "execution_count": 588,
      "outputs": []
    },
    {
      "cell_type": "code",
      "source": [
        "# elimina os warnings das bibliotecas\n",
        "\n",
        "import warnings\n",
        "warnings.filterwarnings(\"ignore\")\n",
        "from pandas.plotting import autocorrelation_plot\n",
        "from matplotlib import pyplot\n",
        "autocorrelation_plot(df)\n",
        "pyplot.show()"
      ],
      "metadata": {
        "id": "Srflbdu3guqI",
        "colab": {
          "base_uri": "https://localhost:8080/",
          "height": 283
        },
        "outputId": "1fd110e7-b8ff-4f8b-fb31-e6c93bf69cd2"
      },
      "execution_count": 589,
      "outputs": [
        {
          "output_type": "display_data",
          "data": {
            "text/plain": [
              "<Figure size 432x288 with 1 Axes>"
            ],
            "image/png": "[encoded data removed]"
          },
          "metadata": {
            "needs_background": "light"
          }
        }
      ]
    },
    {
      "cell_type": "code",
      "source": [
        "import pandas.util.testing as tm\n",
        "from statsmodels.graphics.tsaplots import plot_acf\n",
        "from statsmodels.graphics.tsaplots import plot_pacf\n",
        "from matplotlib import pyplot"
      ],
      "metadata": {
        "id": "KR0MAcNtuKNL"
      },
      "execution_count": 590,
      "outputs": []
    },
    {
      "cell_type": "code",
      "source": [
        "plot_acf(df, lags=40)\n",
        "pyplot.show()"
      ],
      "metadata": {
        "id": "olRiSOU7WD3d",
        "colab": {
          "base_uri": "https://localhost:8080/",
          "height": 281
        },
        "outputId": "a19b5c14-6ab9-41b4-b74e-6407f3a2c37e"
      },
      "execution_count": 591,
      "outputs": [
        {
          "output_type": "display_data",
          "data": {
            "text/plain": [
              "<Figure size 432x288 with 1 Axes>"
            ],
            "image/png": "[encoded data removed]"
          },
          "metadata": {
            "needs_background": "light"
          }
        }
      ]
    },
    {
      "cell_type": "code",
      "source": [
        "140"
      ],
      "metadata": {
        "colab": {
          "base_uri": "https://localhost:8080/"
        },
        "id": "klxAmufiu053",
        "outputId": "0e548eda-db55-4610-ab0a-dae9a53e2789"
      },
      "execution_count": 592,
      "outputs": [
        {
          "output_type": "execute_result",
          "data": {
            "text/plain": [
              "140"
            ]
          },
          "metadata": {},
          "execution_count": 592
        }
      ]
    },
    {
      "cell_type": "code",
      "source": [
        "window = 20\n",
        "dataSize = len(df)\n",
        "x = []\n",
        "y = []\n",
        "for i in range(window, dataSize):\n",
        "    x.append(df.iloc[i-window:i, 0])\n",
        "    y.append(df.iloc[i, 0])\n",
        "x, y = np.array(x), np.array(y)"
      ],
      "metadata": {
        "id": "a9YdT-3sm3hc"
      },
      "execution_count": 593,
      "outputs": []
    },
    {
      "cell_type": "code",
      "source": [
        "print(x.shape)\n",
        "print(y.shape)"
      ],
      "metadata": {
        "colab": {
          "base_uri": "https://localhost:8080/"
        },
        "id": "YT11Pq_am6UE",
        "outputId": "30eb451a-f61a-4e93-a4f2-03e8f003fbe4"
      },
      "execution_count": 594,
      "outputs": [
        {
          "output_type": "stream",
          "name": "stdout",
          "text": [
            "(123, 20)\n",
            "(123,)\n"
          ]
        }
      ]
    },
    {
      "cell_type": "code",
      "source": [
        "import random\n",
        "np.random.seed(0) #semente inicial (reprodução de resultados)"
      ],
      "metadata": {
        "id": "kJqnFi4XnJFk"
      },
      "execution_count": 595,
      "outputs": []
    },
    {
      "cell_type": "markdown",
      "source": [
        "#Separação entre Treino e Teste   \n",
        "#Normalização\n",
        "\n"
      ],
      "metadata": {
        "id": "FSrBod6dMUm0"
      }
    },
    {
      "cell_type": "code",
      "source": [
        "from sklearn.model_selection import train_test_split\n",
        "x_train, x_test, y_train, y_test = train_test_split(x, y, test_size=0.2)\n",
        "\n",
        "#normalizar\n",
        "from sklearn.preprocessing import StandardScaler\n",
        "\n",
        "scaler_x = StandardScaler().fit(x_train)\n",
        "x_train = scaler_x.transform(x_train)\n",
        "x_test = scaler_x.transform(x_test)\n",
        "scaler_y = StandardScaler().fit(y_train.reshape(-1,1))\n",
        "y_train = scaler_y.transform(y_train.reshape(-1,1))\n",
        "y_test = scaler_y.transform(y_test.reshape(-1,1))\n",
        "\n"
      ],
      "metadata": {
        "id": "q1z4C-r6nLyj"
      },
      "execution_count": 596,
      "outputs": []
    },
    {
      "cell_type": "markdown",
      "source": [
        "#Modelo Random Forest"
      ],
      "metadata": {
        "id": "KGrlO6CmMeYu"
      }
    },
    {
      "cell_type": "code",
      "source": [
        "from sklearn.ensemble import RandomForestRegressor\n",
        "regressor = RandomForestRegressor(n_estimators = 10, random_state=0)\n",
        "regressor.fit(x_train, y_train);"
      ],
      "metadata": {
        "id": "6JzGJ6a-nNRC"
      },
      "execution_count": 597,
      "outputs": []
    },
    {
      "cell_type": "code",
      "source": [
        "y_pred = regressor.predict(x_test)\n",
        "y_pred[0:5]"
      ],
      "metadata": {
        "id": "VwKYHOFPnPkb",
        "colab": {
          "base_uri": "https://localhost:8080/"
        },
        "outputId": "140ec9e8-18c3-49ff-9040-9c40f110192a"
      },
      "execution_count": 598,
      "outputs": [
        {
          "output_type": "execute_result",
          "data": {
            "text/plain": [
              "array([ 0.05104574,  0.08792201,  0.44042867,  0.07758856, -0.54569804])"
            ]
          },
          "metadata": {},
          "execution_count": 598
        }
      ]
    },
    {
      "cell_type": "code",
      "source": [
        "y_prev = scaler_y.inverse_transform(y_pred.reshape(-1,1))\n",
        "y_real = scaler_y.inverse_transform(y_test.reshape(-1,1))"
      ],
      "metadata": {
        "id": "QCq-d-dExgUf"
      },
      "execution_count": 599,
      "outputs": []
    },
    {
      "cell_type": "code",
      "source": [
        "plt.plot(y_prev, label='previsto', marker='o')\n",
        "plt.plot(y_real, label='real', marker='+')\n",
        "plt.ylabel(\"vendas\")\n",
        "plt.title(\"Walmart vendas - Real x Previsto\")\n",
        "plt.legend()\n",
        "plt.show()"
      ],
      "metadata": {
        "id": "UghVKwbnnRSD",
        "colab": {
          "base_uri": "https://localhost:8080/",
          "height": 281
        },
        "outputId": "c755d4fe-3173-434b-82ea-c766bd618911"
      },
      "execution_count": 600,
      "outputs": [
        {
          "output_type": "display_data",
          "data": {
            "text/plain": [
              "<Figure size 432x288 with 1 Axes>"
            ],
            "image/png": "[encoded data removed]"
          },
          "metadata": {
            "needs_background": "light"
          }
        }
      ]
    },
    {
      "cell_type": "code",
      "source": [
        "import math\n",
        "from sklearn.metrics import mean_squared_error\n",
        "rmse = math.sqrt(mean_squared_error(y_prev,y_real))\n",
        "print('RMSE: ', rmse)"
      ],
      "metadata": {
        "id": "Z-kpWU3onZ6L",
        "colab": {
          "base_uri": "https://localhost:8080/"
        },
        "outputId": "596ef7eb-f6e4-47c5-ce63-80edd249a328"
      },
      "execution_count": 601,
      "outputs": [
        {
          "output_type": "stream",
          "name": "stdout",
          "text": [
            "RMSE:  164252.01236760808\n"
          ]
        }
      ]
    },
    {
      "cell_type": "code",
      "source": [
        "mse = mean_squared_error(y_prev,y_real)\n",
        "print('MSE: ',mse)"
      ],
      "metadata": {
        "id": "R-EZIWquncyK",
        "colab": {
          "base_uri": "https://localhost:8080/"
        },
        "outputId": "e70e93d4-3197-42e3-9df7-1d248917eb30"
      },
      "execution_count": 602,
      "outputs": [
        {
          "output_type": "stream",
          "name": "stdout",
          "text": [
            "MSE:  26978723566.808884\n"
          ]
        }
      ]
    },
    {
      "cell_type": "code",
      "source": [
        "mape = np.mean(np.abs((y_real - y_prev) / y_real)) * 100\n",
        "print('MAPE: ',mape, '%')"
      ],
      "metadata": {
        "id": "j2NlZsFVnfeu",
        "colab": {
          "base_uri": "https://localhost:8080/"
        },
        "outputId": "d38e2842-d405-4626-913c-6ab98cabe10c"
      },
      "execution_count": 603,
      "outputs": [
        {
          "output_type": "stream",
          "name": "stdout",
          "text": [
            "MAPE:  6.099886427098071 %\n"
          ]
        }
      ]
    },
    {
      "cell_type": "code",
      "source": [
        "from sklearn.metrics import r2_score\n",
        "r2_score(y_prev,y_real)"
      ],
      "metadata": {
        "id": "dxFvx1O0nhoC",
        "colab": {
          "base_uri": "https://localhost:8080/"
        },
        "outputId": "48c70fc9-3db8-4c79-d02a-91a7a73bae61"
      },
      "execution_count": 604,
      "outputs": [
        {
          "output_type": "execute_result",
          "data": {
            "text/plain": [
              "-4.3235719598632825"
            ]
          },
          "metadata": {},
          "execution_count": 604
        }
      ]
    },
    {
      "cell_type": "code",
      "source": [
        "rmspe = np.sqrt(np.mean(np.square(((y_real - y_prev) / y_real)), axis=0)) * 100\n",
        "print('rmspe: ',rmspe, '%')"
      ],
      "metadata": {
        "id": "TFzOew6tLi_D",
        "colab": {
          "base_uri": "https://localhost:8080/"
        },
        "outputId": "cf45bd38-a985-4509-c180-36012383792d"
      },
      "execution_count": 605,
      "outputs": [
        {
          "output_type": "stream",
          "name": "stdout",
          "text": [
            "rmspe:  [8.77648461] %\n"
          ]
        }
      ]
    },
    {
      "cell_type": "code",
      "source": [
        "#prevendo 12 passos a frente\n",
        "timesteps_to_predict = 12\n",
        "lag = df.iloc[dataSize-window:dataSize,0].values\n",
        "\n",
        "predictions=[]\n",
        "for i in range(timesteps_to_predict):\n",
        "  lag = scaler_x.transform(lag.reshape(1,-1))#scaler_x\n",
        "  prediction = regressor.predict(lag)\n",
        "  prediction_to_add = scaler_y.inverse_transform(prediction.reshape(-1,1)) #scaler_y\n",
        "  predictions.append(prediction_to_add)\n",
        "  lag = scaler_x.inverse_transform(lag) #scaler_x\n",
        "\n",
        "  lag = lag[0, 1:]  \n",
        "  lag = np.append(lag, prediction_to_add)\n",
        "\n",
        "predictions = np.array(predictions).reshape(-1,1)"
      ],
      "metadata": {
        "id": "kvfj50N1n_aU"
      },
      "execution_count": 606,
      "outputs": []
    },
    {
      "cell_type": "code",
      "source": [
        "predictions"
      ],
      "metadata": {
        "colab": {
          "base_uri": "https://localhost:8080/"
        },
        "id": "P2aCYwHE4RZm",
        "outputId": "97fd92ed-7d29-4efd-f3ed-ee0622c6b8a3"
      },
      "execution_count": 607,
      "outputs": [
        {
          "output_type": "execute_result",
          "data": {
            "text/plain": [
              "array([[1573555.925],\n",
              "       [1614770.266],\n",
              "       [1511847.141],\n",
              "       [1478858.318],\n",
              "       [1523275.979],\n",
              "       [1655909.028],\n",
              "       [1543740.539],\n",
              "       [1486388.748],\n",
              "       [1499254.953],\n",
              "       [1562426.095],\n",
              "       [1602843.062],\n",
              "       [1447950.144]])"
            ]
          },
          "metadata": {},
          "execution_count": 607
        }
      ]
    },
    {
      "cell_type": "code",
      "source": [
        "all_data = np.vstack((df, predictions.tolist()))\n",
        "plt.figure(figsize=(10,5))\n",
        "plt.plot(all_data)\n",
        "plt.title('Previsão de série temporal')\n",
        "plt.xlabel('Tempo')\n",
        "plt.ylabel('vendas')\n",
        "\n",
        "# marca o início das previsões\n",
        "x = [len(df)-1, len(df)-1]\n",
        "y = [df['Weekly_Sales'].min(), df['Weekly_Sales'].max()]\n",
        "plt.plot(x, y, color='red')\n",
        "\n",
        "#salva o gráfico\n",
        "plt.show()"
      ],
      "metadata": {
        "id": "d4oUtL28oIcL",
        "colab": {
          "base_uri": "https://localhost:8080/",
          "height": 350
        },
        "outputId": "858a2699-0d2b-4c03-e71f-fc28cde43c7f"
      },
      "execution_count": 608,
      "outputs": [
        {
          "output_type": "display_data",
          "data": {
            "text/plain": [
              "<Figure size 720x360 with 1 Axes>"
            ],
            "image/png": "[encoded data removed]"
          },
          "metadata": {
            "needs_background": "light"
          }
        }
      ]
    },
    {
      "cell_type": "markdown",
      "source": [
        "#Modelo Decision Tree"
      ],
      "metadata": {
        "id": "abfgSDIDMtEa"
      }
    },
    {
      "cell_type": "code",
      "source": [
        "from sklearn.tree import DecisionTreeRegressor\n",
        "regressor1 = DecisionTreeRegressor()\n",
        "regressor1.fit(x_train, y_train);"
      ],
      "metadata": {
        "id": "_VHqAwchoSWz"
      },
      "execution_count": 609,
      "outputs": []
    },
    {
      "cell_type": "code",
      "source": [
        "y_pred1 = regressor1.predict(x_test)\n",
        "y_pred1[0:5]"
      ],
      "metadata": {
        "id": "taorW2fQoVAr",
        "colab": {
          "base_uri": "https://localhost:8080/"
        },
        "outputId": "2038cf50-879e-4b1c-b15a-e83400fe4afb"
      },
      "execution_count": 610,
      "outputs": [
        {
          "output_type": "execute_result",
          "data": {
            "text/plain": [
              "array([ 0.30397458,  0.9627918 ,  0.36632585,  0.00793686, -0.30289359])"
            ]
          },
          "metadata": {},
          "execution_count": 610
        }
      ]
    },
    {
      "cell_type": "code",
      "source": [
        "y_prev1 = scaler_y.inverse_transform(y_pred1.reshape(-1,1))\n",
        "y_real1 = scaler_y.inverse_transform(y_test.reshape(-1,1))"
      ],
      "metadata": {
        "id": "PHeU9agfSCON"
      },
      "execution_count": 611,
      "outputs": []
    },
    {
      "cell_type": "code",
      "source": [
        "plt.plot(y_prev1, label='previsto', marker='o')\n",
        "plt.plot(y_real1, label='real', marker='+')\n",
        "plt.ylabel(\"vendas\")\n",
        "plt.title(\"Walmart vendas - Real x Previsto\")\n",
        "plt.legend()\n",
        "plt.show()"
      ],
      "metadata": {
        "id": "8-OvMovRpygj",
        "colab": {
          "base_uri": "https://localhost:8080/",
          "height": 281
        },
        "outputId": "222f3a1d-4a80-4f4e-ff7d-e92a69703737"
      },
      "execution_count": 612,
      "outputs": [
        {
          "output_type": "display_data",
          "data": {
            "text/plain": [
              "<Figure size 432x288 with 1 Axes>"
            ],
            "image/png": "[encoded data removed]"
          },
          "metadata": {
            "needs_background": "light"
          }
        }
      ]
    },
    {
      "cell_type": "code",
      "source": [
        "import math\n",
        "from sklearn.metrics import mean_squared_error\n",
        "rmse = math.sqrt(mean_squared_error(y_prev1,y_real1))\n",
        "print('RMSE: ', rmse)"
      ],
      "metadata": {
        "id": "Y-jPEQuMp7ZL",
        "colab": {
          "base_uri": "https://localhost:8080/"
        },
        "outputId": "5318dbd3-b29d-4c53-ecbe-661ccdf1b876"
      },
      "execution_count": 613,
      "outputs": [
        {
          "output_type": "stream",
          "name": "stdout",
          "text": [
            "RMSE:  163784.034443059\n"
          ]
        }
      ]
    },
    {
      "cell_type": "code",
      "source": [
        "mse = mean_squared_error(y_prev1,y_real1)\n",
        "print('MSE: ',mse)"
      ],
      "metadata": {
        "id": "U8pFY2HEp-KL",
        "colab": {
          "base_uri": "https://localhost:8080/"
        },
        "outputId": "5d09d45d-4fde-46f5-fcab-190432e6baa2"
      },
      "execution_count": 614,
      "outputs": [
        {
          "output_type": "stream",
          "name": "stdout",
          "text": [
            "MSE:  26825209938.445137\n"
          ]
        }
      ]
    },
    {
      "cell_type": "code",
      "source": [
        "mape = np.mean(np.abs((y_real1 - y_prev1) / y_real1)) * 100\n",
        "print('MAPE: ',mape, '%')"
      ],
      "metadata": {
        "id": "dtNj3hGZp_6T",
        "colab": {
          "base_uri": "https://localhost:8080/"
        },
        "outputId": "7d13bc1b-d9e3-42d8-99ff-e2739f82aa25"
      },
      "execution_count": 615,
      "outputs": [
        {
          "output_type": "stream",
          "name": "stdout",
          "text": [
            "MAPE:  6.824501442820444 %\n"
          ]
        }
      ]
    },
    {
      "cell_type": "code",
      "source": [
        "from sklearn.metrics import r2_score\n",
        "r2_score(y_pred1,y_test)"
      ],
      "metadata": {
        "id": "mAYvMLyXqBY7",
        "colab": {
          "base_uri": "https://localhost:8080/"
        },
        "outputId": "c69e6215-3705-45f3-f8e1-302732f3c261"
      },
      "execution_count": 616,
      "outputs": [
        {
          "output_type": "execute_result",
          "data": {
            "text/plain": [
              "0.4116421471098267"
            ]
          },
          "metadata": {},
          "execution_count": 616
        }
      ]
    },
    {
      "cell_type": "code",
      "source": [
        "rmspe = np.sqrt(np.mean(np.square(((y_real1 - y_prev1) / y_real1)), axis=0)) * 100\n",
        "print('rmspe: ',rmspe, '%')"
      ],
      "metadata": {
        "id": "1R7CEsEFqEZ7",
        "colab": {
          "base_uri": "https://localhost:8080/"
        },
        "outputId": "2a934f98-dcda-4b92-f9e1-59bc2e13211b"
      },
      "execution_count": 617,
      "outputs": [
        {
          "output_type": "stream",
          "name": "stdout",
          "text": [
            "rmspe:  [9.25900233] %\n"
          ]
        }
      ]
    },
    {
      "cell_type": "code",
      "source": [
        "#prevendo 12 passos a frente\n",
        "timesteps_to_predict = 12\n",
        "lag = df.iloc[dataSize-window:dataSize,0].values\n",
        "\n",
        "predictions=[]\n",
        "for i in range(timesteps_to_predict):\n",
        "  lag = scaler_x.transform(lag.reshape(1,-1))\n",
        "  prediction = regressor1.predict(lag)\n",
        "  prediction_to_add = scaler_y.inverse_transform(prediction.reshape(-1,1))\n",
        "  predictions.append(prediction_to_add)\n",
        "  lag = scaler_x.inverse_transform(lag)\n",
        "\n",
        "  lag = lag[0, 1:]  \n",
        "  lag = np.append(lag, prediction_to_add)\n",
        "\n",
        "predictions = np.array(predictions).reshape(-1,1)"
      ],
      "metadata": {
        "id": "0FcWPOU9XPOg"
      },
      "execution_count": 618,
      "outputs": []
    },
    {
      "cell_type": "code",
      "source": [
        "predictions"
      ],
      "metadata": {
        "id": "rT5sh2OflBTd",
        "colab": {
          "base_uri": "https://localhost:8080/"
        },
        "outputId": "fcaf392d-0993-4861-9557-a1429f393589"
      },
      "execution_count": 619,
      "outputs": [
        {
          "output_type": "execute_result",
          "data": {
            "text/plain": [
              "array([[1437059.26],\n",
              "       [1635078.41],\n",
              "       [1494479.49],\n",
              "       [1502562.78],\n",
              "       [1371986.6 ],\n",
              "       [1635078.41],\n",
              "       [1525147.09],\n",
              "       [1502562.78],\n",
              "       [1453329.5 ],\n",
              "       [1635078.41],\n",
              "       [1769854.16],\n",
              "       [1494479.49]])"
            ]
          },
          "metadata": {},
          "execution_count": 619
        }
      ]
    },
    {
      "cell_type": "code",
      "source": [
        "all_data = np.vstack((df, predictions))\n",
        "plt.figure(figsize=(10,5))\n",
        "plt.plot(all_data)\n",
        "plt.title('Previsão de vendas')\n",
        "plt.xlabel('Tempo')\n",
        "plt.ylabel('vendas')\n",
        "\n",
        "# marca o início das previsões\n",
        "x = [len(df)-1, len(df)-1]\n",
        "y = [df['Weekly_Sales'].min(), df['Weekly_Sales'].max()]\n",
        "plt.plot(x, y, color='red')\n"
      ],
      "metadata": {
        "id": "0FNXRbJulBV9",
        "colab": {
          "base_uri": "https://localhost:8080/",
          "height": 367
        },
        "outputId": "2dde884c-8aff-4857-8e69-8f2b22c49ded"
      },
      "execution_count": 620,
      "outputs": [
        {
          "output_type": "execute_result",
          "data": {
            "text/plain": [
              "[<matplotlib.lines.Line2D at 0x7fdbbf8a2450>]"
            ]
          },
          "metadata": {},
          "execution_count": 620
        },
        {
          "output_type": "display_data",
          "data": {
            "text/plain": [
              "<Figure size 720x360 with 1 Axes>"
            ],
            "image/png": "[encoded data removed]"
          },
          "metadata": {
            "needs_background": "light"
          }
        }
      ]
    },
    {
      "cell_type": "code",
      "source": [
        "x_train.shape"
      ],
      "metadata": {
        "colab": {
          "base_uri": "https://localhost:8080/"
        },
        "id": "1Subs9xr7IF_",
        "outputId": "7b8bccdc-bfb1-4359-ae2e-4f9c1cacb93c"
      },
      "execution_count": 621,
      "outputs": [
        {
          "output_type": "execute_result",
          "data": {
            "text/plain": [
              "(98, 20)"
            ]
          },
          "metadata": {},
          "execution_count": 621
        }
      ]
    },
    {
      "cell_type": "markdown",
      "source": [
        "#RNN"
      ],
      "metadata": {
        "id": "oncH4AnTy1QB"
      }
    },
    {
      "cell_type": "code",
      "source": [
        "# Rede Neural\"\"\"\n",
        "from keras import Sequential\n",
        "from keras.layers import Dense\n",
        "from tensorflow.keras.optimizers import SGD\n",
        "from tensorflow.keras.utils import to_categorical\n",
        "\n",
        "RN = Sequential()\n",
        "RN.add(Dense(32,input_shape = x_train.shape[1:], activation = 'tanh'))\n",
        "RN.add(Dense(16))\n",
        "RN.add(Dense(1))\n",
        "RN.summary()"
      ],
      "metadata": {
        "id": "d3u8ctrsiSDO",
        "colab": {
          "base_uri": "https://localhost:8080/"
        },
        "outputId": "e1f78a61-b9bb-4541-b250-7364a1f7574f"
      },
      "execution_count": 622,
      "outputs": [
        {
          "output_type": "stream",
          "name": "stdout",
          "text": [
            "Model: \"sequential_17\"\n",
            "_________________________________________________________________\n",
            " Layer (type)                Output Shape              Param #   \n",
            "=================================================================\n",
            " dense_35 (Dense)            (None, 32)                672       \n",
            "                                                                 \n",
            " dense_36 (Dense)            (None, 16)                528       \n",
            "                                                                 \n",
            " dense_37 (Dense)            (None, 1)                 17        \n",
            "                                                                 \n",
            "=================================================================\n",
            "Total params: 1,217\n",
            "Trainable params: 1,217\n",
            "Non-trainable params: 0\n",
            "_________________________________________________________________\n"
          ]
        }
      ]
    },
    {
      "cell_type": "code",
      "source": [
        "x_train[:2]"
      ],
      "metadata": {
        "colab": {
          "base_uri": "https://localhost:8080/"
        },
        "id": "B4CVBoEUdErr",
        "outputId": "42b29141-4fcd-4045-ee45-fe8219f2de03"
      },
      "execution_count": 623,
      "outputs": [
        {
          "output_type": "execute_result",
          "data": {
            "text/plain": [
              "array([[ 2.29674052,  0.51369632, -0.22738207, -0.5375396 ,  0.72561031,\n",
              "         0.29472461,  0.21938529,  0.04174519,  0.48349957,  1.04743589,\n",
              "         0.35976313, -0.20387983, -0.09101999,  1.64762866, -0.26324406,\n",
              "        -0.39280945, -0.81953541,  0.3374482 ,  0.1458221 ,  0.1798099 ],\n",
              "       [ 0.38299976, -0.40000928, -0.9115474 , -0.75967952,  0.31885598,\n",
              "        -0.11948868, -0.3257401 , -0.81066212, -0.37169666,  0.02360006,\n",
              "        -0.6555461 , -1.01624903, -1.11898696,  0.39682909, -0.37198335,\n",
              "        -0.30163954, -0.74589148, -0.19793885, -0.3591051 , -0.78781183]])"
            ]
          },
          "metadata": {},
          "execution_count": 623
        }
      ]
    },
    {
      "cell_type": "code",
      "source": [
        "y_train[:2]"
      ],
      "metadata": {
        "colab": {
          "base_uri": "https://localhost:8080/"
        },
        "id": "B0DNUt9jdHM3",
        "outputId": "d92d49fe-9acc-49d7-c75d-0a555878d11b"
      },
      "execution_count": 624,
      "outputs": [
        {
          "output_type": "execute_result",
          "data": {
            "text/plain": [
              "array([[-0.35777103],\n",
              "       [-1.28317501]])"
            ]
          },
          "metadata": {},
          "execution_count": 624
        }
      ]
    },
    {
      "cell_type": "code",
      "source": [
        "RN.compile(optimizer = 'sgd', loss = 'mean_squared_error', metrics = ['accuracy']) \n",
        "history = RN.fit(x_train ,y_train, epochs = 100, validation_split=0.2)# Gráfico do treinamento: custo do treino e validação\n"
      ],
      "metadata": {
        "id": "KXw4FaffiSnH",
        "colab": {
          "base_uri": "https://localhost:8080/"
        },
        "outputId": "1ca4b948-b127-4cfc-ac23-8e7eed13bb84"
      },
      "execution_count": 625,
      "outputs": [
        {
          "output_type": "stream",
          "name": "stdout",
          "text": [
            "Epoch 1/100\n",
            "3/3 [==============================] - 0s 63ms/step - loss: 1.7149 - accuracy: 0.0000e+00 - val_loss: 2.0722 - val_accuracy: 0.0000e+00\n",
            "Epoch 2/100\n",
            "3/3 [==============================] - 0s 13ms/step - loss: 1.4945 - accuracy: 0.0000e+00 - val_loss: 1.8117 - val_accuracy: 0.0000e+00\n",
            "Epoch 3/100\n",
            "3/3 [==============================] - 0s 12ms/step - loss: 1.3491 - accuracy: 0.0000e+00 - val_loss: 1.5985 - val_accuracy: 0.0000e+00\n",
            "Epoch 4/100\n",
            "3/3 [==============================] - 0s 13ms/step - loss: 1.2188 - accuracy: 0.0000e+00 - val_loss: 1.4413 - val_accuracy: 0.0000e+00\n",
            "Epoch 5/100\n",
            "3/3 [==============================] - 0s 12ms/step - loss: 1.1441 - accuracy: 0.0000e+00 - val_loss: 1.3618 - val_accuracy: 0.0000e+00\n",
            "Epoch 6/100\n",
            "3/3 [==============================] - 0s 12ms/step - loss: 1.0819 - accuracy: 0.0000e+00 - val_loss: 1.2770 - val_accuracy: 0.0000e+00\n",
            "Epoch 7/100\n",
            "3/3 [==============================] - 0s 13ms/step - loss: 1.0223 - accuracy: 0.0000e+00 - val_loss: 1.1861 - val_accuracy: 0.0000e+00\n",
            "Epoch 8/100\n",
            "3/3 [==============================] - 0s 13ms/step - loss: 1.0037 - accuracy: 0.0000e+00 - val_loss: 1.1344 - val_accuracy: 0.0000e+00\n",
            "Epoch 9/100\n",
            "3/3 [==============================] - 0s 11ms/step - loss: 0.9581 - accuracy: 0.0000e+00 - val_loss: 1.0757 - val_accuracy: 0.0000e+00\n",
            "Epoch 10/100\n",
            "3/3 [==============================] - 0s 12ms/step - loss: 0.9358 - accuracy: 0.0000e+00 - val_loss: 1.0290 - val_accuracy: 0.0000e+00\n",
            "Epoch 11/100\n",
            "3/3 [==============================] - 0s 12ms/step - loss: 0.9264 - accuracy: 0.0000e+00 - val_loss: 0.9640 - val_accuracy: 0.0000e+00\n",
            "Epoch 12/100\n",
            "3/3 [==============================] - 0s 13ms/step - loss: 0.8885 - accuracy: 0.0000e+00 - val_loss: 0.9259 - val_accuracy: 0.0000e+00\n",
            "Epoch 13/100\n",
            "3/3 [==============================] - 0s 16ms/step - loss: 0.8636 - accuracy: 0.0000e+00 - val_loss: 0.8931 - val_accuracy: 0.0000e+00\n",
            "Epoch 14/100\n",
            "3/3 [==============================] - 0s 12ms/step - loss: 0.8520 - accuracy: 0.0000e+00 - val_loss: 0.8445 - val_accuracy: 0.0000e+00\n",
            "Epoch 15/100\n",
            "3/3 [==============================] - 0s 11ms/step - loss: 0.8281 - accuracy: 0.0000e+00 - val_loss: 0.8128 - val_accuracy: 0.0000e+00\n",
            "Epoch 16/100\n",
            "3/3 [==============================] - 0s 11ms/step - loss: 0.8164 - accuracy: 0.0000e+00 - val_loss: 0.7817 - val_accuracy: 0.0000e+00\n",
            "Epoch 17/100\n",
            "3/3 [==============================] - 0s 16ms/step - loss: 0.7925 - accuracy: 0.0000e+00 - val_loss: 0.7539 - val_accuracy: 0.0000e+00\n",
            "Epoch 18/100\n",
            "3/3 [==============================] - 0s 15ms/step - loss: 0.7780 - accuracy: 0.0000e+00 - val_loss: 0.7351 - val_accuracy: 0.0000e+00\n",
            "Epoch 19/100\n",
            "3/3 [==============================] - 0s 13ms/step - loss: 0.7655 - accuracy: 0.0000e+00 - val_loss: 0.7243 - val_accuracy: 0.0000e+00\n",
            "Epoch 20/100\n",
            "3/3 [==============================] - 0s 13ms/step - loss: 0.7503 - accuracy: 0.0000e+00 - val_loss: 0.6971 - val_accuracy: 0.0000e+00\n",
            "Epoch 21/100\n",
            "3/3 [==============================] - 0s 11ms/step - loss: 0.7419 - accuracy: 0.0000e+00 - val_loss: 0.6564 - val_accuracy: 0.0000e+00\n",
            "Epoch 22/100\n",
            "3/3 [==============================] - 0s 12ms/step - loss: 0.7349 - accuracy: 0.0000e+00 - val_loss: 0.6523 - val_accuracy: 0.0000e+00\n",
            "Epoch 23/100\n",
            "3/3 [==============================] - 0s 12ms/step - loss: 0.7214 - accuracy: 0.0000e+00 - val_loss: 0.6402 - val_accuracy: 0.0000e+00\n",
            "Epoch 24/100\n",
            "3/3 [==============================] - 0s 12ms/step - loss: 0.7163 - accuracy: 0.0000e+00 - val_loss: 0.6182 - val_accuracy: 0.0000e+00\n",
            "Epoch 25/100\n",
            "3/3 [==============================] - 0s 12ms/step - loss: 0.7074 - accuracy: 0.0000e+00 - val_loss: 0.6158 - val_accuracy: 0.0000e+00\n",
            "Epoch 26/100\n",
            "3/3 [==============================] - 0s 13ms/step - loss: 0.6905 - accuracy: 0.0000e+00 - val_loss: 0.6086 - val_accuracy: 0.0000e+00\n",
            "Epoch 27/100\n",
            "3/3 [==============================] - 0s 13ms/step - loss: 0.6794 - accuracy: 0.0000e+00 - val_loss: 0.5936 - val_accuracy: 0.0000e+00\n",
            "Epoch 28/100\n",
            "3/3 [==============================] - 0s 13ms/step - loss: 0.6686 - accuracy: 0.0000e+00 - val_loss: 0.5863 - val_accuracy: 0.0000e+00\n",
            "Epoch 29/100\n",
            "3/3 [==============================] - 0s 16ms/step - loss: 0.6644 - accuracy: 0.0000e+00 - val_loss: 0.5704 - val_accuracy: 0.0000e+00\n",
            "Epoch 30/100\n",
            "3/3 [==============================] - 0s 13ms/step - loss: 0.6553 - accuracy: 0.0000e+00 - val_loss: 0.5708 - val_accuracy: 0.0000e+00\n",
            "Epoch 31/100\n",
            "3/3 [==============================] - 0s 12ms/step - loss: 0.6483 - accuracy: 0.0000e+00 - val_loss: 0.5413 - val_accuracy: 0.0000e+00\n",
            "Epoch 32/100\n",
            "3/3 [==============================] - 0s 15ms/step - loss: 0.6347 - accuracy: 0.0000e+00 - val_loss: 0.5257 - val_accuracy: 0.0000e+00\n",
            "Epoch 33/100\n",
            "3/3 [==============================] - 0s 13ms/step - loss: 0.6261 - accuracy: 0.0000e+00 - val_loss: 0.5231 - val_accuracy: 0.0000e+00\n",
            "Epoch 34/100\n",
            "3/3 [==============================] - 0s 13ms/step - loss: 0.6189 - accuracy: 0.0000e+00 - val_loss: 0.5161 - val_accuracy: 0.0000e+00\n",
            "Epoch 35/100\n",
            "3/3 [==============================] - 0s 12ms/step - loss: 0.6118 - accuracy: 0.0000e+00 - val_loss: 0.5144 - val_accuracy: 0.0000e+00\n",
            "Epoch 36/100\n",
            "3/3 [==============================] - 0s 16ms/step - loss: 0.6076 - accuracy: 0.0000e+00 - val_loss: 0.5186 - val_accuracy: 0.0000e+00\n",
            "Epoch 37/100\n",
            "3/3 [==============================] - 0s 12ms/step - loss: 0.6068 - accuracy: 0.0000e+00 - val_loss: 0.5064 - val_accuracy: 0.0000e+00\n",
            "Epoch 38/100\n",
            "3/3 [==============================] - 0s 12ms/step - loss: 0.5884 - accuracy: 0.0000e+00 - val_loss: 0.5036 - val_accuracy: 0.0000e+00\n",
            "Epoch 39/100\n",
            "3/3 [==============================] - 0s 12ms/step - loss: 0.5809 - accuracy: 0.0000e+00 - val_loss: 0.4924 - val_accuracy: 0.0000e+00\n",
            "Epoch 40/100\n",
            "3/3 [==============================] - 0s 12ms/step - loss: 0.5780 - accuracy: 0.0000e+00 - val_loss: 0.4949 - val_accuracy: 0.0000e+00\n",
            "Epoch 41/100\n",
            "3/3 [==============================] - 0s 12ms/step - loss: 0.5650 - accuracy: 0.0000e+00 - val_loss: 0.4896 - val_accuracy: 0.0000e+00\n",
            "Epoch 42/100\n",
            "3/3 [==============================] - 0s 13ms/step - loss: 0.5576 - accuracy: 0.0000e+00 - val_loss: 0.4808 - val_accuracy: 0.0000e+00\n",
            "Epoch 43/100\n",
            "3/3 [==============================] - 0s 15ms/step - loss: 0.5506 - accuracy: 0.0000e+00 - val_loss: 0.4943 - val_accuracy: 0.0000e+00\n",
            "Epoch 44/100\n",
            "3/3 [==============================] - 0s 12ms/step - loss: 0.5458 - accuracy: 0.0000e+00 - val_loss: 0.4948 - val_accuracy: 0.0000e+00\n",
            "Epoch 45/100\n",
            "3/3 [==============================] - 0s 11ms/step - loss: 0.5334 - accuracy: 0.0000e+00 - val_loss: 0.4893 - val_accuracy: 0.0000e+00\n",
            "Epoch 46/100\n",
            "3/3 [==============================] - 0s 11ms/step - loss: 0.5342 - accuracy: 0.0000e+00 - val_loss: 0.4674 - val_accuracy: 0.0000e+00\n",
            "Epoch 47/100\n",
            "3/3 [==============================] - 0s 12ms/step - loss: 0.5206 - accuracy: 0.0000e+00 - val_loss: 0.4625 - val_accuracy: 0.0000e+00\n",
            "Epoch 48/100\n",
            "3/3 [==============================] - 0s 11ms/step - loss: 0.5214 - accuracy: 0.0000e+00 - val_loss: 0.4579 - val_accuracy: 0.0000e+00\n",
            "Epoch 49/100\n",
            "3/3 [==============================] - 0s 11ms/step - loss: 0.5101 - accuracy: 0.0000e+00 - val_loss: 0.4636 - val_accuracy: 0.0000e+00\n",
            "Epoch 50/100\n",
            "3/3 [==============================] - 0s 11ms/step - loss: 0.4990 - accuracy: 0.0000e+00 - val_loss: 0.4639 - val_accuracy: 0.0000e+00\n",
            "Epoch 51/100\n",
            "3/3 [==============================] - 0s 12ms/step - loss: 0.4990 - accuracy: 0.0000e+00 - val_loss: 0.4675 - val_accuracy: 0.0000e+00\n",
            "Epoch 52/100\n",
            "3/3 [==============================] - 0s 11ms/step - loss: 0.4893 - accuracy: 0.0000e+00 - val_loss: 0.4697 - val_accuracy: 0.0000e+00\n",
            "Epoch 53/100\n",
            "3/3 [==============================] - 0s 12ms/step - loss: 0.4763 - accuracy: 0.0000e+00 - val_loss: 0.4663 - val_accuracy: 0.0000e+00\n",
            "Epoch 54/100\n",
            "3/3 [==============================] - 0s 12ms/step - loss: 0.4781 - accuracy: 0.0000e+00 - val_loss: 0.4531 - val_accuracy: 0.0000e+00\n",
            "Epoch 55/100\n",
            "3/3 [==============================] - 0s 12ms/step - loss: 0.4620 - accuracy: 0.0000e+00 - val_loss: 0.4486 - val_accuracy: 0.0000e+00\n",
            "Epoch 56/100\n",
            "3/3 [==============================] - 0s 13ms/step - loss: 0.4601 - accuracy: 0.0000e+00 - val_loss: 0.4577 - val_accuracy: 0.0000e+00\n",
            "Epoch 57/100\n",
            "3/3 [==============================] - 0s 12ms/step - loss: 0.4535 - accuracy: 0.0000e+00 - val_loss: 0.4441 - val_accuracy: 0.0000e+00\n",
            "Epoch 58/100\n",
            "3/3 [==============================] - 0s 11ms/step - loss: 0.4466 - accuracy: 0.0000e+00 - val_loss: 0.4286 - val_accuracy: 0.0000e+00\n",
            "Epoch 59/100\n",
            "3/3 [==============================] - 0s 12ms/step - loss: 0.4360 - accuracy: 0.0000e+00 - val_loss: 0.4284 - val_accuracy: 0.0000e+00\n",
            "Epoch 60/100\n",
            "3/3 [==============================] - 0s 11ms/step - loss: 0.4294 - accuracy: 0.0000e+00 - val_loss: 0.4416 - val_accuracy: 0.0000e+00\n",
            "Epoch 61/100\n",
            "3/3 [==============================] - 0s 12ms/step - loss: 0.4209 - accuracy: 0.0000e+00 - val_loss: 0.4515 - val_accuracy: 0.0000e+00\n",
            "Epoch 62/100\n",
            "3/3 [==============================] - 0s 15ms/step - loss: 0.4230 - accuracy: 0.0000e+00 - val_loss: 0.4375 - val_accuracy: 0.0000e+00\n",
            "Epoch 63/100\n",
            "3/3 [==============================] - 0s 12ms/step - loss: 0.4088 - accuracy: 0.0000e+00 - val_loss: 0.4284 - val_accuracy: 0.0000e+00\n",
            "Epoch 64/100\n",
            "3/3 [==============================] - 0s 13ms/step - loss: 0.3987 - accuracy: 0.0000e+00 - val_loss: 0.4308 - val_accuracy: 0.0000e+00\n",
            "Epoch 65/100\n",
            "3/3 [==============================] - 0s 13ms/step - loss: 0.3940 - accuracy: 0.0000e+00 - val_loss: 0.4298 - val_accuracy: 0.0000e+00\n",
            "Epoch 66/100\n",
            "3/3 [==============================] - 0s 13ms/step - loss: 0.3990 - accuracy: 0.0000e+00 - val_loss: 0.4441 - val_accuracy: 0.0000e+00\n",
            "Epoch 67/100\n",
            "3/3 [==============================] - 0s 12ms/step - loss: 0.3851 - accuracy: 0.0000e+00 - val_loss: 0.4524 - val_accuracy: 0.0000e+00\n",
            "Epoch 68/100\n",
            "3/3 [==============================] - 0s 19ms/step - loss: 0.3782 - accuracy: 0.0000e+00 - val_loss: 0.4479 - val_accuracy: 0.0000e+00\n",
            "Epoch 69/100\n",
            "3/3 [==============================] - 0s 13ms/step - loss: 0.3733 - accuracy: 0.0000e+00 - val_loss: 0.4533 - val_accuracy: 0.0000e+00\n",
            "Epoch 70/100\n",
            "3/3 [==============================] - 0s 13ms/step - loss: 0.3674 - accuracy: 0.0000e+00 - val_loss: 0.4326 - val_accuracy: 0.0000e+00\n",
            "Epoch 71/100\n",
            "3/3 [==============================] - 0s 11ms/step - loss: 0.3639 - accuracy: 0.0000e+00 - val_loss: 0.4272 - val_accuracy: 0.0000e+00\n",
            "Epoch 72/100\n",
            "3/3 [==============================] - 0s 15ms/step - loss: 0.3570 - accuracy: 0.0000e+00 - val_loss: 0.4330 - val_accuracy: 0.0000e+00\n",
            "Epoch 73/100\n",
            "3/3 [==============================] - 0s 14ms/step - loss: 0.3500 - accuracy: 0.0000e+00 - val_loss: 0.4229 - val_accuracy: 0.0000e+00\n",
            "Epoch 74/100\n",
            "3/3 [==============================] - 0s 14ms/step - loss: 0.3456 - accuracy: 0.0000e+00 - val_loss: 0.4300 - val_accuracy: 0.0000e+00\n",
            "Epoch 75/100\n",
            "3/3 [==============================] - 0s 13ms/step - loss: 0.3465 - accuracy: 0.0000e+00 - val_loss: 0.4330 - val_accuracy: 0.0000e+00\n",
            "Epoch 76/100\n",
            "3/3 [==============================] - 0s 11ms/step - loss: 0.3405 - accuracy: 0.0000e+00 - val_loss: 0.4347 - val_accuracy: 0.0000e+00\n",
            "Epoch 77/100\n",
            "3/3 [==============================] - 0s 12ms/step - loss: 0.3278 - accuracy: 0.0000e+00 - val_loss: 0.4272 - val_accuracy: 0.0000e+00\n",
            "Epoch 78/100\n",
            "3/3 [==============================] - 0s 12ms/step - loss: 0.3224 - accuracy: 0.0000e+00 - val_loss: 0.4130 - val_accuracy: 0.0000e+00\n",
            "Epoch 79/100\n",
            "3/3 [==============================] - 0s 11ms/step - loss: 0.3226 - accuracy: 0.0000e+00 - val_loss: 0.4271 - val_accuracy: 0.0000e+00\n",
            "Epoch 80/100\n",
            "3/3 [==============================] - 0s 12ms/step - loss: 0.3122 - accuracy: 0.0000e+00 - val_loss: 0.4255 - val_accuracy: 0.0000e+00\n",
            "Epoch 81/100\n",
            "3/3 [==============================] - 0s 12ms/step - loss: 0.3108 - accuracy: 0.0000e+00 - val_loss: 0.4252 - val_accuracy: 0.0000e+00\n",
            "Epoch 82/100\n",
            "3/3 [==============================] - 0s 11ms/step - loss: 0.3047 - accuracy: 0.0000e+00 - val_loss: 0.4138 - val_accuracy: 0.0000e+00\n",
            "Epoch 83/100\n",
            "3/3 [==============================] - 0s 14ms/step - loss: 0.3037 - accuracy: 0.0000e+00 - val_loss: 0.4300 - val_accuracy: 0.0000e+00\n",
            "Epoch 84/100\n",
            "3/3 [==============================] - 0s 12ms/step - loss: 0.2946 - accuracy: 0.0000e+00 - val_loss: 0.4311 - val_accuracy: 0.0000e+00\n",
            "Epoch 85/100\n",
            "3/3 [==============================] - 0s 13ms/step - loss: 0.2901 - accuracy: 0.0000e+00 - val_loss: 0.4166 - val_accuracy: 0.0000e+00\n",
            "Epoch 86/100\n",
            "3/3 [==============================] - 0s 12ms/step - loss: 0.2858 - accuracy: 0.0000e+00 - val_loss: 0.4232 - val_accuracy: 0.0000e+00\n",
            "Epoch 87/100\n",
            "3/3 [==============================] - 0s 13ms/step - loss: 0.2841 - accuracy: 0.0000e+00 - val_loss: 0.4362 - val_accuracy: 0.0000e+00\n",
            "Epoch 88/100\n",
            "3/3 [==============================] - 0s 13ms/step - loss: 0.2790 - accuracy: 0.0000e+00 - val_loss: 0.4319 - val_accuracy: 0.0000e+00\n",
            "Epoch 89/100\n",
            "3/3 [==============================] - 0s 13ms/step - loss: 0.2752 - accuracy: 0.0000e+00 - val_loss: 0.4428 - val_accuracy: 0.0000e+00\n",
            "Epoch 90/100\n",
            "3/3 [==============================] - 0s 15ms/step - loss: 0.2700 - accuracy: 0.0000e+00 - val_loss: 0.4407 - val_accuracy: 0.0000e+00\n",
            "Epoch 91/100\n",
            "3/3 [==============================] - 0s 13ms/step - loss: 0.2663 - accuracy: 0.0000e+00 - val_loss: 0.4371 - val_accuracy: 0.0000e+00\n",
            "Epoch 92/100\n",
            "3/3 [==============================] - 0s 13ms/step - loss: 0.2665 - accuracy: 0.0000e+00 - val_loss: 0.4361 - val_accuracy: 0.0000e+00\n",
            "Epoch 93/100\n",
            "3/3 [==============================] - 0s 12ms/step - loss: 0.2592 - accuracy: 0.0000e+00 - val_loss: 0.4340 - val_accuracy: 0.0000e+00\n",
            "Epoch 94/100\n",
            "3/3 [==============================] - 0s 13ms/step - loss: 0.2507 - accuracy: 0.0000e+00 - val_loss: 0.4279 - val_accuracy: 0.0000e+00\n",
            "Epoch 95/100\n",
            "3/3 [==============================] - 0s 15ms/step - loss: 0.2492 - accuracy: 0.0000e+00 - val_loss: 0.4242 - val_accuracy: 0.0000e+00\n",
            "Epoch 96/100\n",
            "3/3 [==============================] - 0s 13ms/step - loss: 0.2473 - accuracy: 0.0000e+00 - val_loss: 0.4352 - val_accuracy: 0.0000e+00\n",
            "Epoch 97/100\n",
            "3/3 [==============================] - 0s 12ms/step - loss: 0.2443 - accuracy: 0.0000e+00 - val_loss: 0.4282 - val_accuracy: 0.0000e+00\n",
            "Epoch 98/100\n",
            "3/3 [==============================] - 0s 14ms/step - loss: 0.2429 - accuracy: 0.0000e+00 - val_loss: 0.4303 - val_accuracy: 0.0000e+00\n",
            "Epoch 99/100\n",
            "3/3 [==============================] - 0s 14ms/step - loss: 0.2376 - accuracy: 0.0000e+00 - val_loss: 0.4329 - val_accuracy: 0.0000e+00\n",
            "Epoch 100/100\n",
            "3/3 [==============================] - 0s 12ms/step - loss: 0.2354 - accuracy: 0.0000e+00 - val_loss: 0.4275 - val_accuracy: 0.0000e+00\n"
          ]
        }
      ]
    },
    {
      "cell_type": "code",
      "source": [
        "y_pred3 = RN.predict(x_test)\n",
        "y_pred3\n"
      ],
      "metadata": {
        "id": "0NPQxoXd7ewg",
        "colab": {
          "base_uri": "https://localhost:8080/"
        },
        "outputId": "ba3c697a-225d-48e2-fe29-965ee63bd47c"
      },
      "execution_count": 626,
      "outputs": [
        {
          "output_type": "execute_result",
          "data": {
            "text/plain": [
              "array([[-1.2918426 ],\n",
              "       [ 0.30996114],\n",
              "       [ 0.28824067],\n",
              "       [ 0.87767184],\n",
              "       [-1.0794145 ],\n",
              "       [-0.85908973],\n",
              "       [-0.66360337],\n",
              "       [-0.387044  ],\n",
              "       [-0.44624075],\n",
              "       [-0.31263256],\n",
              "       [-0.13948923],\n",
              "       [ 0.31488383],\n",
              "       [-0.8282534 ],\n",
              "       [-0.5935308 ],\n",
              "       [ 0.14114507],\n",
              "       [ 0.38548172],\n",
              "       [ 1.5219547 ],\n",
              "       [ 0.8396626 ],\n",
              "       [-0.38142174],\n",
              "       [ 0.16371346],\n",
              "       [ 3.526104  ],\n",
              "       [ 0.23928556],\n",
              "       [-1.4716467 ],\n",
              "       [-0.8538459 ],\n",
              "       [-0.34494546]], dtype=float32)"
            ]
          },
          "metadata": {},
          "execution_count": 626
        }
      ]
    },
    {
      "cell_type": "code",
      "source": [
        "y_prev3 = scaler_y.inverse_transform(y_pred3.reshape(-1,1))\n",
        "y_real = scaler_y.inverse_transform(y_test.reshape(-1,1))"
      ],
      "metadata": {
        "id": "jdxGx02PK9ZA"
      },
      "execution_count": 627,
      "outputs": []
    },
    {
      "cell_type": "code",
      "source": [
        "# Gráfico do treinamento: custo do treino e validação\n",
        "import matplotlib.pyplot as plt\n",
        "plt.plot(history.history['loss'], label='train')\n",
        "plt.plot(history.history['val_loss'], label='validation')\n",
        "plt.title('Walmart - Loss de treino e validação')\n",
        "plt.ylabel('loss')\n",
        "plt.xlabel('época')\n",
        "plt.legend();"
      ],
      "metadata": {
        "colab": {
          "base_uri": "https://localhost:8080/",
          "height": 296
        },
        "id": "qSwVM_A-rF0p",
        "outputId": "58603ef0-92c6-4f3e-e816-baf9260b3055"
      },
      "execution_count": 628,
      "outputs": [
        {
          "output_type": "display_data",
          "data": {
            "text/plain": [
              "<Figure size 432x288 with 1 Axes>"
            ],
            "image/png": "[encoded data removed]"
          },
          "metadata": {
            "needs_background": "light"
          }
        }
      ]
    },
    {
      "cell_type": "code",
      "source": [
        "plt.plot(y_prev3, label='previsto', marker='o')\n",
        "plt.plot(y_real, label='real', marker='+')\n",
        "plt.ylabel(\"vendas\")\n",
        "plt.title(\"Walmart vendas - Real x Previsto\")\n",
        "plt.legend()\n",
        "plt.show()"
      ],
      "metadata": {
        "colab": {
          "base_uri": "https://localhost:8080/",
          "height": 281
        },
        "id": "0f3iJx4QJW4H",
        "outputId": "d828b415-e026-4b8f-94d9-eadb865d8df4"
      },
      "execution_count": 629,
      "outputs": [
        {
          "output_type": "display_data",
          "data": {
            "text/plain": [
              "<Figure size 432x288 with 1 Axes>"
            ],
            "image/png": "[encoded data removed]"
          },
          "metadata": {
            "needs_background": "light"
          }
        }
      ]
    },
    {
      "cell_type": "code",
      "source": [
        "import math\n",
        "from sklearn.metrics import mean_squared_error\n",
        "rmse = math.sqrt(mean_squared_error(y_prev3,y_real))\n",
        "print('RMSE: ', rmse)"
      ],
      "metadata": {
        "colab": {
          "base_uri": "https://localhost:8080/"
        },
        "outputId": "f8a6e3fe-1387-46ab-f137-6020ee142791",
        "id": "xHO8H-0kQIfU"
      },
      "execution_count": 630,
      "outputs": [
        {
          "output_type": "stream",
          "name": "stdout",
          "text": [
            "RMSE:  176657.5269359608\n"
          ]
        }
      ]
    },
    {
      "cell_type": "code",
      "source": [
        "mse = mean_squared_error(y_prev3,y_real)\n",
        "print('MSE: ',mse)"
      ],
      "metadata": {
        "colab": {
          "base_uri": "https://localhost:8080/"
        },
        "outputId": "313d1a83-3fab-41de-8b97-85a8f59ebb09",
        "id": "Chz-myZRQIfV"
      },
      "execution_count": 631,
      "outputs": [
        {
          "output_type": "stream",
          "name": "stdout",
          "text": [
            "MSE:  31207881823.129723\n"
          ]
        }
      ]
    },
    {
      "cell_type": "code",
      "source": [
        "mape = np.mean(np.abs((y_real - y_prev3) / y_real)) * 100\n",
        "print('MAPE: ',mape, '%')"
      ],
      "metadata": {
        "colab": {
          "base_uri": "https://localhost:8080/"
        },
        "outputId": "9a4bcca0-cfd6-41e4-8a5a-5bd9fc65f055",
        "id": "69gqQqK4QIfV"
      },
      "execution_count": 632,
      "outputs": [
        {
          "output_type": "stream",
          "name": "stdout",
          "text": [
            "MAPE:  6.932967876612207 %\n"
          ]
        }
      ]
    },
    {
      "cell_type": "code",
      "source": [
        "from sklearn.metrics import r2_score\n",
        "r2_score(y_pred3,y_test)"
      ],
      "metadata": {
        "colab": {
          "base_uri": "https://localhost:8080/"
        },
        "outputId": "90de5597-cefa-4b2e-a5a5-c2676ba6ab53",
        "id": "EPPpziMnQIfW"
      },
      "execution_count": 633,
      "outputs": [
        {
          "output_type": "execute_result",
          "data": {
            "text/plain": [
              "-0.2990645976255426"
            ]
          },
          "metadata": {},
          "execution_count": 633
        }
      ]
    },
    {
      "cell_type": "code",
      "source": [
        "rmspe = np.sqrt(np.mean(np.square(((y_real - y_prev3) / y_real)), axis=0)) * 100\n",
        "print('rmspe: ',rmspe, '%')"
      ],
      "metadata": {
        "colab": {
          "base_uri": "https://localhost:8080/"
        },
        "outputId": "958b9b27-4116-49f6-b7cf-71fa88d65689",
        "id": "yjdHmYDXQIfW"
      },
      "execution_count": 634,
      "outputs": [
        {
          "output_type": "stream",
          "name": "stdout",
          "text": [
            "rmspe:  [10.16531628] %\n"
          ]
        }
      ]
    },
    {
      "cell_type": "code",
      "source": [
        "timesteps_to_predict = 12\n",
        "lag = df.iloc[dataSize-window:dataSize,0].values\n",
        "\n",
        "predictions=[]\n",
        "for i in range(timesteps_to_predict):\n",
        "  lag = scaler_x.transform(lag.reshape(1,-1))\n",
        "  prediction = RN.predict(lag)\n",
        "  prediction_to_add = scaler_y.inverse_transform(prediction.reshape(-1,1))\n",
        "  predictions.append(prediction_to_add)\n",
        "  lag = scaler_x.inverse_transform(lag)\n",
        "\n",
        "  lag = lag[0, 1:]  \n",
        "  lag = np.append(lag, prediction_to_add)\n",
        "\n",
        "predictions = np.array(predictions).reshape(-1,1)\n"
      ],
      "metadata": {
        "id": "rgJNOMHo9epi"
      },
      "execution_count": 635,
      "outputs": []
    },
    {
      "cell_type": "code",
      "source": [
        "predictions"
      ],
      "metadata": {
        "colab": {
          "base_uri": "https://localhost:8080/"
        },
        "id": "EMrEJKYWZVj-",
        "outputId": "99ee3baf-5008-4d4f-e9a5-bcf47d87edb4"
      },
      "execution_count": 636,
      "outputs": [
        {
          "output_type": "execute_result",
          "data": {
            "text/plain": [
              "array([[1565794.2],\n",
              "       [1654679.1],\n",
              "       [1479533.2],\n",
              "       [1483798.1],\n",
              "       [1541326. ],\n",
              "       [1644910.2],\n",
              "       [1507736.8],\n",
              "       [1457653.1],\n",
              "       [1512246.5],\n",
              "       [1597465. ],\n",
              "       [1533109.8],\n",
              "       [1443623.8]], dtype=float32)"
            ]
          },
          "metadata": {},
          "execution_count": 636
        }
      ]
    },
    {
      "cell_type": "code",
      "source": [
        "all_data = np.vstack((df, predictions.tolist()))\n",
        "plt.figure(figsize=(10,5))\n",
        "plt.plot(all_data)\n",
        "plt.title('Previsão de série temporal')\n",
        "plt.xlabel('Tempo')\n",
        "plt.ylabel('vendas')\n",
        "\n",
        "# marca o início das previsões\n",
        "x = [len(df)-1, len(df)-1]\n",
        "y = [df['Weekly_Sales'].min(), df['Weekly_Sales'].max()]\n",
        "plt.plot(x, y, color='red')\n",
        "\n",
        "#salva o gráfico\n",
        "plt.show()\n"
      ],
      "metadata": {
        "colab": {
          "base_uri": "https://localhost:8080/",
          "height": 350
        },
        "id": "jpzap0pqZVvW",
        "outputId": "fcdf36fd-29c6-43ba-d6e1-847e752a7289"
      },
      "execution_count": 637,
      "outputs": [
        {
          "output_type": "display_data",
          "data": {
            "text/plain": [
              "<Figure size 720x360 with 1 Axes>"
            ],
            "image/png": "[encoded data removed]"
          },
          "metadata": {
            "needs_background": "light"
          }
        }
      ]
    },
    {
      "cell_type": "markdown",
      "source": [
        "# LSTM"
      ],
      "metadata": {
        "id": "f9voA97w7zE0"
      }
    },
    {
      "cell_type": "code",
      "source": [
        "# LSTM  with window regression framing\n",
        "import numpy\n",
        "import matplotlib.pyplot as plt\n",
        "from pandas import read_csv\n",
        "import math\n",
        "from keras.models import Sequential\n",
        "from keras.layers import Dense\n",
        "from keras.layers import LSTM\n",
        "from sklearn.preprocessing import MinMaxScaler\n",
        "from sklearn.metrics import mean_squared_error\n",
        "from keras.layers import Dense, LSTM, Dropout, GRU, Bidirectional\n",
        "from keras.callbacks import ReduceLROnPlateau\n",
        "from tensorflow.keras.layers import BatchNormalization\n",
        "from keras.callbacks import ModelCheckpoint, EarlyStopping"
      ],
      "metadata": {
        "id": "Q_LPdyby72EB"
      },
      "execution_count": 638,
      "outputs": []
    },
    {
      "cell_type": "code",
      "source": [
        "x_train.shape, x_test.shape"
      ],
      "metadata": {
        "id": "_NbEhyle78w-",
        "colab": {
          "base_uri": "https://localhost:8080/"
        },
        "outputId": "fa4e2dc5-cfd1-4669-e4a1-a046a3a8cb01"
      },
      "execution_count": 639,
      "outputs": [
        {
          "output_type": "execute_result",
          "data": {
            "text/plain": [
              "((98, 20), (25, 20))"
            ]
          },
          "metadata": {},
          "execution_count": 639
        }
      ]
    },
    {
      "cell_type": "code",
      "source": [
        "y_train.shape, y_test.shape"
      ],
      "metadata": {
        "id": "oA_bhGWi7_uv",
        "colab": {
          "base_uri": "https://localhost:8080/"
        },
        "outputId": "607f2dba-7335-4fce-af0c-7e29a9444dd5"
      },
      "execution_count": 640,
      "outputs": [
        {
          "output_type": "execute_result",
          "data": {
            "text/plain": [
              "((98, 1), (25, 1))"
            ]
          },
          "metadata": {},
          "execution_count": 640
        }
      ]
    },
    {
      "cell_type": "code",
      "source": [
        "# reshape input to be [samples, time steps, features]\n",
        "x_train_reshaped = numpy.reshape(x_train, (x_train.shape[0],-1, x_train.shape[1]))\n",
        "x_test_reshaped = numpy.reshape(x_test, (x_test.shape[0], -1, x_test.shape[1]))\n",
        "\n",
        "# create and fit the LSTM network\n",
        "model = Sequential()\n",
        "model.add(LSTM(32,input_shape=(x_train_reshaped.shape[1], x_train_reshaped.shape[2]) ,return_sequences=True))\n",
        "# model.add(Dropout(0.3))\n",
        "model.add(BatchNormalization())\n",
        "\n",
        "# batchnorm\n",
        "model.add(LSTM(8))\n",
        "model.add(Dropout(0.3))\n",
        "# model.add(BatchNormalization())\n",
        "\n",
        "# novas dense\n",
        "model.add(Dense(1))\n",
        "model.compile(loss = 'mean_squared_error', metrics=['mse'], optimizer='adam')\n",
        "\n",
        "\n",
        "monitor='val_loss'\n",
        "lr_reduce = ReduceLROnPlateau(monitor=monitor, factor=0.6, min_delta=0.0001, patience=4, verbose=1)\n",
        "early = EarlyStopping(monitor=monitor,mode=\"min\",patience=18)\n",
        "callbacks_list = [early, lr_reduce]\n",
        "\n",
        "model.fit(x_train_reshaped, y_train, epochs = 100, batch_size = 1, callbacks=callbacks_list,validation_data=(x_test_reshaped, y_test))\n",
        "\n"
      ],
      "metadata": {
        "id": "tmLfWKXY3a-H",
        "colab": {
          "base_uri": "https://localhost:8080/"
        },
        "outputId": "c5101072-4412-4cd5-ae96-b2516b0adada"
      },
      "execution_count": 641,
      "outputs": [
        {
          "output_type": "stream",
          "name": "stdout",
          "text": [
            "Epoch 1/100\n",
            "98/98 [==============================] - 3s 10ms/step - loss: 1.0017 - mse: 1.0017 - val_loss: 1.6542 - val_mse: 1.6542 - lr: 0.0010\n",
            "Epoch 2/100\n",
            "98/98 [==============================] - 0s 3ms/step - loss: 1.0040 - mse: 1.0040 - val_loss: 1.6456 - val_mse: 1.6456 - lr: 0.0010\n",
            "Epoch 3/100\n",
            "98/98 [==============================] - 0s 3ms/step - loss: 1.0022 - mse: 1.0022 - val_loss: 1.6410 - val_mse: 1.6410 - lr: 0.0010\n",
            "Epoch 4/100\n",
            "98/98 [==============================] - 0s 3ms/step - loss: 1.0038 - mse: 1.0038 - val_loss: 1.6539 - val_mse: 1.6539 - lr: 0.0010\n",
            "Epoch 5/100\n",
            "98/98 [==============================] - 0s 3ms/step - loss: 1.0044 - mse: 1.0044 - val_loss: 1.6419 - val_mse: 1.6419 - lr: 0.0010\n",
            "Epoch 6/100\n",
            "98/98 [==============================] - 0s 3ms/step - loss: 1.0035 - mse: 1.0035 - val_loss: 1.6442 - val_mse: 1.6442 - lr: 0.0010\n",
            "Epoch 7/100\n",
            "92/98 [===========================>..] - ETA: 0s - loss: 1.0436 - mse: 1.0436\n",
            "Epoch 7: ReduceLROnPlateau reducing learning rate to 0.0006000000284984708.\n",
            "98/98 [==============================] - 0s 3ms/step - loss: 1.0015 - mse: 1.0015 - val_loss: 1.6460 - val_mse: 1.6460 - lr: 0.0010\n",
            "Epoch 8/100\n",
            "98/98 [==============================] - 0s 3ms/step - loss: 0.9974 - mse: 0.9974 - val_loss: 1.6463 - val_mse: 1.6463 - lr: 6.0000e-04\n",
            "Epoch 9/100\n",
            "98/98 [==============================] - 0s 3ms/step - loss: 1.0006 - mse: 1.0006 - val_loss: 1.6498 - val_mse: 1.6498 - lr: 6.0000e-04\n",
            "Epoch 10/100\n",
            "98/98 [==============================] - 0s 3ms/step - loss: 1.0002 - mse: 1.0002 - val_loss: 1.6537 - val_mse: 1.6537 - lr: 6.0000e-04\n",
            "Epoch 11/100\n",
            "98/98 [==============================] - 0s 3ms/step - loss: 1.0049 - mse: 1.0049 - val_loss: 1.6322 - val_mse: 1.6322 - lr: 6.0000e-04\n",
            "Epoch 12/100\n",
            "98/98 [==============================] - 0s 3ms/step - loss: 0.9985 - mse: 0.9985 - val_loss: 1.6368 - val_mse: 1.6368 - lr: 6.0000e-04\n",
            "Epoch 13/100\n",
            "98/98 [==============================] - 0s 3ms/step - loss: 1.0025 - mse: 1.0025 - val_loss: 1.6388 - val_mse: 1.6388 - lr: 6.0000e-04\n",
            "Epoch 14/100\n",
            "98/98 [==============================] - 0s 3ms/step - loss: 1.0005 - mse: 1.0005 - val_loss: 1.6309 - val_mse: 1.6309 - lr: 6.0000e-04\n",
            "Epoch 15/100\n",
            "98/98 [==============================] - 0s 3ms/step - loss: 1.0004 - mse: 1.0004 - val_loss: 1.6281 - val_mse: 1.6281 - lr: 6.0000e-04\n",
            "Epoch 16/100\n",
            "98/98 [==============================] - 0s 4ms/step - loss: 0.9982 - mse: 0.9982 - val_loss: 1.6303 - val_mse: 1.6303 - lr: 6.0000e-04\n",
            "Epoch 17/100\n",
            "98/98 [==============================] - 0s 3ms/step - loss: 1.0059 - mse: 1.0059 - val_loss: 1.6273 - val_mse: 1.6273 - lr: 6.0000e-04\n",
            "Epoch 18/100\n",
            "98/98 [==============================] - 0s 3ms/step - loss: 1.0021 - mse: 1.0021 - val_loss: 1.6281 - val_mse: 1.6281 - lr: 6.0000e-04\n",
            "Epoch 19/100\n",
            "98/98 [==============================] - 0s 3ms/step - loss: 1.0003 - mse: 1.0003 - val_loss: 1.6375 - val_mse: 1.6375 - lr: 6.0000e-04\n",
            "Epoch 20/100\n",
            "98/98 [==============================] - 0s 3ms/step - loss: 1.0028 - mse: 1.0028 - val_loss: 1.6579 - val_mse: 1.6579 - lr: 6.0000e-04\n",
            "Epoch 21/100\n",
            "79/98 [=======================>......] - ETA: 0s - loss: 1.0626 - mse: 1.0626\n",
            "Epoch 21: ReduceLROnPlateau reducing learning rate to 0.0003600000170990825.\n",
            "98/98 [==============================] - 0s 3ms/step - loss: 1.0042 - mse: 1.0042 - val_loss: 1.6537 - val_mse: 1.6537 - lr: 6.0000e-04\n",
            "Epoch 22/100\n",
            "98/98 [==============================] - 0s 3ms/step - loss: 1.0031 - mse: 1.0031 - val_loss: 1.6603 - val_mse: 1.6603 - lr: 3.6000e-04\n",
            "Epoch 23/100\n",
            "98/98 [==============================] - 0s 3ms/step - loss: 0.9996 - mse: 0.9996 - val_loss: 1.6594 - val_mse: 1.6594 - lr: 3.6000e-04\n",
            "Epoch 24/100\n",
            "98/98 [==============================] - 0s 3ms/step - loss: 0.9987 - mse: 0.9987 - val_loss: 1.6703 - val_mse: 1.6703 - lr: 3.6000e-04\n",
            "Epoch 25/100\n",
            "82/98 [========================>.....] - ETA: 0s - loss: 0.7043 - mse: 0.7043\n",
            "Epoch 25: ReduceLROnPlateau reducing learning rate to 0.00021600000327453016.\n",
            "98/98 [==============================] - 0s 3ms/step - loss: 1.0015 - mse: 1.0015 - val_loss: 1.6614 - val_mse: 1.6614 - lr: 3.6000e-04\n",
            "Epoch 26/100\n",
            "98/98 [==============================] - 0s 3ms/step - loss: 1.0013 - mse: 1.0013 - val_loss: 1.6617 - val_mse: 1.6617 - lr: 2.1600e-04\n",
            "Epoch 27/100\n",
            "98/98 [==============================] - 0s 3ms/step - loss: 0.9967 - mse: 0.9967 - val_loss: 1.6653 - val_mse: 1.6653 - lr: 2.1600e-04\n",
            "Epoch 28/100\n",
            "98/98 [==============================] - 0s 3ms/step - loss: 1.0035 - mse: 1.0035 - val_loss: 1.6629 - val_mse: 1.6629 - lr: 2.1600e-04\n",
            "Epoch 29/100\n",
            "97/98 [============================>.] - ETA: 0s - loss: 1.0060 - mse: 1.0060\n",
            "Epoch 29: ReduceLROnPlateau reducing learning rate to 0.00012960000021848827.\n",
            "98/98 [==============================] - 0s 3ms/step - loss: 0.9998 - mse: 0.9998 - val_loss: 1.6654 - val_mse: 1.6654 - lr: 2.1600e-04\n",
            "Epoch 30/100\n",
            "98/98 [==============================] - 0s 2ms/step - loss: 1.0004 - mse: 1.0004 - val_loss: 1.6709 - val_mse: 1.6709 - lr: 1.2960e-04\n",
            "Epoch 31/100\n",
            "98/98 [==============================] - 0s 4ms/step - loss: 0.9967 - mse: 0.9967 - val_loss: 1.6709 - val_mse: 1.6709 - lr: 1.2960e-04\n",
            "Epoch 32/100\n",
            "98/98 [==============================] - 0s 3ms/step - loss: 0.9979 - mse: 0.9979 - val_loss: 1.6686 - val_mse: 1.6686 - lr: 1.2960e-04\n",
            "Epoch 33/100\n",
            "97/98 [============================>.] - ETA: 0s - loss: 1.0138 - mse: 1.0138\n",
            "Epoch 33: ReduceLROnPlateau reducing learning rate to 7.775999838486313e-05.\n",
            "98/98 [==============================] - 0s 4ms/step - loss: 1.0035 - mse: 1.0035 - val_loss: 1.6645 - val_mse: 1.6645 - lr: 1.2960e-04\n",
            "Epoch 34/100\n",
            "98/98 [==============================] - 0s 3ms/step - loss: 1.0009 - mse: 1.0009 - val_loss: 1.6632 - val_mse: 1.6632 - lr: 7.7760e-05\n",
            "Epoch 35/100\n",
            "98/98 [==============================] - 0s 3ms/step - loss: 0.9987 - mse: 0.9987 - val_loss: 1.6657 - val_mse: 1.6657 - lr: 7.7760e-05\n"
          ]
        },
        {
          "output_type": "execute_result",
          "data": {
            "text/plain": [
              "<keras.callbacks.History at 0x7fdbc16956d0>"
            ]
          },
          "metadata": {},
          "execution_count": 641
        }
      ]
    },
    {
      "cell_type": "code",
      "source": [
        "# make predictions\n",
        "trainPredict = model.predict(x_train_reshaped)\n",
        "testPredict = model.predict(x_test_reshaped)\n",
        "# invert predictions\n",
        "trainPredict = scaler_y.inverse_transform(trainPredict.reshape(-1,1))\n",
        "y_train_desnorm = scaler_y.inverse_transform(y_train)\n",
        "testPredict = scaler_y.inverse_transform(testPredict.reshape(-1,1))\n",
        "y_test_desnorm = scaler_y.inverse_transform(y_test)"
      ],
      "metadata": {
        "id": "XINgHeMr9B2P"
      },
      "execution_count": 642,
      "outputs": []
    },
    {
      "cell_type": "code",
      "source": [
        "trainPredict[:2]"
      ],
      "metadata": {
        "id": "qwcNQP5O90y6",
        "colab": {
          "base_uri": "https://localhost:8080/"
        },
        "outputId": "20767463-4c9a-41bd-f119-6a3e70eb5b80"
      },
      "execution_count": 643,
      "outputs": [
        {
          "output_type": "execute_result",
          "data": {
            "text/plain": [
              "array([[1528250.6],\n",
              "       [1567423.1]], dtype=float32)"
            ]
          },
          "metadata": {},
          "execution_count": 643
        }
      ]
    },
    {
      "cell_type": "code",
      "source": [
        "y_train_desnorm[:2]"
      ],
      "metadata": {
        "id": "5XphIsT492e0",
        "colab": {
          "base_uri": "https://localhost:8080/"
        },
        "outputId": "a19b827d-42f3-42a7-81a6-0915ac9ac616"
      },
      "execution_count": 644,
      "outputs": [
        {
          "output_type": "execute_result",
          "data": {
            "text/plain": [
              "array([[1494122.38],\n",
              "       [1351791.03]])"
            ]
          },
          "metadata": {},
          "execution_count": 644
        }
      ]
    },
    {
      "cell_type": "code",
      "source": [
        "# Gráfico do treinamento: treino e validação\n",
        "import matplotlib.pyplot as plt\n",
        "plt.plot(history.history['loss'], label='train')\n",
        "plt.plot(history.history['val_loss'], label='validation')\n",
        "plt.title('Walmart vendas - Treino x Validação')\n",
        "plt.ylabel('loss')\n",
        "plt.xlabel('época')\n",
        "plt.legend();"
      ],
      "metadata": {
        "colab": {
          "base_uri": "https://localhost:8080/",
          "height": 296
        },
        "id": "VoS3GGhTE8k-",
        "outputId": "4a61ff94-a6d8-4b40-8db5-67b47f89f312"
      },
      "execution_count": 645,
      "outputs": [
        {
          "output_type": "display_data",
          "data": {
            "text/plain": [
              "<Figure size 432x288 with 1 Axes>"
            ],
            "image/png": "[encoded data removed]"
          },
          "metadata": {
            "needs_background": "light"
          }
        }
      ]
    },
    {
      "cell_type": "code",
      "source": [
        "y_pred4 = model.predict(x_test_reshaped)\n",
        "y_pred4"
      ],
      "metadata": {
        "colab": {
          "base_uri": "https://localhost:8080/"
        },
        "id": "fE_HaXgYLzYh",
        "outputId": "a0799c16-5562-43d2-bc94-3413095418ee"
      },
      "execution_count": 646,
      "outputs": [
        {
          "output_type": "execute_result",
          "data": {
            "text/plain": [
              "array([[-0.05406592],\n",
              "       [-0.5138978 ],\n",
              "       [-0.1436863 ],\n",
              "       [-0.1106038 ],\n",
              "       [-0.29746386],\n",
              "       [ 0.35015893],\n",
              "       [-0.05993978],\n",
              "       [-0.02149298],\n",
              "       [-0.14556551],\n",
              "       [ 0.03659322],\n",
              "       [-0.07189045],\n",
              "       [-0.11011126],\n",
              "       [ 0.5259282 ],\n",
              "       [-0.12706499],\n",
              "       [-0.04158277],\n",
              "       [-0.13268928],\n",
              "       [-0.34965342],\n",
              "       [ 0.02324989],\n",
              "       [ 0.07331   ],\n",
              "       [-0.20261748],\n",
              "       [ 0.04328172],\n",
              "       [ 0.4602507 ],\n",
              "       [-0.15672992],\n",
              "       [-0.10771385],\n",
              "       [-0.17081422]], dtype=float32)"
            ]
          },
          "metadata": {},
          "execution_count": 646
        }
      ]
    },
    {
      "cell_type": "code",
      "source": [
        "y_prev4 = scaler_y.inverse_transform(y_pred4.reshape(-1,1))\n",
        "y_real = scaler_y.inverse_transform(y_test.reshape(-1,1))"
      ],
      "metadata": {
        "id": "C_PnKKXoL4bu"
      },
      "execution_count": 647,
      "outputs": []
    },
    {
      "cell_type": "code",
      "source": [
        "plt.plot(y_prev4, label='previsto', marker='o')\n",
        "plt.plot(y_real, label='real', marker='+')\n",
        "plt.ylabel(\"vendas\")\n",
        "plt.title(\"Walmart vendas - Real x Previsto\")\n",
        "plt.legend()\n",
        "plt.show()"
      ],
      "metadata": {
        "colab": {
          "base_uri": "https://localhost:8080/",
          "height": 281
        },
        "id": "g86jz0g0MFyF",
        "outputId": "c0659ad5-278c-47c6-8633-b6f57f68bfb6"
      },
      "execution_count": 648,
      "outputs": [
        {
          "output_type": "display_data",
          "data": {
            "text/plain": [
              "<Figure size 432x288 with 1 Axes>"
            ],
            "image/png": "[encoded data removed]"
          },
          "metadata": {
            "needs_background": "light"
          }
        }
      ]
    },
    {
      "cell_type": "code",
      "source": [
        "import math\n",
        "from sklearn.metrics import mean_squared_error\n",
        "rmse = math.sqrt(mean_squared_error(y_prev4,y_real))\n",
        "print('RMSE: ', rmse)"
      ],
      "metadata": {
        "colab": {
          "base_uri": "https://localhost:8080/"
        },
        "outputId": "554927e0-6d8b-435d-8991-6d3dd8ecd6d3",
        "id": "d4mWueRvWnpK"
      },
      "execution_count": 649,
      "outputs": [
        {
          "output_type": "stream",
          "name": "stdout",
          "text": [
            "RMSE:  198503.65678182148\n"
          ]
        }
      ]
    },
    {
      "cell_type": "code",
      "source": [
        "mse = mean_squared_error(y_prev4,y_real)\n",
        "print('MSE: ',mse)"
      ],
      "metadata": {
        "colab": {
          "base_uri": "https://localhost:8080/"
        },
        "outputId": "9944e824-920b-427c-d9bf-2a62fcd7e7d0",
        "id": "gViP66-3WnpL"
      },
      "execution_count": 650,
      "outputs": [
        {
          "output_type": "stream",
          "name": "stdout",
          "text": [
            "MSE:  39403701755.75518\n"
          ]
        }
      ]
    },
    {
      "cell_type": "code",
      "source": [
        "mape = np.mean(np.abs((y_real - y_prev4) / y_real)) * 100\n",
        "print('MAPE: ',mape, '%')"
      ],
      "metadata": {
        "colab": {
          "base_uri": "https://localhost:8080/"
        },
        "outputId": "62acadca-ff57-4bc8-fb57-57665aaa2bab",
        "id": "DZdylG4AWnpM"
      },
      "execution_count": 651,
      "outputs": [
        {
          "output_type": "stream",
          "name": "stdout",
          "text": [
            "MAPE:  7.346901703817006 %\n"
          ]
        }
      ]
    },
    {
      "cell_type": "code",
      "source": [
        "from sklearn.metrics import r2_score\n",
        "r2_score(y_pred4,y_test)"
      ],
      "metadata": {
        "colab": {
          "base_uri": "https://localhost:8080/"
        },
        "outputId": "ddf22b7a-8352-4ac4-ad02-2e2c4c81d795",
        "id": "rHNnHCE9WnpM"
      },
      "execution_count": 652,
      "outputs": [
        {
          "output_type": "execute_result",
          "data": {
            "text/plain": [
              "-32.391087545887245"
            ]
          },
          "metadata": {},
          "execution_count": 652
        }
      ]
    },
    {
      "cell_type": "code",
      "source": [
        "rmspe = np.sqrt(np.mean(np.square(((y_real - y_prev4) / y_real)), axis=0)) * 100\n",
        "print('rmspe: ',rmspe, '%')"
      ],
      "metadata": {
        "colab": {
          "base_uri": "https://localhost:8080/"
        },
        "outputId": "fb47c154-9731-42d8-de7b-153181836235",
        "id": "hkv0sPIrWnpM"
      },
      "execution_count": 653,
      "outputs": [
        {
          "output_type": "stream",
          "name": "stdout",
          "text": [
            "rmspe:  [10.22618955] %\n"
          ]
        }
      ]
    },
    {
      "cell_type": "code",
      "source": [
        "# calculate root mean squared error\n",
        "trainScore = math.sqrt(mean_squared_error(y_train_desnorm, trainPredict))\n",
        "print('Train Score: %.2f RMSE' % (trainScore))\n",
        "testScore = math.sqrt(mean_squared_error(y_test_desnorm, testPredict))\n",
        "print('Test Score: %.2f RMSE' % (testScore))"
      ],
      "metadata": {
        "id": "yE0Y5GzJ9gRj",
        "colab": {
          "base_uri": "https://localhost:8080/"
        },
        "outputId": "dc516610-7592-47f3-fc0f-7e3237e3f701"
      },
      "execution_count": 654,
      "outputs": [
        {
          "output_type": "stream",
          "name": "stdout",
          "text": [
            "Train Score: 160881.45 RMSE\n",
            "Test Score: 198503.66 RMSE\n"
          ]
        }
      ]
    },
    {
      "cell_type": "code",
      "source": [
        "#prevendo 12 passos a frente\n",
        "timesteps_to_predict = 12\n",
        "lag = df.iloc[dataSize-window:dataSize,0].values\n",
        "\n",
        "predictions=[]\n",
        "for i in range(timesteps_to_predict):\n",
        "  lag = scaler_x.transform(lag.reshape(1,-1))\n",
        "  lag = numpy.reshape(lag, (lag.shape[0], -1, lag.shape[1]))\n",
        "  prediction = model.predict(lag)\n",
        "  prediction_to_add = scaler_y.inverse_transform(prediction.reshape(-1,1))\n",
        "  predictions.append(prediction_to_add)\n",
        "  lag = scaler_x.inverse_transform(lag.reshape(-1,lag.shape[2]))\n",
        "\n",
        "  lag = lag[0, 1:]  \n",
        "  lag = np.append(lag, prediction_to_add)\n",
        "\n",
        "predictions = np.array(predictions).reshape(-1,1)\n"
      ],
      "metadata": {
        "id": "zwfXEPj9Zwso"
      },
      "execution_count": 655,
      "outputs": []
    },
    {
      "cell_type": "code",
      "source": [
        "all_data = np.vstack((df, predictions.tolist()))\n",
        "plt.figure(figsize=(10,5))\n",
        "plt.plot(all_data)\n",
        "plt.title('Previsão de série temporal')\n",
        "plt.xlabel('Tempo')\n",
        "plt.ylabel('vendas')\n",
        "\n",
        "# marca o início das previsões\n",
        "x = [len(df)-1, len(df)-1]\n",
        "y = [df['Weekly_Sales'].min(), df['Weekly_Sales'].max()]\n",
        "plt.plot(x, y, color='red')\n",
        "\n",
        "#salva o gráfico\n",
        "plt.show()\n"
      ],
      "metadata": {
        "id": "GV7-k33uZw29",
        "colab": {
          "base_uri": "https://localhost:8080/",
          "height": 350
        },
        "outputId": "7f4afc89-b80e-4111-8d2a-a99efd9da8a1"
      },
      "execution_count": 656,
      "outputs": [
        {
          "output_type": "display_data",
          "data": {
            "text/plain": [
              "<Figure size 720x360 with 1 Axes>"
            ],
            "image/png": "[encoded data removed]"
          },
          "metadata": {
            "needs_background": "light"
          }
        }
      ]
    }
  ]
}